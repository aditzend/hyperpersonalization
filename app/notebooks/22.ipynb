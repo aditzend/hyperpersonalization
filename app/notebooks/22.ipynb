{
 "cells": [
  {
   "cell_type": "markdown",
   "metadata": {},
   "source": [
    "Probando otra funcion de resumen que devuelva fechas de origen de la data."
   ]
  },
  {
   "cell_type": "code",
   "execution_count": 4,
   "metadata": {},
   "outputs": [],
   "source": [
    "from langchain.document_loaders import UnstructuredFileLoader\n",
    "loader = UnstructuredFileLoader(\"../../data/mastercard/s3.pdf\")\n",
    "docs = loader.load()\n",
    "context = docs[0].page_content"
   ]
  },
  {
   "cell_type": "markdown",
   "metadata": {},
   "source": [
    "Aca pruebo una funcion nueva en la que en vez de un resumen pruebo con una lista de oraciones.\n"
   ]
  },
  {
   "cell_type": "code",
   "execution_count": 30,
   "metadata": {},
   "outputs": [],
   "source": [
    "import openai\n",
    "import os\n",
    "import json\n",
    "\n",
    "openai.api_key = os.environ[\"OPENAI_API_KEY\"]\n",
    "MODEL = \"gpt-4-1106-preview\"\n",
    "\n",
    "\n",
    "def clean_data(text: str):\n",
    "    \"\"\"Transform text using OpenAI's API.\"\"\"\n",
    "    function_description = f\"\"\"\n",
    "    The user will give you a credit card consumption report with some meaningful data surrounded by meaningless data.\n",
    "    Extract all meaningful information from the document and create a list of sentences, put those in the 'sentences' field.\n",
    "    Then create a summary of the consumptions and due payments, put that summary in the summary field.\n",
    "    Use this format:\n",
    "    'The user [did/bought/used/paid/...] [something] on [date] at [place/store] for [amount of money].'\n",
    "    Then extract the name of the user and put it in the user field.\n",
    "    Then extract the date of the document and put it in the date field.\n",
    "    No important details should be left out.\n",
    "    This is very important information for the user, so please be sure to include all the relevant information.\n",
    "    \"\"\"\n",
    "    tools = [\n",
    "        {\"type\": \"function\",\n",
    "         \"function\":{\n",
    "            \"name\": \"default\",\n",
    "            \"description\": function_description,\n",
    "            \"parameters\": {\n",
    "                \"type\": \"object\",\n",
    "                \"properties\": {\n",
    "                    \"summary\": {\n",
    "                        \"type\": \"string\",\n",
    "                        \"description\": \"The summary of the document according to the function description.\",\n",
    "                    },\n",
    "                    \"sentences\": {\n",
    "                        \"type\": \"string\",\n",
    "                        \"description\": \"The sentences extracted of the document according to the function description.\",\n",
    "                    },\n",
    "                    \"user\": {\n",
    "                        \"type\": \"string\",\n",
    "                        \"description\": \"[User's first name] [User's last name]\",\n",
    "                    },\n",
    "                    \"date\": {\n",
    "                        \"type\": \"string\",\n",
    "                        \"description\": \"Date in the format YYYY-MM-DD\",\n",
    "                    },\n",
    "                },\n",
    "            },\n",
    "        }\n",
    "        }\n",
    "    ]\n",
    "    messages = [\n",
    "        {\"role\": \"user\", \"content\": text},\n",
    "    ]\n",
    "    try:\n",
    "        completion = openai.ChatCompletion.create(\n",
    "            model=MODEL,\n",
    "            messages=messages,\n",
    "            tools=tools,\n",
    "            tool_choice={\"type\":\"function\", \"function\": {\"name\": \"default\"}},\n",
    "        )\n",
    "        print(completion)\n",
    "        arguments = json.loads(\n",
    "            str(completion.choices[0])\n",
    "        )\n",
    "\n",
    "        return arguments\n",
    "\n",
    "    except openai.error.InvalidRequestError:\n",
    "        print(\"OpenAI request failed\")\n",
    "        return None"
   ]
  },
  {
   "cell_type": "code",
   "execution_count": 31,
   "metadata": {},
   "outputs": [
    {
     "name": "stdout",
     "output_type": "stream",
     "text": [
      "{\n",
      "  \"id\": \"chatcmpl-8IcFnieEyYLFfDkY9PAs5Dy0j9mwp\",\n",
      "  \"object\": \"chat.completion\",\n",
      "  \"created\": 1699447643,\n",
      "  \"model\": \"gpt-4-1106-preview\",\n",
      "  \"choices\": [\n",
      "    {\n",
      "      \"index\": 0,\n",
      "      \"message\": {\n",
      "        \"role\": \"assistant\",\n",
      "        \"content\": null,\n",
      "        \"tool_calls\": [\n",
      "          {\n",
      "            \"id\": \"call_Foh5CuSDOrXTCYwha5iAammL\",\n",
      "            \"type\": \"function\",\n",
      "            \"function\": {\n",
      "              \"name\": \"default\",\n",
      "              \"arguments\": \"{\\n  \\\"summary\\\": \\\"Alexander Ditzend used his Mastercard Platinum credit card for multiple transactions between September and October 2023. The card was charged for purchases at Scape Park, Autopistas, Don Web, Adobe, and various other vendors.\\\",\\n  \\\"sentences\\\": \\\"The user bought access to Scape Park on 24-Sep-23 for ARS 2,603.00. The user paid toll charges on 08-Sep-23 at Autopistas del 10/18. The user made payments to DON WEB on 14-Sep-23 for undisclosed amounts. The user made a purchase at PPRO *Adobe on 22-Sep-23. The user made payments on 22-Sep-23 and 01-Oct-23 at Autopistas del 10/18. The user paid for services from MERPAGO*NUEVASOCIALF on 03-Oct-23. The user purchased airline tickets from WWW.FLYBONDI.COM on 03-Oct-23. The user paid a CLARO PT bill on 04-Oct-23.\\\",\\n  \\\"user\\\": \\\"Alexander Ditzend\\\",\\n  \\\"date\\\": \\\"2023-11-09\\\"\\n}\"\n",
      "            }\n",
      "          }\n",
      "        ]\n",
      "      },\n",
      "      \"finish_reason\": \"stop\"\n",
      "    }\n",
      "  ],\n",
      "  \"usage\": {\n",
      "    \"prompt_tokens\": 3921,\n",
      "    \"completion_tokens\": 245,\n",
      "    \"total_tokens\": 4166\n",
      "  },\n",
      "  \"system_fingerprint\": \"fp_a24b4d720c\"\n",
      "}\n"
     ]
    }
   ],
   "source": [
    "summary = clean_data(text=context)"
   ]
  },
  {
   "cell_type": "code",
   "execution_count": 21,
   "metadata": {},
   "outputs": [
    {
     "data": {
      "text/plain": [
       "dict"
      ]
     },
     "execution_count": 21,
     "metadata": {},
     "output_type": "execute_result"
    }
   ],
   "source": [
    "type(summary)"
   ]
  },
  {
   "cell_type": "code",
   "execution_count": 22,
   "metadata": {},
   "outputs": [
    {
     "data": {
      "text/plain": [
       "{'summary': 'The user Alexander Ditzend had a total payment due of ARS 102,041.04 for his Mastercard Platinum credit card, with transactions spanning from 24-Sep-23 to 04-Oct-23, including purchases at Scape Park, toll payments, web services from Don Web, Adobe subscription, transactions at Flybondi.com and with Claro.',\n",
       " 'sentences': \"The user Alexander Ditzend paid ARS 102,041.04 on various dates for services which include: 'Scape Park' on 24-Sep-23, toll on 08-Sep-23 and 22-Sep-23, 'Don Web' services on 14-Sep-23, 'Adobe' subscription on 22-Sep-23, transaction at 'Flybondi.com' on 03-Oct-23, and 'Claro' service on 04-Oct-23.\",\n",
       " 'user': 'Alexander Ditzend',\n",
       " 'date': '2023-09-24'}"
      ]
     },
     "execution_count": 22,
     "metadata": {},
     "output_type": "execute_result"
    }
   ],
   "source": [
    "summary"
   ]
  },
  {
   "cell_type": "code",
   "execution_count": 10,
   "metadata": {},
   "outputs": [
    {
     "data": {
      "text/plain": [
       "'2023-09-07'"
      ]
     },
     "execution_count": 10,
     "metadata": {},
     "output_type": "execute_result"
    }
   ],
   "source": [
    "summary['date']\n"
   ]
  },
  {
   "cell_type": "code",
   "execution_count": 19,
   "metadata": {},
   "outputs": [
    {
     "ename": "KeyError",
     "evalue": "'sentences'",
     "output_type": "error",
     "traceback": [
      "\u001b[0;31m---------------------------------------------------------------------------\u001b[0m",
      "\u001b[0;31mKeyError\u001b[0m                                  Traceback (most recent call last)",
      "\u001b[1;32m/Users/alexander/Projects/hyperpersonalization/app/notebooks/22.ipynb Cell 8\u001b[0m line \u001b[0;36m1\n\u001b[0;32m----> <a href='vscode-notebook-cell:/Users/alexander/Projects/hyperpersonalization/app/notebooks/22.ipynb#X22sZmlsZQ%3D%3D?line=0'>1</a>\u001b[0m summary[\u001b[39m'\u001b[39;49m\u001b[39msentences\u001b[39;49m\u001b[39m'\u001b[39;49m]\n",
      "\u001b[0;31mKeyError\u001b[0m: 'sentences'"
     ]
    }
   ],
   "source": [
    "summary['sentences']"
   ]
  },
  {
   "cell_type": "code",
   "execution_count": 33,
   "metadata": {},
   "outputs": [
    {
     "data": {
      "text/plain": [
       "'ALEXANDER DITZEND'"
      ]
     },
     "execution_count": 33,
     "metadata": {},
     "output_type": "execute_result"
    }
   ],
   "source": [
    "summary['user']"
   ]
  },
  {
   "cell_type": "markdown",
   "metadata": {},
   "source": [
    "Paso siguiente: guardar el resumen en un indice junto con 'user' y 'date' como metadata ademas de 'source'. Que eso este disponible para hacer QA y generar preguntas de prueba con gpt4 para evaluar la capacidad."
   ]
  }
 ],
 "metadata": {
  "kernelspec": {
   "display_name": "venv",
   "language": "python",
   "name": "python3"
  },
  "language_info": {
   "codemirror_mode": {
    "name": "ipython",
    "version": 3
   },
   "file_extension": ".py",
   "mimetype": "text/x-python",
   "name": "python",
   "nbconvert_exporter": "python",
   "pygments_lexer": "ipython3",
   "version": "3.9.9"
  }
 },
 "nbformat": 4,
 "nbformat_minor": 2
}
