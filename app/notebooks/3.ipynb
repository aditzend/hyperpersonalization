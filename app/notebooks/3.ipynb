{
 "cells": [
  {
   "cell_type": "markdown",
   "metadata": {},
   "source": [
    "En este experimento se desea probar la búsqueda semántica en un espacio reducido pero mayor a un único vector, como se probó en el experimento 2. "
   ]
  },
  {
   "cell_type": "code",
   "execution_count": 3,
   "metadata": {},
   "outputs": [],
   "source": [
    "from langchain.embeddings.openai import OpenAIEmbeddings\n",
    "from langchain.vectorstores import FAISS\n",
    "import os\n",
    "import sys\n",
    "import redis\n",
    "from datetime import datetime\n",
    "from dotenv import load_dotenv\n",
    "sys.path.append('/Users/alexander/Projects/hyperpersonalization/app/tools')\n",
    "from vectordb import connect_to_redis, check_index_existance, add_message_to_db\n",
    "\n",
    "load_dotenv()\n",
    "\n",
    "redis_host = os.getenv(\"REDIS_HOST\") or \"localhost\"\n",
    "redis_port = os.getenv(\"REDIS_PORT\") or 6379\n",
    "index_name = \"conversations\"\n",
    "index_path = \"../indexes/conversations\"\n",
    "embeddings = OpenAIEmbeddings()\n",
    "\n",
    "db = FAISS.load_local(folder_path=index_path, index_name=index_name, embeddings=embeddings)\n"
   ]
  },
  {
   "cell_type": "markdown",
   "metadata": {},
   "source": [
    "Ingresamos información en la base semántica como extractos de conversaciones.\n"
   ]
  },
  {
   "cell_type": "markdown",
   "metadata": {},
   "source": [
    "A cada fragmento se le calculan los embeddings y se guardan junto con el texto original en la base. Siempre asociadas al identificador de la persona y el nombre gracias al uso de las metadatas.\n",
    "\n",
    "Esto permite compartimentalizar la información y filtrarla por usuario."
   ]
  },
  {
   "cell_type": "code",
   "execution_count": 6,
   "metadata": {},
   "outputs": [
    {
     "data": {
      "text/plain": [
       "['2b4e7776-2ba1-40c6-a5b8-4c52c7bfd09d']"
      ]
     },
     "execution_count": 6,
     "metadata": {},
     "output_type": "execute_result"
    }
   ],
   "source": [
    "metadatas = [{\"person_id\": \"alexander.ditzend\", \"person_name\": \"Alexander\"}]\n",
    "timestamp = datetime.now().isoformat()\n",
    "message = {\"timestamp\": timestamp, \"content\": \"mi madre se llama Alicia, tiene 66, es jubilada\" }\n",
    "text = str(message)\n",
    "db.add_texts(texts=[text], embedding=embeddings, metadatas=metadatas)"
   ]
  },
  {
   "cell_type": "code",
   "execution_count": 9,
   "metadata": {},
   "outputs": [
    {
     "data": {
      "text/plain": [
       "['8365053e-e582-4bdb-9892-36d2499a78a1']"
      ]
     },
     "execution_count": 9,
     "metadata": {},
     "output_type": "execute_result"
    }
   ],
   "source": [
    "metadatas = [{\"person_id\": \"alexander.ditzend\", \"person_name\": \"Alexander\"}]\n",
    "timestamp = datetime.now().isoformat()\n",
    "message = {\"timestamp\": timestamp, \"content\": \"mis hijas se llaman Aurora y Alba, Aurora tiene 12 y Alba 9\" }\n",
    "text = str(message)\n",
    "db.add_texts(texts=[text], embedding=embeddings, metadatas=metadatas)"
   ]
  },
  {
   "cell_type": "code",
   "execution_count": 12,
   "metadata": {},
   "outputs": [
    {
     "data": {
      "text/plain": [
       "['89b188cb-5eed-44fe-92d8-cc62c077e676']"
      ]
     },
     "execution_count": 12,
     "metadata": {},
     "output_type": "execute_result"
    }
   ],
   "source": [
    "metadatas = [{\"person_id\": \"alexander.ditzend\", \"person_name\": \"Alexander\"}]\n",
    "timestamp = datetime.now().isoformat()\n",
    "message = {\"timestamp\": timestamp, \"content\": \"a mis hijas no les gusta estar en el pasillo, siempre ventana\" }\n",
    "text = str(message)\n",
    "db.add_texts(texts=[text], embedding=embeddings, metadatas=metadatas)"
   ]
  },
  {
   "cell_type": "markdown",
   "metadata": {},
   "source": [
    "Ahora comenzamos a hacer preguntas dentro de \"query\" y observamos la respuesta de la base. En orden de similitud recibimos los vectores que podemos usar para componer una respuesta o usar en algún proceso de razonamiento con un LLM."
   ]
  },
  {
   "cell_type": "code",
   "execution_count": 10,
   "metadata": {},
   "outputs": [
    {
     "data": {
      "text/plain": [
       "[(Document(page_content=\"{'timestamp': '2023-07-12T12:20:08.065627', 'content': 'mi madre se llama Alicia, tiene 66, es jubilada'}\", metadata={'person_id': 'alexander.ditzend', 'person_name': 'Alexander'}),\n",
       "  0.43335056)]"
      ]
     },
     "execution_count": 10,
     "metadata": {},
     "output_type": "execute_result"
    }
   ],
   "source": [
    "query = \"cuantos años tiene la madre del cliente?\"\n",
    "filter = {\"person_id\": \"alexander.ditzend\"}\n",
    "db.similarity_search_with_score(query=query, embeddings=embeddings, filter=filter, k=1)"
   ]
  },
  {
   "cell_type": "code",
   "execution_count": 14,
   "metadata": {},
   "outputs": [
    {
     "data": {
      "text/plain": [
       "[(Document(page_content=\"{'timestamp': '2023-07-12T12:23:34.853229', 'content': 'a mis hijas no les gusta estar en el pasillo, siempre ventana'}\", metadata={'person_id': 'alexander.ditzend', 'person_name': 'Alexander'}),\n",
       "  0.45402932),\n",
       " (Document(page_content=\"{'timestamp': '2023-07-12T12:22:19.835459', 'content': 'mis hijas se llaman Aurora y Alba, Aurora tiene 12 y Alba 9'}\", metadata={'person_id': 'alexander.ditzend', 'person_name': 'Alexander'}),\n",
       "  0.46825188)]"
      ]
     },
     "execution_count": 14,
     "metadata": {},
     "output_type": "execute_result"
    }
   ],
   "source": [
    "query = \"tiene hijos?\"\n",
    "filter = {\"person_id\": \"alexander.ditzend\"}\n",
    "db.similarity_search_with_score(query=query, embeddings=embeddings, filter=filter, k=2)"
   ]
  },
  {
   "cell_type": "code",
   "execution_count": 15,
   "metadata": {},
   "outputs": [
    {
     "data": {
      "text/plain": [
       "[(Document(page_content=\"{'timestamp': '2023-07-12T12:23:34.853229', 'content': 'a mis hijas no les gusta estar en el pasillo, siempre ventana'}\", metadata={'person_id': 'alexander.ditzend', 'person_name': 'Alexander'}),\n",
       "  0.48871845),\n",
       " (Document(page_content=\"{'timestamp': '2023-07-12T12:22:19.835459', 'content': 'mis hijas se llaman Aurora y Alba, Aurora tiene 12 y Alba 9'}\", metadata={'person_id': 'alexander.ditzend', 'person_name': 'Alexander'}),\n",
       "  0.53449)]"
      ]
     },
     "execution_count": 15,
     "metadata": {},
     "output_type": "execute_result"
    }
   ],
   "source": [
    "query = \"cuales son las preferencias de los hijos?\"\n",
    "filter = {\"person_id\": \"alexander.ditzend\"}\n",
    "db.similarity_search_with_score(query=query, embeddings=embeddings, filter=filter, k=2)"
   ]
  },
  {
   "cell_type": "code",
   "execution_count": 16,
   "metadata": {},
   "outputs": [
    {
     "data": {
      "text/plain": [
       "[(Document(page_content=\"{'timestamp': '2023-07-12T12:22:19.835459', 'content': 'mis hijas se llaman Aurora y Alba, Aurora tiene 12 y Alba 9'}\", metadata={'person_id': 'alexander.ditzend', 'person_name': 'Alexander'}),\n",
       "  0.42045504),\n",
       " (Document(page_content=\"{'timestamp': '2023-07-12T12:23:34.853229', 'content': 'a mis hijas no les gusta estar en el pasillo, siempre ventana'}\", metadata={'person_id': 'alexander.ditzend', 'person_name': 'Alexander'}),\n",
       "  0.44310012)]"
      ]
     },
     "execution_count": 16,
     "metadata": {},
     "output_type": "execute_result"
    }
   ],
   "source": [
    "query = \"edad de la hija mayor\"\n",
    "filter = {\"person_id\": \"alexander.ditzend\"}\n",
    "db.similarity_search_with_score(query=query, embeddings=embeddings, filter=filter, k=2)"
   ]
  },
  {
   "cell_type": "markdown",
   "metadata": {},
   "source": [
    "En todos los casos las respuestas de la base son correctas, se ha comprobado en este experimento que la búsqueda por similitud usando embeddings puede ser aplicable al objetivo que se busca en este trabajo. \n",
    "\n",
    "Sigue la misma consideración que en los experimentos anteriores, esto es, que las conclusiones obtenidas de un universo tan diminuto no pueden extrapolarse a un escenario real, órdenes de magnitud superior en cantidad de vectores. "
   ]
  }
 ],
 "metadata": {
  "kernelspec": {
   "display_name": "venv",
   "language": "python",
   "name": "python3"
  },
  "language_info": {
   "codemirror_mode": {
    "name": "ipython",
    "version": 3
   },
   "file_extension": ".py",
   "mimetype": "text/x-python",
   "name": "python",
   "nbconvert_exporter": "python",
   "pygments_lexer": "ipython3",
   "version": "3.9.9"
  },
  "orig_nbformat": 4
 },
 "nbformat": 4,
 "nbformat_minor": 2
}
