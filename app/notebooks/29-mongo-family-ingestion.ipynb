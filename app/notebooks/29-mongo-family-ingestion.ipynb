{
 "cells": [
  {
   "cell_type": "code",
   "execution_count": null,
   "metadata": {},
   "outputs": [],
   "source": [
    "from pymongo import MongoClient\n",
    "\n",
    "# Connect to the local MongoDB Atlas server\n",
    "client = MongoClient('mongodb://localhost:27017/')\n",
    "\n",
    "# Select the database (create it if it doesn't exist)\n",
    "db = client['family_database']\n",
    "\n",
    "# Select a collection (create it if it doesn't exist)\n",
    "collection = db['family_members']\n",
    "\n",
    "print(\"Connected to MongoDB Atlas server successfully!\")\n"
   ]
  }
 ],
 "metadata": {
  "kernelspec": {
   "display_name": ".venv",
   "language": "python",
   "name": "python3"
  },
  "language_info": {
   "name": "python",
   "version": "3.11.1"
  }
 },
 "nbformat": 4,
 "nbformat_minor": 2
}
