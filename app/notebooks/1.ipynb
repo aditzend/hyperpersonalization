{
 "cells": [
  {
   "cell_type": "code",
   "execution_count": 14,
   "metadata": {},
   "outputs": [],
   "source": [
    "from langchain.embeddings.openai import OpenAIEmbeddings\n",
    "from langchain.vectorstores import FAISS\n",
    "import os\n",
    "import redis"
   ]
  },
  {
   "cell_type": "code",
   "execution_count": 15,
   "metadata": {},
   "outputs": [],
   "source": [
    "from dotenv import load_dotenv\n",
    "\n",
    "load_dotenv()\n",
    "\n",
    "redis_host = os.getenv(\"REDIS_HOST\") or \"localhost\"\n",
    "redis_port = os.getenv(\"REDIS_PORT\") or 6379"
   ]
  },
  {
   "cell_type": "code",
   "execution_count": 16,
   "metadata": {},
   "outputs": [],
   "source": [
    "def connect_to_redis():\n",
    "    return redis.Redis(host=redis_host, port=redis_port, db=0)\n",
    "\n",
    "\n",
    "def check_index_existance(index=\"main\") -> bool:\n",
    "    redis_conn = connect_to_redis()\n",
    "    index_key = f\"indexes:{index}\"\n",
    "    if redis_conn.get(index_key) is None:\n",
    "        return False\n",
    "    else:\n",
    "        return True"
   ]
  },
  {
   "cell_type": "code",
   "execution_count": 20,
   "metadata": {},
   "outputs": [],
   "source": [
    "messages = [\"Hello, my name is John. I am a software engineer.\"]\n",
    "index = \"main\""
   ]
  },
  {
   "cell_type": "code",
   "execution_count": 21,
   "metadata": {},
   "outputs": [
    {
     "data": {
      "text/plain": [
       "langchain.vectorstores.faiss.FAISS"
      ]
     },
     "execution_count": 21,
     "metadata": {},
     "output_type": "execute_result"
    }
   ],
   "source": [
    "FAISS"
   ]
  },
  {
   "attachments": {},
   "cell_type": "markdown",
   "metadata": {},
   "source": [
    "Creamos un index general y accedemos a la data del usuario por metadata. {person_id:str}"
   ]
  },
  {
   "cell_type": "code",
   "execution_count": 25,
   "metadata": {},
   "outputs": [],
   "source": [
    "embeddings = OpenAIEmbeddings()\n",
    "metadatas = [{\"person_id\": \"john\", \"person_name\": \"John\"}]\n",
    "conversations = FAISS.from_texts(texts=[\"hi\"], embedding=embeddings, metadatas=metadatas)"
   ]
  },
  {
   "cell_type": "code",
   "execution_count": 29,
   "metadata": {},
   "outputs": [
    {
     "data": {
      "text/plain": [
       "['027065ea-f01a-448d-aae2-93c05ca62768']"
      ]
     },
     "execution_count": 29,
     "metadata": {},
     "output_type": "execute_result"
    }
   ],
   "source": [
    "metadatas = [{\"person_id\": \"mary\", \"person_name\": \"Mary\"}]\n",
    "conversations.add_texts(texts=[\"hi whats up?\"], metadatas=metadatas)"
   ]
  },
  {
   "cell_type": "code",
   "execution_count": 34,
   "metadata": {},
   "outputs": [
    {
     "data": {
      "text/plain": [
       "[Document(page_content='hi whats up?', metadata={'person_id': 'mary', 'person_name': 'Mary'})]"
      ]
     },
     "execution_count": 34,
     "metadata": {},
     "output_type": "execute_result"
    }
   ],
   "source": [
    "conversations.similarity_search(query=\"hi\", k=2, filter={\"person_id\": \"mary\"})"
   ]
  },
  {
   "attachments": {},
   "cell_type": "markdown",
   "metadata": {},
   "source": [
    "No es necesario armar indexes para cada persona, ni siquiera ser estricto con el schema, uno puede extraer el vector que quiera por similitud semántica."
   ]
  },
  {
   "cell_type": "code",
   "execution_count": null,
   "metadata": {},
   "outputs": [],
   "source": []
  }
 ],
 "metadata": {
  "kernelspec": {
   "display_name": "venv",
   "language": "python",
   "name": "python3"
  },
  "language_info": {
   "codemirror_mode": {
    "name": "ipython",
    "version": 3
   },
   "file_extension": ".py",
   "mimetype": "text/x-python",
   "name": "python",
   "nbconvert_exporter": "python",
   "pygments_lexer": "ipython3",
   "version": "3.11.1"
  },
  "orig_nbformat": 4
 },
 "nbformat": 4,
 "nbformat_minor": 2
}
