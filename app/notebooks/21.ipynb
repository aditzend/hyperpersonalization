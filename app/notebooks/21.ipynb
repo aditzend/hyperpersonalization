{
 "cells": [
  {
   "cell_type": "markdown",
   "metadata": {},
   "source": [
    "Probando otra funcion de resumen que devuelva fechas de origen de la data."
   ]
  },
  {
   "cell_type": "code",
   "execution_count": 3,
   "metadata": {},
   "outputs": [],
   "source": [
    "from langchain.document_loaders import UnstructuredFileLoader\n",
    "loader = UnstructuredFileLoader(\"../../data/mastercard/s3.pdf\")\n",
    "docs = loader.load()\n",
    "context = docs[0].page_content"
   ]
  },
  {
   "cell_type": "code",
   "execution_count": 4,
   "metadata": {},
   "outputs": [],
   "source": [
    "import openai\n",
    "import os\n",
    "import json\n",
    "\n",
    "openai.api_key = os.environ[\"OPENAI_API_KEY\"]\n",
    "MODEL = \"gpt-4-1106-preview\"\n",
    "\n",
    "\n",
    "def summarize_and_extract_metadata(text_to_summarize: str):\n",
    "    \"\"\"Summarize text using OpenAI's API.\"\"\"\n",
    "    function_description = f\"\"\"\n",
    "    The user will give you an important document with some meaningful data surrounded by meaningless data.\n",
    "    Extract all meaningful information from the document and create a summary, put that summary in the summary field.\n",
    "    Then extract the name of the user and put it in the user field.\n",
    "    Then extract the date of the document and put it in the date field.\n",
    "    No important details should be left out.\n",
    "    This is very important information for the user, so please be sure to include all the relevant information.\n",
    "    Use this format:\n",
    "    'The user [did/bought/used/paid/...] [something] on [date] at [place/store] for [amount of money].'\n",
    "    \"\"\"\n",
    "    functions = [\n",
    "        {\n",
    "            \"name\": \"default\",\n",
    "            \"description\": function_description,\n",
    "            \"parameters\": {\n",
    "                \"type\": \"object\",\n",
    "                \"properties\": {\n",
    "                    \"summary\": {\n",
    "                        \"type\": \"string\",\n",
    "                        \"description\": \"The summary of the document according to the function description.\",\n",
    "                    },\n",
    "                    \"user\": {\n",
    "                        \"type\": \"string\",\n",
    "                        \"description\": \"[User's first name] [User's last name]\",\n",
    "                    },\n",
    "                    \"date\": {\n",
    "                        \"type\": \"string\",\n",
    "                        \"description\": \"Date in the format YYYY-MM-DD\",\n",
    "                    },\n",
    "                },\n",
    "            },\n",
    "        }\n",
    "    ]\n",
    "    messages = [\n",
    "        {\"role\": \"user\", \"content\": text_to_summarize},\n",
    "    ]\n",
    "    try:\n",
    "        completion = openai.ChatCompletion.create(\n",
    "            model=MODEL,\n",
    "            messages=messages,\n",
    "            functions=functions,\n",
    "            function_call={\"name\": \"default\"},\n",
    "        )\n",
    "        arguments = json.loads(\n",
    "            str(completion.choices[0][\"message\"][\"function_call\"][\"arguments\"])\n",
    "        )\n",
    "\n",
    "        return arguments\n",
    "\n",
    "    except openai.error.InvalidRequestError:\n",
    "        print(\"openai request failed\")\n",
    "        return None"
   ]
  },
  {
   "cell_type": "code",
   "execution_count": 5,
   "metadata": {},
   "outputs": [],
   "source": [
    "summary = summarize_and_extract_metadata(context)"
   ]
  },
  {
   "cell_type": "markdown",
   "metadata": {},
   "source": [
    "  Si guardo todo el documento despues puedo mandar este solo como contexto porque toma casi 4k tokens, en cambio si guardo los resumenes filtro solo el contenido util sin perder la referencia al archivo fuente por si se necesita.\n",
    "  \n",
    "  `\"usage\": {\n",
    "    \"prompt_tokens\": 3803,\n",
    "    \"completion_tokens\": 254,\n",
    "    \"total_tokens\": 4057\n",
    "  }`"
   ]
  },
  {
   "cell_type": "code",
   "execution_count": 24,
   "metadata": {},
   "outputs": [
    {
     "data": {
      "text/plain": [
       "dict"
      ]
     },
     "execution_count": 24,
     "metadata": {},
     "output_type": "execute_result"
    }
   ],
   "source": [
    "type(summary)"
   ]
  },
  {
   "cell_type": "code",
   "execution_count": 6,
   "metadata": {},
   "outputs": [
    {
     "data": {
      "text/plain": [
       "'2023-10-17'"
      ]
     },
     "execution_count": 6,
     "metadata": {},
     "output_type": "execute_result"
    }
   ],
   "source": [
    "summary['date']\n"
   ]
  },
  {
   "cell_type": "code",
   "execution_count": 7,
   "metadata": {},
   "outputs": [
    {
     "data": {
      "text/plain": [
       "'The user Alexander Ditzend made purchases on various dates at Scape Park, Autopistas, Don Web, PPRO *Adobe, and other vendors on his Mastercard Platinum Credit Card, resulting in a total amount due of 102,041.04 ARS as of 17-Oct-23.'"
      ]
     },
     "execution_count": 7,
     "metadata": {},
     "output_type": "execute_result"
    }
   ],
   "source": [
    "summary['summary']"
   ]
  },
  {
   "cell_type": "code",
   "execution_count": 33,
   "metadata": {},
   "outputs": [
    {
     "data": {
      "text/plain": [
       "'ALEXANDER DITZEND'"
      ]
     },
     "execution_count": 33,
     "metadata": {},
     "output_type": "execute_result"
    }
   ],
   "source": [
    "summary['user']"
   ]
  },
  {
   "cell_type": "markdown",
   "metadata": {},
   "source": [
    "Paso siguiente: guardar el resumen en un indice junto con 'user' y 'date' como metadata ademas de 'source'. Que eso este disponible para hacer QA y generar preguntas de prueba con gpt4 para evaluar la capacidad."
   ]
  }
 ],
 "metadata": {
  "kernelspec": {
   "display_name": "venv",
   "language": "python",
   "name": "python3"
  },
  "language_info": {
   "codemirror_mode": {
    "name": "ipython",
    "version": 3
   },
   "file_extension": ".py",
   "mimetype": "text/x-python",
   "name": "python",
   "nbconvert_exporter": "python",
   "pygments_lexer": "ipython3",
   "version": "3.9.9"
  }
 },
 "nbformat": 4,
 "nbformat_minor": 2
}
