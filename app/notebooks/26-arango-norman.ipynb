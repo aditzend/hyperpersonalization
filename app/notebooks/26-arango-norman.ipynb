{
 "cells": [
  {
   "cell_type": "markdown",
   "metadata": {},
   "source": [
    "Inserción de los datos de Norman en la base de datos de ArangoDB"
   ]
  },
  {
   "cell_type": "code",
   "execution_count": 5,
   "metadata": {},
   "outputs": [],
   "source": [
    "from dotenv import load_dotenv\n",
    "\n",
    "load_dotenv()\n",
    "\n",
    "OPENAI_API_TYPE = \"openai\""
   ]
  },
  {
   "cell_type": "code",
   "execution_count": 17,
   "metadata": {},
   "outputs": [
    {
     "name": "stdout",
     "output_type": "stream",
     "text": [
      "Success: reusing cached credentials\n",
      "{\n",
      "  \"dbName\": \"TUTj7i7fm55rmp58xz4lw6skg\",\n",
      "  \"username\": \"TUTbu0jwwiqud451fyooi8ww4\",\n",
      "  \"password\": \"TUTue5dopxl90qrvij44492e\",\n",
      "  \"hostname\": \"tutorials.arangodb.cloud\",\n",
      "  \"port\": 8529,\n",
      "  \"url\": \"https://tutorials.arangodb.cloud:8529\"\n",
      "}\n"
     ]
    }
   ],
   "source": [
    "# Instantiate ArangoDB Database\n",
    "import json\n",
    "\n",
    "from adb_cloud_connector import get_temp_credentials\n",
    "from arango import ArangoClient\n",
    "\n",
    "con = get_temp_credentials()\n",
    "\n",
    "db = ArangoClient(hosts=con[\"url\"]).db(\n",
    "    con[\"dbName\"], con[\"username\"], con[\"password\"], verify=True\n",
    ")\n",
    "\n",
    "print(json.dumps(con, indent=2))"
   ]
  },
  {
   "cell_type": "markdown",
   "metadata": {},
   "source": [
    "Se elimina el grafo Norman si ya existe \n",
    "\n"
   ]
  },
  {
   "cell_type": "code",
   "execution_count": 63,
   "metadata": {},
   "outputs": [],
   "source": [
    "if db.has_graph(\"Norman\"):\n",
    "    db.delete_graph(\"Norman\", drop_collections=True)"
   ]
  },
  {
   "cell_type": "markdown",
   "metadata": {},
   "source": [
    "Se crean las colecciones necesarias"
   ]
  },
  {
   "cell_type": "code",
   "execution_count": 64,
   "metadata": {},
   "outputs": [
    {
     "data": {
      "text/plain": [
       "{'error': False,\n",
       " 'created': 4,\n",
       " 'errors': 0,\n",
       " 'empty': 0,\n",
       " 'updated': 0,\n",
       " 'ignored': 0,\n",
       " 'details': []}"
      ]
     },
     "execution_count": 64,
     "metadata": {},
     "output_type": "execute_result"
    }
   ],
   "source": [
    "\n",
    "\n",
    "db.create_graph(\n",
    "    \"Norman\",\n",
    "    edge_definitions=[\n",
    "        {\n",
    "            \"edge_collection\": \"is_son_of\",\n",
    "            \"from_vertex_collections\": [\"Persons\"],\n",
    "            \"to_vertex_collections\": [\"Persons\"],\n",
    "        },\n",
    "        {\n",
    "            \"edge_collection\": \"is_father_of\",\n",
    "            \"from_vertex_collections\": [\"Persons\"],\n",
    "            \"to_vertex_collections\": [\"Persons\"],\n",
    "        },\n",
    "    ],\n",
    ")\n",
    "\n",
    "normans_family_members = [\n",
    "    {\n",
    "        \"name\": \"Norman\",\n",
    "        \"_key\": \"Norman\",\n",
    "        \"family_name\": \"Gonzalez\",\n",
    "        \"age\": 41,\n",
    "    },\n",
    "    {\n",
    "      \"name\": \"Julia\",\n",
    "      \"_key\": \"Julia\",\n",
    "      \"family_name\": \"Gonzalez\",\n",
    "      \"age\": 40,\n",
    "      \"relationship_to_Norman\": \"Wife\"\n",
    "    },\n",
    "    {\n",
    "      \"name\": \"Lucas\",\n",
    "      \"_key\": \"Lucas\",\n",
    "      \"family_name\": \"Gonzalez\",\n",
    "      \"age\": 10,\n",
    "      \"relationship_to_Norman\": \"Son\"\n",
    "    },\n",
    "    {\n",
    "      \"name\": \"Mia\",\n",
    "      \"_key\": \"Mia\",\n",
    "      \"family_name\": \"Gonzalez\",\n",
    "      \"age\": 8,\n",
    "      \"relationship_to_Norman\": \"Daughter\"\n",
    "    },\n",
    "    {\n",
    "      \"name\": \"Eva\",\n",
    "      \"_key\": \"Eva\",\n",
    "      \"family_name\": \"Gonzalez\",\n",
    "      \"age\": 8,\n",
    "      \"relationship_to_Norman\": \"Daughter\"\n",
    "    },\n",
    "    {\n",
    "      \"name\": \"Carlos\",\n",
    "      \"_key\": \"Carlos\",\n",
    "      \"family_name\": \"Gonzalez\",\n",
    "      \"age\": 68,\n",
    "      \"relationship_to_Norman\": \"Father\"\n",
    "    },\n",
    "    {\n",
    "      \"name\": \"Isabel\",\n",
    "      \"_key\": \"Isabel\",\n",
    "      \"family_name\": \"Gonzalez\",\n",
    "      \"age\": 65,\n",
    "      \"relationship_to_Norman\": \"Mother\"\n",
    "    },\n",
    "    {\n",
    "      \"name\": \"Mario\",\n",
    "      \"_key\": \"Mario\",\n",
    "      \"family_name\": \"Gonzalez\",\n",
    "      \"age\": 45,\n",
    "      \"relationship_to_Norman\": \"Brother\"\n",
    "    },\n",
    "    {\n",
    "      \"name\": \"Ana\",\n",
    "      \"_key\": \"Ana\",\n",
    "      \"family_name\": \"Martinez\",\n",
    "      \"age\": 43,\n",
    "      \"relationship_to_Norman\": \"Sister-in-law (Mario's wife)\"\n",
    "    },\n",
    "    {\n",
    "      \"name\": \"Pedro\",\n",
    "      \"_key\": \"Pedro\",\n",
    "      \"family_name\": \"Gonzalez\",\n",
    "      \"age\": 38,\n",
    "      \"relationship_to_Norman\": \"Brother\"\n",
    "    },\n",
    "    {\n",
    "      \"name\": \"Sofia\",\n",
    "      \"_key\": \"Sofia\",\n",
    "      \"family_name\": \"\",\n",
    "      \"age\": 42,\n",
    "      \"relationship_to_Norman\": \"\"\n",
    "    },\n",
    "    {\n",
    "      \"name\": \"Rafael\",\n",
    "      \"_key\": \"Rafael\",\n",
    "      \"family_name\": \"Lopez\",\n",
    "      \"age\": 36\n",
    "    },\n",
    "    {\n",
    "      \"name\": \"Liam\",\n",
    "      \"_key\": \"Liam\",\n",
    "      \"family_name\": \"Lopez\",\n",
    "      \"age\": 12\n",
    "    },\n",
    "    {\n",
    "      \"name\": \"Olivia\",\n",
    "      \"_key\": \"Olivia\",\n",
    "      \"family_name\": \"\",\n",
    "      \"age\": 10\n",
    "    },\n",
    "    {\n",
    "      \"name\": \"Ethan\",\n",
    "      \"_key\": \"Ethan\",\n",
    "      \"family_name\": \"\",\n",
    "      \"age\": 7\n",
    "    },\n",
    "    {\n",
    "      \"name\": \"Amelia\",\n",
    "      \"_key\": \"Amelia\",\n",
    "      \"family_name\": \"\",\n",
    "      \"age\": 5\n",
    "    }\n",
    "    ]\n",
    "\n",
    "child_of_edges = [\n",
    "    {\"_from\": \"Persons/Lucas\", \"_to\": \"Persons/Norman\"},\n",
    "    {\"_from\": \"Persons/Mia\", \"_to\": \"Persons/Norman\"},\n",
    "    {\"_from\": \"Persons/Eva\", \"_to\": \"Persons/Norman\"},\n",
    "    {\"_from\": \"Persons/Norman\", \"_to\": \"Persons/Carlos\"},\n",
    "]\n",
    "\n",
    "father_of_edges = [\n",
    "    {\"_from\": \"Persons/Norman\", \"_to\": \"Persons/Lucas\"},\n",
    "    {\"_from\": \"Persons/Norman\", \"_to\": \"Persons/Mia\"},\n",
    "    {\"_from\": \"Persons/Norman\", \"_to\": \"Persons/Eva\"},\n",
    "    {\"_from\": \"Persons/Carlos\", \"_to\": \"Persons/Norman\"},\n",
    "]\n",
    "\n",
    "\n",
    "db.collection(\"Persons\").import_bulk(normans_family_members)\n",
    "db.collection(\"is_son_of\").import_bulk(child_of_edges)\n",
    "db.collection(\"is_father_of\").import_bulk(father_of_edges)"
   ]
  },
  {
   "cell_type": "code",
   "execution_count": 65,
   "metadata": {},
   "outputs": [],
   "source": [
    "# Instantiate the ArangoDB-LangChain Graph\n",
    "from langchain_community.graphs import ArangoGraph\n",
    "graph = ArangoGraph(db)"
   ]
  },
  {
   "cell_type": "code",
   "execution_count": 66,
   "metadata": {},
   "outputs": [],
   "source": [
    "graph.set_schema()"
   ]
  },
  {
   "cell_type": "code",
   "execution_count": 67,
   "metadata": {},
   "outputs": [
    {
     "data": {
      "text/plain": [
       "<langchain_community.graphs.arangodb_graph.ArangoGraph at 0x10d709450>"
      ]
     },
     "execution_count": 67,
     "metadata": {},
     "output_type": "execute_result"
    }
   ],
   "source": [
    "graph"
   ]
  },
  {
   "cell_type": "code",
   "execution_count": 68,
   "metadata": {},
   "outputs": [
    {
     "name": "stdout",
     "output_type": "stream",
     "text": [
      "{\n",
      "    \"Graph Schema\": [\n",
      "        {\n",
      "            \"graph_name\": \"Norman\",\n",
      "            \"edge_definitions\": [\n",
      "                {\n",
      "                    \"edge_collection\": \"is_father_of\",\n",
      "                    \"from_vertex_collections\": [\n",
      "                        \"Persons\"\n",
      "                    ],\n",
      "                    \"to_vertex_collections\": [\n",
      "                        \"Persons\"\n",
      "                    ]\n",
      "                },\n",
      "                {\n",
      "                    \"edge_collection\": \"is_son_of\",\n",
      "                    \"from_vertex_collections\": [\n",
      "                        \"Persons\"\n",
      "                    ],\n",
      "                    \"to_vertex_collections\": [\n",
      "                        \"Persons\"\n",
      "                    ]\n",
      "                }\n",
      "            ]\n",
      "        }\n",
      "    ],\n",
      "    \"Collection Schema\": [\n",
      "        {\n",
      "            \"collection_name\": \"is_father_of\",\n",
      "            \"collection_type\": \"edge\",\n",
      "            \"edge_properties\": [\n",
      "                {\n",
      "                    \"name\": \"_key\",\n",
      "                    \"type\": \"str\"\n",
      "                },\n",
      "                {\n",
      "                    \"name\": \"_id\",\n",
      "                    \"type\": \"str\"\n",
      "                },\n",
      "                {\n",
      "                    \"name\": \"_from\",\n",
      "                    \"type\": \"str\"\n",
      "                },\n",
      "                {\n",
      "                    \"name\": \"_to\",\n",
      "                    \"type\": \"str\"\n",
      "                },\n",
      "                {\n",
      "                    \"name\": \"_rev\",\n",
      "                    \"type\": \"str\"\n",
      "                }\n",
      "            ],\n",
      "            \"example_edge\": {\n",
      "                \"_key\": \"266257375170\",\n",
      "                \"_id\": \"is_father_of/266257375170\",\n",
      "                \"_from\": \"Persons/Norman\",\n",
      "                \"_to\": \"Persons/Lucas\",\n",
      "                \"_rev\": \"_iho5h7i---\"\n",
      "            }\n",
      "        },\n",
      "        {\n",
      "            \"collection_name\": \"is_son_of\",\n",
      "            \"collection_type\": \"edge\",\n",
      "            \"edge_properties\": [\n",
      "                {\n",
      "                    \"name\": \"_key\",\n",
      "                    \"type\": \"str\"\n",
      "                },\n",
      "                {\n",
      "                    \"name\": \"_id\",\n",
      "                    \"type\": \"str\"\n",
      "                },\n",
      "                {\n",
      "                    \"name\": \"_from\",\n",
      "                    \"type\": \"str\"\n",
      "                },\n",
      "                {\n",
      "                    \"name\": \"_to\",\n",
      "                    \"type\": \"str\"\n",
      "                },\n",
      "                {\n",
      "                    \"name\": \"_rev\",\n",
      "                    \"type\": \"str\"\n",
      "                }\n",
      "            ],\n",
      "            \"example_edge\": {\n",
      "                \"_key\": \"266257375165\",\n",
      "                \"_id\": \"is_son_of/266257375165\",\n",
      "                \"_from\": \"Persons/Lucas\",\n",
      "                \"_to\": \"Persons/Norman\",\n",
      "                \"_rev\": \"_iho5hu6---\"\n",
      "            }\n",
      "        },\n",
      "        {\n",
      "            \"collection_name\": \"Persons\",\n",
      "            \"collection_type\": \"document\",\n",
      "            \"document_properties\": [\n",
      "                {\n",
      "                    \"name\": \"_key\",\n",
      "                    \"type\": \"str\"\n",
      "                },\n",
      "                {\n",
      "                    \"name\": \"_id\",\n",
      "                    \"type\": \"str\"\n",
      "                },\n",
      "                {\n",
      "                    \"name\": \"_rev\",\n",
      "                    \"type\": \"str\"\n",
      "                },\n",
      "                {\n",
      "                    \"name\": \"name\",\n",
      "                    \"type\": \"str\"\n",
      "                },\n",
      "                {\n",
      "                    \"name\": \"family_name\",\n",
      "                    \"type\": \"str\"\n",
      "                },\n",
      "                {\n",
      "                    \"name\": \"age\",\n",
      "                    \"type\": \"int\"\n",
      "                }\n",
      "            ],\n",
      "            \"example_document\": {\n",
      "                \"_key\": \"Norman\",\n",
      "                \"_id\": \"Persons/Norman\",\n",
      "                \"_rev\": \"_iho5hiW---\",\n",
      "                \"name\": \"Norman\",\n",
      "                \"family_name\": \"Gonzalez\",\n",
      "                \"age\": 41\n",
      "            }\n",
      "        }\n",
      "    ]\n",
      "}\n"
     ]
    }
   ],
   "source": [
    "# We can now view the generated schema\n",
    "\n",
    "import json\n",
    "\n",
    "print(json.dumps(graph.schema, indent=4))"
   ]
  },
  {
   "cell_type": "code",
   "execution_count": 69,
   "metadata": {},
   "outputs": [],
   "source": [
    "from langchain.chains import ArangoGraphQAChain\n",
    "from langchain_openai import ChatOpenAI\n",
    "\n",
    "chain = ArangoGraphQAChain.from_llm(\n",
    "    ChatOpenAI(temperature=0), graph=graph, verbose=True, allow_dangerous_requests=True\n",
    ")"
   ]
  },
  {
   "cell_type": "markdown",
   "metadata": {},
   "source": [
    "Hacemos una pregunta desde un tercero ajeno a la persona de estudio en lenguaje natural"
   ]
  },
  {
   "cell_type": "code",
   "execution_count": 71,
   "metadata": {},
   "outputs": [
    {
     "name": "stdout",
     "output_type": "stream",
     "text": [
      "\n",
      "\n",
      "\u001b[1m> Entering new ArangoGraphQAChain chain...\u001b[0m\n",
      "AQL Query (1):\u001b[32;1m\u001b[1;3m\n",
      "WITH Persons, is_father_of\n",
      "FOR v, e, p IN 1..1 OUTBOUND 'Persons/Norman' is_father_of\n",
      "RETURN v\n",
      "\u001b[0m\n",
      "AQL Result:\n",
      "\u001b[32;1m\u001b[1;3m[{'_key': 'Eva', '_id': 'Persons/Eva', '_rev': '_iho5hiW--C', 'name': 'Eva', 'family_name': 'Gonzalez', 'age': 8, 'relationship_to_Norman': 'Daughter'}, {'_key': 'Mia', '_id': 'Persons/Mia', '_rev': '_iho5hiW--B', 'name': 'Mia', 'family_name': 'Gonzalez', 'age': 8, 'relationship_to_Norman': 'Daughter'}, {'_key': 'Lucas', '_id': 'Persons/Lucas', '_rev': '_iho5hiW--A', 'name': 'Lucas', 'family_name': 'Gonzalez', 'age': 10, 'relationship_to_Norman': 'Son'}]\u001b[0m\n",
      "\n",
      "\u001b[1m> Finished chain.\u001b[0m\n"
     ]
    },
    {
     "data": {
      "text/plain": [
       "'Norman tiene varios hijos. Entre ellos se encuentran Eva, Mia y Lucas. Lucas es el hijo de Norman.'"
      ]
     },
     "execution_count": 71,
     "metadata": {},
     "output_type": "execute_result"
    }
   ],
   "source": [
    "chain.run(\"de quien es hijo Norman?\")\n"
   ]
  },
  {
   "cell_type": "code",
   "execution_count": 40,
   "metadata": {},
   "outputs": [
    {
     "name": "stdout",
     "output_type": "stream",
     "text": [
      "\n",
      "\n",
      "\u001b[1m> Entering new ArangoGraphQAChain chain...\u001b[0m\n",
      "AQL Query (1):\u001b[32;1m\u001b[1;3m\n",
      "WITH Persons, ChildOf\n",
      "FOR v, e IN 1..1 OUTBOUND 'Persons/Norman' ChildOf\n",
      "    RETURN v\n",
      "\u001b[0m\n",
      "AQL Result:\n",
      "\u001b[32;1m\u001b[1;3m[{'_key': 'Carlos', '_id': 'Persons/Carlos', '_rev': '_ihop_Sa--E', 'name': 'Carlos', 'family_name': 'Gonzalez', 'age': 68, 'relationship_to_Norman': 'Father'}]\u001b[0m\n",
      "\n",
      "\u001b[1m> Finished chain.\u001b[0m\n"
     ]
    },
    {
     "data": {
      "text/plain": [
       "\"Summary:\\nThe children of Norman are Carlos. Carlos is 68 years old and is identified as Norman's father in the database.\""
      ]
     },
     "execution_count": 40,
     "metadata": {},
     "output_type": "execute_result"
    }
   ],
   "source": [
    "chain.run(\"quienes son los hijos de Norman?\")"
   ]
  },
  {
   "cell_type": "code",
   "execution_count": 27,
   "metadata": {},
   "outputs": [
    {
     "name": "stdout",
     "output_type": "stream",
     "text": [
      "\n",
      "\n",
      "\u001b[1m> Entering new ArangoGraphQAChain chain...\u001b[0m\n",
      "AQL Query (1):\u001b[32;1m\u001b[1;3m\n",
      "WITH Persons, ChildOf\n",
      "LET norman = (\n",
      "    FOR person IN Persons\n",
      "    FILTER person.name == 'Norman'\n",
      "    RETURN person\n",
      ")[0]\n",
      "\n",
      "LET xavier = {\n",
      "    \"_key\": \"Xavier\",\n",
      "    \"name\": \"Xavier\",\n",
      "    \"family_name\": \"Gonzalez\",\n",
      "    \"age\": 0\n",
      "}\n",
      "\n",
      "INSERT xavier INTO Persons\n",
      "\n",
      "LET edge = {\n",
      "    \"_from\": norman._id,\n",
      "    \"_to\": CONCAT('Persons/', xavier._key)\n",
      "}\n",
      "\n",
      "INSERT edge INTO ChildOf\n",
      "\u001b[0m\n",
      "AQL Result:\n",
      "\u001b[32;1m\u001b[1;3m[]\u001b[0m\n",
      "\n",
      "\u001b[1m> Finished chain.\u001b[0m\n"
     ]
    },
    {
     "data": {
      "text/plain": [
       "'A new son named Xavier has been successfully added to Norman in the database.'"
      ]
     },
     "execution_count": 27,
     "metadata": {},
     "output_type": "execute_result"
    }
   ],
   "source": [
    "chain.run(\"add a new son of Norman named Xavier\")\n",
    "\n"
   ]
  },
  {
   "cell_type": "code",
   "execution_count": 28,
   "metadata": {},
   "outputs": [
    {
     "name": "stdout",
     "output_type": "stream",
     "text": [
      "\n",
      "\n",
      "\u001b[1m> Entering new ArangoGraphQAChain chain...\u001b[0m\n",
      "AQL Query (1):\u001b[32;1m\u001b[1;3m\n",
      "WITH Persons, ChildOf\n",
      "FOR v, e, p IN 1..1 OUTBOUND 'Persons/Norman' ChildOf\n",
      "FILTER v.name == 'Xavier'\n",
      "RETURN v\n",
      "\u001b[0m\n",
      "AQL Result:\n",
      "\u001b[32;1m\u001b[1;3m[{'_key': 'Xavier', '_id': 'Persons/Xavier', '_rev': '_hux4B6W---', 'name': 'Xavier', 'family_name': 'Gonzalez', 'age': 0}]\u001b[0m\n",
      "\n",
      "\u001b[1m> Finished chain.\u001b[0m\n"
     ]
    },
    {
     "data": {
      "text/plain": [
       "\"Summary:\\nYes, Norman has a son named Xavier. According to the database query results, Xavier is related to Norman as his son, with the same family name 'Gonzalez'.\""
      ]
     },
     "execution_count": 28,
     "metadata": {},
     "output_type": "execute_result"
    }
   ],
   "source": [
    "chain.run(\"Norman tiene un hijo Xavier?\")"
   ]
  }
 ],
 "metadata": {
  "kernelspec": {
   "display_name": "venv",
   "language": "python",
   "name": "python3"
  },
  "language_info": {
   "codemirror_mode": {
    "name": "ipython",
    "version": 3
   },
   "file_extension": ".py",
   "mimetype": "text/x-python",
   "name": "python",
   "nbconvert_exporter": "python",
   "pygments_lexer": "ipython3",
   "version": "3.11.1"
  }
 },
 "nbformat": 4,
 "nbformat_minor": 2
}
