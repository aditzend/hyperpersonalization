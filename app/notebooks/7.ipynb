{
 "cells": [
  {
   "cell_type": "markdown",
   "metadata": {},
   "source": [
    "En esta notebook se experimenta reconfigurando la estructura del contexto brindado, ganando en claridad y limpieza para comprobar si por esa vía el modelo es capaz de recupar la información solicitada.   "
   ]
  },
  {
   "cell_type": "code",
   "execution_count": 1,
   "metadata": {},
   "outputs": [],
   "source": [
    "import requests\n",
    "import json\n",
    "from langchain.embeddings.openai import OpenAIEmbeddings\n",
    "from langchain.vectorstores import FAISS"
   ]
  },
  {
   "cell_type": "code",
   "execution_count": 2,
   "metadata": {},
   "outputs": [],
   "source": [
    "index_name = \"conversations\"\n",
    "index_path = \"../indexes/conversations\"\n",
    "embeddings = OpenAIEmbeddings()\n",
    "\n",
    "db = FAISS.load_local(folder_path=index_path, index_name=index_name, embeddings=embeddings)\n"
   ]
  },
  {
   "cell_type": "code",
   "execution_count": 3,
   "metadata": {},
   "outputs": [],
   "source": [
    "def gpt35_system_user(system_message:str, user_message:str):\n",
    "    # Hyper 2\n",
    "    # POST https://yoizenia.openai.azure.com/openai/deployments/GPT35Turbo/chat/completions\n",
    "\n",
    "    try:\n",
    "        response = requests.post(\n",
    "            url=\"https://yoizenia.openai.azure.com/openai/deployments/GPT35Turbo/chat/completions\",\n",
    "            params={\n",
    "                \"api-version\": \"2023-05-15\",\n",
    "                \"temperature\": \"0\",\n",
    "            },\n",
    "            headers={\n",
    "                \"Content-Type\": \"application/json\",\n",
    "                \"api-key\": \"bd6603c266fc49389659225a451ff03d\",\n",
    "            },\n",
    "            data=json.dumps({\n",
    "                \"messages\": [\n",
    "                    {\n",
    "                        \"content\": system_message,\n",
    "                        \"role\": \"system\"\n",
    "                    },\n",
    "                    {\n",
    "                        \"content\":user_message,\n",
    "                        \"role\": \"user\"\n",
    "                    }\n",
    "                ]\n",
    "            })\n",
    "        )\n",
    "        choices = response.json()['choices']\n",
    "        answer = {\n",
    "            \"status_code\": response.status_code,\n",
    "            \"text\": choices[0]['message'],\n",
    "        }\n",
    "        return answer\n",
    "\n",
    "    except requests.exceptions.RequestException:\n",
    "        print('HTTP Request failed')\n",
    "        return None"
   ]
  },
  {
   "cell_type": "code",
   "execution_count": 4,
   "metadata": {},
   "outputs": [],
   "source": [
    "contexts =  [\n",
    "    [\n",
    "        {\n",
    "          \"message\": {\n",
    "              \"role\": \"user\",\n",
    "              \"content\": \"Quiero un turno para mi madre\"\n",
    "          },\n",
    "          \"metadata\": {\n",
    "            \"session_id\": \"1\",\n",
    "            \"person_id\": \"20\",\n",
    "            \"message_id\": \"1-1\",\n",
    "            \"created_at\": \"20230825T12:00:00.000Z\",\n",
    "          },\n",
    "        },\n",
    "        {\n",
    "          \"message\": {\n",
    "              \"role\": \"system\",\n",
    "              \"content\": \"cual es el nombre de tu madre?\"\n",
    "          },\n",
    "          \"metadata\": {\n",
    "              \"session_id\": \"1\",\n",
    "              \"person_id\": \"20\",\n",
    "              \"message_id\": \"1-2\",\n",
    "              \"created_at\": \"20230825T12:01:00.000Z\"\n",
    "          }\n",
    "        },\n",
    "        {\n",
    "            \"message\": {\n",
    "                \"role\": \"user\",\n",
    "                \"content\": \"Alba\"\n",
    "            },\n",
    "            \"metadata\": {\n",
    "              \"session_id\": \"1\",\n",
    "              \"person_id\": \"20\",\n",
    "              \"message_id\": \"1-3\",\n",
    "              \"created_at\": \"20230825T13:00:00.000Z\",\n",
    "            },\n",
    "        },\n",
    "        {\n",
    "            \"message\": {\n",
    "                \"role\": \"system\",\n",
    "                \"content\": \"y que edad tiene?\"\n",
    "            },\n",
    "            \"metadata\": {\n",
    "                \"session_id\": \"1\",\n",
    "                \"person_id\": \"20\",\n",
    "                \"message_id\": \"1-4\",\n",
    "                \"created_at\": \"20230825T13:01:00.000Z\"\n",
    "            }\n",
    "        },\n",
    "        {\n",
    "            \"message\": {\n",
    "                \"role\": \"user\",\n",
    "                \"content\": \"66\"\n",
    "            },\n",
    "            \"metadata\": {\n",
    "              \"session_id\": \"1\",\n",
    "            \"person_id\": \"20\",\n",
    "            \"message_id\": \"1-5\",\n",
    "            \"created_at\": \"20230825T14:00:00.000Z\",\n",
    "          },\n",
    "        },\n",
    "        {\n",
    "            \"message\": {\n",
    "                \"role\": \"system\",\n",
    "                \"content\": \"perfecto, tiene turno para el 30 de agosto a las 15:00\"\n",
    "            },\n",
    "            \"metadata\": {\n",
    "                \"session_id\": \"1\",\n",
    "                \"person_id\": \"20\",\n",
    "                \"message_id\": \"1-6\",\n",
    "                \"created_at\": \"20230825T14:01:00.000Z\"\n",
    "            }\n",
    "        }\n",
    "    ],\n",
    "    [\n",
    "        {\n",
    "            \"message\": {\n",
    "                \"role\": \"user\",\n",
    "                \"content\": \"Cual es la capital de Colombia?\"\n",
    "            },\n",
    "            \"metadata\": {\n",
    "              \"session_id\": \"4\",\n",
    "              \"person_id\": \"20\",\n",
    "              \"message_id\": \"4-1\",\n",
    "              \"created_at\": \"20230825T15:00:00.000Z\",\n",
    "            },\n",
    "        },\n",
    "        {\n",
    "            \"message\": {\n",
    "                \"role\": \"system\",\n",
    "                \"content\": \"Bogota\"\n",
    "            },\n",
    "            \"metadata\": {\n",
    "                \"session_id\": \"4\",\n",
    "                \"person_id\": \"20\",\n",
    "                \"message_id\": \"4-2\",\n",
    "                \"created_at\": \"20230825T15:01:00.000Z\"\n",
    "            }\n",
    "        }\n",
    "    ]\n",
    "  ]\n",
    "\n"
   ]
  },
  {
   "cell_type": "code",
   "execution_count": 5,
   "metadata": {},
   "outputs": [],
   "source": [
    "condensed_contexts =  [\n",
    "        {\n",
    "          \"messages\": [\n",
    "              {\n",
    "                \"role\": \"user\",\n",
    "                \"content\": \"Quiero un turno para mi madre\"\n",
    "              },\n",
    "              {\n",
    "                \"role\": \"system\",\n",
    "                \"content\": \"cual es el nombre de tu madre?\"\n",
    "              },\n",
    "              {\n",
    "                \"role\": \"user\",\n",
    "                \"content\": \"Alba\"\n",
    "              },\n",
    "              {\n",
    "                \"role\": \"system\",\n",
    "                \"content\": \"y que edad tiene?\"\n",
    "              },\n",
    "              {\n",
    "                \"role\": \"user\",\n",
    "                \"content\": \"66\"\n",
    "              },\n",
    "              {\n",
    "                  \"role\": \"system\",\n",
    "                  \"content\": \"perfecto, tiene turno para el 30 de agosto a las 15:00\"\n",
    "              }\n",
    "           ],\n",
    "          \"metadata\": {\n",
    "            \"session_id\": \"1\",\n",
    "            \"person_id\": \"20\",\n",
    "            \"context_id\": \"1\",\n",
    "            \"created_at\": \"20230825T12:00:00.000Z\",\n",
    "          },\n",
    "        },\n",
    "        {\n",
    "            \"messages\": [\n",
    "                {\n",
    "                \"role\": \"user\",\n",
    "                \"content\": \"Cual es la capital de Colombia?\"\n",
    "                },\n",
    "                {\n",
    "                    \"role\": \"system\",\n",
    "                    \"content\": \"Bogota\"\n",
    "                }\n",
    "            ],\n",
    "            \"metadata\": {\n",
    "                \"session_id\": \"1\",\n",
    "                \"person_id\": \"20\",\n",
    "                \"context_id\": \"2\",\n",
    "                \"created_at\": \"20230825T18:00:00.000Z\",                \n",
    "              }\n",
    "        }\n",
    "  ]\n"
   ]
  },
  {
   "cell_type": "code",
   "execution_count": 8,
   "metadata": {},
   "outputs": [
    {
     "name": "stdout",
     "output_type": "stream",
     "text": [
      "CONTEXT:{ message: {'role': 'user', 'content': 'Quiero un turno para mi madre'}{'role': 'system', 'content': 'cual es el nombre de tu madre?'}{'role': 'user', 'content': 'Alba'}{'role': 'system', 'content': 'y que edad tiene?'}{'role': 'user', 'content': '66'}{'role': 'system', 'content': 'perfecto, tiene turno para el 30 de agosto a las 15:00'}, metadata: {'session_id': '1', 'person_id': '20', 'context_id': '1', 'created_at': '20230825T12:00:00.000Z'} }\n"
     ]
    },
    {
     "data": {
      "text/plain": [
       "'Lo siento, como sistema de procesamiento de datos mi memoria solo retiene la información necesaria para responder a la solicitud de turnos de tu madre. No tengo acceso a información personal adicional sobre ella. ¿Hay algo más en lo que pueda ayudarte?'"
      ]
     },
     "execution_count": 8,
     "metadata": {},
     "output_type": "execute_result"
    }
   ],
   "source": [
    "user_input_1 = \"que sabes de mi madre?\"\n",
    "filter = {\"person_id\": \"20\"}\n",
    "db_results_1 = db.similarity_search_with_score(query=user_input_1, embeddings=embeddings, filter=filter, k=1)\n",
    "context_1 = \"{ message: \" + db_results_1[0][0].page_content + \", metadata: \" + str(db_results_1[0][0].metadata) + \" }\"\n",
    "print(f\"CONTEXT:{context_1}\")\n",
    "system_prompt_1 = f\"\"\"\n",
    "Answer the user's question this message as context.\n",
    "Previous message: {context_1}\n",
    "\"\"\"\n",
    "answer_1 = gpt35_system_user(system_message=system_prompt_1, user_message=user_input_1)\n",
    "answer_1[\"text\"][\"content\"]"
   ]
  },
  {
   "cell_type": "markdown",
   "metadata": {},
   "source": [
    "El modelo vuelve a fallar con una pregunta general."
   ]
  },
  {
   "cell_type": "code",
   "execution_count": 9,
   "metadata": {},
   "outputs": [
    {
     "name": "stdout",
     "output_type": "stream",
     "text": [
      "CONTEXT:{ message: {'role': 'user', 'content': 'Cual es la capital de Colombia?'}{'role': 'system', 'content': 'Bogota'}, metadata: {'session_id': '1', 'person_id': '20', 'context_id': '2', 'created_at': '20230825T18:00:00.000Z'} }\n"
     ]
    },
    {
     "data": {
      "text/plain": [
       "'Sí, me hiciste una pregunta sobre Colombia y te respondí que la capital es Bogotá. ¿Puedo ayudarte en algo más?'"
      ]
     },
     "execution_count": 9,
     "metadata": {},
     "output_type": "execute_result"
    }
   ],
   "source": [
    "user_input_2 = \"Una vez te pregunte por colombia no?\"\n",
    "filter = {\"person_id\": \"20\"}\n",
    "db_results_2 = db.similarity_search_with_score(query=user_input_2, embeddings=embeddings, filter=filter, k=1)\n",
    "context_2 = \"{ message: \" + db_results_2[0][0].page_content + \", metadata: \" + str(db_results_2[0][0].metadata) + \" }\"\n",
    "print(f\"CONTEXT:{context_2}\")\n",
    "system_prompt_2 = f\"\"\"\n",
    "You are a personal assistant. You will find past conversations between you and the user between backticks.\n",
    "Use them to answer the user's question.\n",
    "\n",
    "```{context_2}```\n",
    "\n",
    "\"\"\"\n",
    "answer_2 = gpt35_system_user(system_message=system_prompt_2, user_message=user_input_2)\n",
    "answer_2[\"text\"][\"content\"]\n",
    "\n"
   ]
  },
  {
   "cell_type": "markdown",
   "metadata": {},
   "source": [
    "Con una pregunta específica sobre otro tema no tiene problemas."
   ]
  },
  {
   "cell_type": "code",
   "execution_count": 10,
   "metadata": {},
   "outputs": [
    {
     "name": "stdout",
     "output_type": "stream",
     "text": [
      "CONTEXT:{ message: {'role': 'user', 'content': 'Quiero un turno para mi madre'}{'role': 'system', 'content': 'cual es el nombre de tu madre?'}{'role': 'user', 'content': 'Alba'}{'role': 'system', 'content': 'y que edad tiene?'}{'role': 'user', 'content': '66'}{'role': 'system', 'content': 'perfecto, tiene turno para el 30 de agosto a las 15:00'}, metadata: {'session_id': '1', 'person_id': '20', 'context_id': '1', 'created_at': '20230825T12:00:00.000Z'} }\n"
     ]
    },
    {
     "data": {
      "text/plain": [
       "'Sí, El turno de tu madre es para el 30 de agosto a las 15:00 horas.'"
      ]
     },
     "execution_count": 10,
     "metadata": {},
     "output_type": "execute_result"
    }
   ],
   "source": [
    "user_input_3 = \"Te acordas cuando era el turno de mi vieja?\"\n",
    "filter = {\"person_id\": \"20\"}\n",
    "db_results_3 = db.similarity_search_with_score(query=user_input_3, embeddings=embeddings, filter=filter, k=1)\n",
    "context_3 = \"{ message: \" + db_results_3[0][0].page_content + \", metadata: \" + str(db_results_3[0][0].metadata) + \" }\"\n",
    "print(f\"CONTEXT:{context_3}\")\n",
    "system_prompt_3 = f\"\"\"\n",
    "You are a personal assistant. You will find past conversations between you and the user between backticks.\n",
    "Use them to answer the user's question.\n",
    "\n",
    "```{context_3}```\n",
    "\n",
    "\"\"\"\n",
    "answer_3 = gpt35_system_user(system_message=system_prompt_3, user_message=user_input_3)\n",
    "answer_3[\"text\"][\"content\"]\n"
   ]
  },
  {
   "cell_type": "markdown",
   "metadata": {},
   "source": [
    "Y con otra pregunta específica sobre el tema que generó la falla anteriormente vemos que se puede hacer una recuperación satisfactoria."
   ]
  }
 ],
 "metadata": {
  "kernelspec": {
   "display_name": "venv",
   "language": "python",
   "name": "python3"
  },
  "language_info": {
   "codemirror_mode": {
    "name": "ipython",
    "version": 3
   },
   "file_extension": ".py",
   "mimetype": "text/x-python",
   "name": "python",
   "nbconvert_exporter": "python",
   "pygments_lexer": "ipython3",
   "version": "3.9.9"
  },
  "orig_nbformat": 4
 },
 "nbformat": 4,
 "nbformat_minor": 2
}
