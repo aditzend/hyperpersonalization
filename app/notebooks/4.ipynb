{
 "cells": [
  {
   "cell_type": "code",
   "execution_count": 1,
   "metadata": {},
   "outputs": [],
   "source": [
    "import os\n",
    "import sys\n",
    "import redis\n",
    "from dotenv import load_dotenv\n",
    "\n",
    "load_dotenv()\n",
    "\n",
    "redis_host = os.getenv(\"REDIS_HOST\") or \"localhost\"\n",
    "redis_port = os.getenv(\"REDIS_PORT\") or 6379\n"
   ]
  },
  {
   "cell_type": "code",
   "execution_count": 2,
   "metadata": {},
   "outputs": [
    {
     "name": "stdout",
     "output_type": "stream",
     "text": [
      "{'name': 'Jane', 'Age': 33, 'Location': 'Chawton'}\n"
     ]
    }
   ],
   "source": [
    "from redis.commands.json.path import Path\n",
    "\n",
    "client = redis.Redis(host=redis_host, port=redis_port, db=0)\n",
    "\n",
    "jane = {\n",
    "     'name': \"Jane\",\n",
    "     'Age': 33,\n",
    "     'Location': \"Chawton\"\n",
    "   }\n",
    "\n",
    "client.json().set('person:1', '$', jane)\n",
    "\n",
    "result = client.json().get('person:1')\n",
    "print(result)"
   ]
  },
  {
   "cell_type": "code",
   "execution_count": 3,
   "metadata": {},
   "outputs": [
    {
     "name": "stdout",
     "output_type": "stream",
     "text": [
      "None\n"
     ]
    }
   ],
   "source": [
    "jane = {\n",
    "     'name': \"Jane\",\n",
    "     'Age': 33,\n",
    "     'Location': \"Chawton\"\n",
    "   }\n",
    "\n",
    "client.json().set('person:1-session:1234', '$', jane)\n",
    "\n",
    "result = client.json().get('person:1-session:*')\n",
    "print(result)"
   ]
  },
  {
   "cell_type": "code",
   "execution_count": 4,
   "metadata": {},
   "outputs": [
    {
     "name": "stdout",
     "output_type": "stream",
     "text": [
      "{'name': 'Jane', 'sessions': [{'session_id': '1234', 'role': 'user', 'content': 'Hello'}, {'session_id': '1234-2', 'role': 'user', 'content': 'Hello 2'}]}\n"
     ]
    }
   ],
   "source": [
    "jane = {\n",
    "     'name': \"Jane\",\n",
    "     'sessions': []\n",
    "   }\n",
    "\n",
    "session = {\n",
    "      'session_id': \"1234\",\n",
    "      'role': \"user\",\n",
    "      'content': \"Hello\"\n",
    "}\n",
    "\n",
    "session2 = {\n",
    "      'session_id': \"1234-2\",\n",
    "      'role': \"user\",\n",
    "      'content': \"Hello 2\"\n",
    "}\n",
    "\n",
    "client.json().set('person:1', '$', jane)\n",
    "client.json().arrappend('person:1', '.sessions', session)\n",
    "client.json().arrappend('person:1', '.sessions', session2)\n",
    "\n",
    "result = client.json().get('person:1')\n",
    "print(result)"
   ]
  },
  {
   "cell_type": "markdown",
   "metadata": {},
   "source": [
    "ahora solo quiero la sesion 2"
   ]
  },
  {
   "cell_type": "code",
   "execution_count": 5,
   "metadata": {},
   "outputs": [
    {
     "data": {
      "text/plain": [
       "{'session_id': '1234-2', 'role': 'user', 'content': 'Hello 2'}"
      ]
     },
     "execution_count": 5,
     "metadata": {},
     "output_type": "execute_result"
    }
   ],
   "source": [
    "s2 = client.json().get('person:1', '.sessions[1]')\n",
    "s2"
   ]
  },
  {
   "cell_type": "markdown",
   "metadata": {},
   "source": [
    "quiero buscarla por el nombre de la sesion, no me sirve guardar todo junto. Le meto el person_id a la session y listo."
   ]
  },
  {
   "cell_type": "code",
   "execution_count": 6,
   "metadata": {},
   "outputs": [
    {
     "name": "stdout",
     "output_type": "stream",
     "text": [
      "{'session_id': '10', 'person_id': '10', 'name': 'Jane', 'messages': [{'role': 'user', 'content': 'Hello'}, {'role': 'system', 'content': 'Hello 2'}]}\n"
     ]
    }
   ],
   "source": [
    "session_header = {\n",
    "    'session_id': \"10\",\n",
    "     'person_id': \"10\",\n",
    "      'name': \"Jane\",\n",
    "     'messages': []\n",
    "   }\n",
    "\n",
    "message1 = {\n",
    "      'role': \"user\",\n",
    "      'content': \"Hello\"\n",
    "}\n",
    "message2 = {\n",
    "    'role': \"system\",\n",
    "    'content': \"Hello 2\"\n",
    "}\n",
    "\n",
    "client.json().set('session:10', '$', session_header)\n",
    "client.json().arrappend('session:10', '.messages', message1)\n",
    "client.json().arrappend('session:10', '.messages', message2)\n",
    "\n",
    "result = client.json().get('session:10')\n",
    "print(result)"
   ]
  },
  {
   "cell_type": "code",
   "execution_count": 22,
   "metadata": {},
   "outputs": [
    {
     "name": "stdout",
     "output_type": "stream",
     "text": [
      "{'session_id': '2', 'person_id': '1', 'name': 'Jane', 'messages': [{'role': 'user', 'content': 'holis'}, {'role': 'system', 'content': 're holis 2'}]}\n"
     ]
    }
   ],
   "source": [
    "session_header = {\n",
    "    'session_id': \"20\",\n",
    "     'person_id': \"10\",\n",
    "      'name': \"Jane\",\n",
    "     'messages': []\n",
    "   }\n",
    "\n",
    "message1 = {\n",
    "      'role': \"user\",\n",
    "      'content': \"holis\"\n",
    "}\n",
    "message2 = {\n",
    "    'role': \"system\",\n",
    "    'content': \"re holis 2\"\n",
    "}\n",
    "\n",
    "client.json().set('session:20', '$', session_header)\n",
    "client.json().arrappend('session:20', '.messages', message1)\n",
    "client.json().arrappend('session:20', '.messages', message2)\n",
    "\n",
    "result = client.json().get('session:1')\n",
    "print(result)"
   ]
  },
  {
   "cell_type": "markdown",
   "metadata": {},
   "source": [
    "tiene que hacer un scan para traer todas las sesiones de un person_id. no me gusta como solucion. Sí está bueno para guardar la sesión actual, pero cuántos segundos me ahorro?\n",
    "\n",
    "voy a seguir con este esquema pero cuando termine la sesion la saco de redis y la mando a mongo. Mientras, los datos clave que vaya sacando el modelo se guardan en vectores. \n",
    "\n",
    "o tambien lo que puedo hacer es guardar toda la sesion en vectores con el person_id y session_id como metadata. Asi es sistema tiene data que fue recabando y ademas toda la historia de las conversaciones y si pasa algo similar lo puede usar para recomendar."
   ]
  },
  {
   "cell_type": "code",
   "execution_count": 17,
   "metadata": {},
   "outputs": [],
   "source": [
    "from langchain.embeddings.openai import OpenAIEmbeddings\n",
    "from langchain.vectorstores import FAISS"
   ]
  },
  {
   "cell_type": "code",
   "execution_count": 18,
   "metadata": {},
   "outputs": [],
   "source": [
    "index_name = \"conversations\"\n",
    "index_path = \"../indexes/conversations\"\n",
    "embeddings = OpenAIEmbeddings()\n",
    "\n",
    "db = FAISS.load_local(folder_path=index_path, index_name=index_name, embeddings=embeddings)\n"
   ]
  },
  {
   "cell_type": "code",
   "execution_count": 23,
   "metadata": {},
   "outputs": [
    {
     "data": {
      "text/plain": [
       "{'session_id': '10',\n",
       " 'person_id': '10',\n",
       " 'name': 'Jane',\n",
       " 'messages': [{'role': 'user', 'content': 'Hello'},\n",
       "  {'role': 'system', 'content': 'Hello 2'}]}"
      ]
     },
     "execution_count": 23,
     "metadata": {},
     "output_type": "execute_result"
    }
   ],
   "source": [
    "session10 = client.json().get('session:10')\n",
    "session10\n"
   ]
  },
  {
   "cell_type": "code",
   "execution_count": 30,
   "metadata": {},
   "outputs": [
    {
     "data": {
      "text/plain": [
       "['38a12a1b-49eb-4c92-b7ec-26da0d4caa0f']"
      ]
     },
     "execution_count": 30,
     "metadata": {},
     "output_type": "execute_result"
    }
   ],
   "source": [
    "metadatas = [{\n",
    "    'session_id': \"10\",\n",
    "      'person_id': \"10\",\n",
    "}]\n",
    "# turn json to plain text\n",
    "content = session10['messages']\n",
    "str(content)\n",
    "\n",
    "db.add_texts(texts=[str(content)], embedding=embeddings, metadatas=metadatas)"
   ]
  },
  {
   "cell_type": "code",
   "execution_count": 31,
   "metadata": {},
   "outputs": [
    {
     "data": {
      "text/plain": [
       "['644524bb-bc2e-4795-8b3e-b09abb0087d1']"
      ]
     },
     "execution_count": 31,
     "metadata": {},
     "output_type": "execute_result"
    }
   ],
   "source": [
    "session20 = client.json().get('session:20')\n",
    "metadatas = [{\n",
    "    'session_id': \"20\",\n",
    "      'person_id': \"10\",\n",
    "}]\n",
    "# turn json to plain text\n",
    "content = session20['messages']\n",
    "str(content)\n",
    "\n",
    "db.add_texts(texts=[str(content)], embedding=embeddings, metadatas=metadatas)"
   ]
  },
  {
   "cell_type": "code",
   "execution_count": 32,
   "metadata": {},
   "outputs": [
    {
     "data": {
      "text/plain": [
       "[(Document(page_content=\"[{'role': 'user', 'content': 'holis'}, {'role': 'system', 'content': 're holis 2'}]\", metadata={'session_id': '20', 'person_id': '10'}),\n",
       "  0.6522268)]"
      ]
     },
     "execution_count": 32,
     "metadata": {},
     "output_type": "execute_result"
    }
   ],
   "source": [
    "query = \"cual es la segunda sesion?\"\n",
    "filter = {\"person_id\": \"10\"}\n",
    "db.similarity_search_with_score(query=query, embeddings=embeddings, filter=filter, k=1)"
   ]
  },
  {
   "cell_type": "code",
   "execution_count": 33,
   "metadata": {},
   "outputs": [
    {
     "data": {
      "text/plain": [
       "[(Document(page_content=\"[{'role': 'user', 'content': 'holis'}, {'role': 'system', 'content': 're holis 2'}]\", metadata={'session_id': '20', 'person_id': '10'}),\n",
       "  0.65058786)]"
      ]
     },
     "execution_count": 33,
     "metadata": {},
     "output_type": "execute_result"
    }
   ],
   "source": [
    "query = \"cual es la primera sesion?\"\n",
    "filter = {\"person_id\": \"10\"}\n",
    "db.similarity_search_with_score(query=query, embeddings=embeddings, filter=filter, k=1)"
   ]
  },
  {
   "cell_type": "markdown",
   "metadata": {},
   "source": [
    "No me entiende lo de primera, voy a meter fecha en formato semantico"
   ]
  },
  {
   "cell_type": "code",
   "execution_count": 34,
   "metadata": {},
   "outputs": [
    {
     "name": "stdout",
     "output_type": "stream",
     "text": [
      "martes, 18 de julio de 2023, 11:10:15\n"
     ]
    }
   ],
   "source": [
    "import datetime\n",
    "import locale\n",
    "\n",
    "# Set the locale to Spanish\n",
    "locale.setlocale(locale.LC_TIME, 'es_ES')\n",
    "\n",
    "timestamp = datetime.datetime.now()\n",
    "formatted_timestamp = timestamp.strftime('%A, %d de %B de %Y, %H:%M:%S')\n",
    "\n",
    "print(formatted_timestamp)"
   ]
  },
  {
   "cell_type": "code",
   "execution_count": 49,
   "metadata": {},
   "outputs": [
    {
     "name": "stdout",
     "output_type": "stream",
     "text": [
      "{'session_id': '1000', 'person_id': '1000', 'name': 'Jane', 'messages': [{'timestamp': 'lunes, 17 de julio de 2023, 14:30:00', 'role': 'user', 'content': 'Hello'}, {'timestamp': 'lunes, 17 de julio de 2023, 14:31:00', 'role': 'system', 'content': 'Hello 2'}]}\n"
     ]
    }
   ],
   "source": [
    "session_header = {\n",
    "    'session_id': \"1000\",\n",
    "     'person_id': \"1000\",\n",
    "      'name': \"Jane\",\n",
    "     'messages': []\n",
    "   }\n",
    "\n",
    "formatted_timestamp = \"lunes, 17 de julio de 2023, 14:30:00\"\n",
    "\n",
    "message1 = {\n",
    "      'timestamp': formatted_timestamp,\n",
    "      'role': \"user\",\n",
    "      'content': \"Hello\"\n",
    "}\n",
    "formatted_timestamp = \"lunes, 17 de julio de 2023, 14:31:00\"\n",
    "\n",
    "message2 = {\n",
    "    'timestamp': formatted_timestamp,\n",
    "    'role': \"system\",\n",
    "    'content': \"Hello 2\"\n",
    "}\n",
    "\n",
    "client.json().set('session:1000', '$', session_header)\n",
    "client.json().arrappend('session:1000', '.messages', message1)\n",
    "client.json().arrappend('session:1000', '.messages', message2)\n",
    "\n",
    "result = client.json().get('session:1000')\n",
    "print(result)"
   ]
  },
  {
   "cell_type": "code",
   "execution_count": 50,
   "metadata": {},
   "outputs": [
    {
     "name": "stdout",
     "output_type": "stream",
     "text": [
      "{'session_id': '2000', 'person_id': '1000', 'name': 'Jane', 'messages': [{'timestamp': 'martes, 18 de julio de 2023, 14:30:00', 'role': 'user', 'content': 'Hello martes'}, {'timestamp': 'martes, 18 de julio de 2023, 14:31:00', 'role': 'system', 'content': 'Hello 2 martes'}]}\n"
     ]
    }
   ],
   "source": [
    "session_header = {\n",
    "    'session_id': \"2000\",\n",
    "     'person_id': \"1000\",\n",
    "      'name': \"Jane\",\n",
    "     'messages': []\n",
    "   }\n",
    "\n",
    "formatted_timestamp = \"martes, 18 de julio de 2023, 14:30:00\"\n",
    "\n",
    "message1 = {\n",
    "      'timestamp': formatted_timestamp,\n",
    "      'role': \"user\",\n",
    "      'content': \"Hello martes\"\n",
    "}\n",
    "formatted_timestamp = \"martes, 18 de julio de 2023, 14:31:00\"\n",
    "\n",
    "message2 = {\n",
    "    'timestamp': formatted_timestamp,\n",
    "    'role': \"system\",\n",
    "    'content': \"Hello 2 martes\"\n",
    "}\n",
    "\n",
    "client.json().set('session:2000', '$', session_header)\n",
    "client.json().arrappend('session:2000', '.messages', message1)\n",
    "client.json().arrappend('session:2000', '.messages', message2)\n",
    "\n",
    "result = client.json().get('session:2000')\n",
    "print(result)"
   ]
  },
  {
   "cell_type": "code",
   "execution_count": 52,
   "metadata": {},
   "outputs": [
    {
     "data": {
      "text/plain": [
       "['5897d9d9-e8f8-4336-ae2f-1f0dc8cb2088']"
      ]
     },
     "execution_count": 52,
     "metadata": {},
     "output_type": "execute_result"
    }
   ],
   "source": [
    "session1000 = client.json().get('session:100')\n",
    "metadatas = [{\n",
    "    'session_id': \"1000\",\n",
    "      'person_id': \"1000\",\n",
    "}]\n",
    "# turn json to plain text\n",
    "content = session1000['messages']\n",
    "str(content)\n",
    "\n",
    "db.add_texts(texts=[str(content)], embedding=embeddings, metadatas=metadatas)"
   ]
  },
  {
   "cell_type": "code",
   "execution_count": 53,
   "metadata": {},
   "outputs": [
    {
     "data": {
      "text/plain": [
       "['0abb3364-d8df-4a34-bc74-2786d52cbd29']"
      ]
     },
     "execution_count": 53,
     "metadata": {},
     "output_type": "execute_result"
    }
   ],
   "source": [
    "session2000 = client.json().get('session:2000')\n",
    "metadatas = [{\n",
    "    'session_id': \"2000\",\n",
    "      'person_id': \"1000\",\n",
    "}]\n",
    "# turn json to plain text\n",
    "content = session2000['messages']\n",
    "str(content)\n",
    "\n",
    "db.add_texts(texts=[str(content)], embedding=embeddings, metadatas=metadatas)"
   ]
  },
  {
   "cell_type": "code",
   "execution_count": 41,
   "metadata": {},
   "outputs": [
    {
     "data": {
      "text/plain": [
       "[(Document(page_content=\"[{'timestamp': 'martes, 17 de julio de 2023, 14:30:00', 'role': 'user', 'content': 'Hello martes'}, {'timestamp': 'martes, 17 de julio de 2023, 14:31:00', 'role': 'system', 'content': 'Hello 2 martes'}]\", metadata={'session_id': '200', 'person_id': '100'}),\n",
       "  0.56230164)]"
      ]
     },
     "execution_count": 41,
     "metadata": {},
     "output_type": "execute_result"
    }
   ],
   "source": [
    "query = \"cual es la primera sesion?\"\n",
    "filter = {\"person_id\": \"100\"}\n",
    "db.similarity_search_with_score(query=query, embeddings=embeddings, filter=filter, k=1)"
   ]
  },
  {
   "cell_type": "code",
   "execution_count": 57,
   "metadata": {},
   "outputs": [
    {
     "data": {
      "text/plain": [
       "[(Document(page_content=\"[{'timestamp': 'lunes, 17 de julio de 2023, 14:30:00', 'role': 'user', 'content': 'Hello'}, {'timestamp': 'lunes, 17 de julio de 2023, 14:31:00', 'role': 'system', 'content': 'Hello 2'}]\", metadata={'session_id': '1000', 'person_id': '1000'}),\n",
       "  0.2698342),\n",
       " (Document(page_content=\"[{'timestamp': 'martes, 18 de julio de 2023, 14:30:00', 'role': 'user', 'content': 'Hello martes'}, {'timestamp': 'martes, 18 de julio de 2023, 14:31:00', 'role': 'system', 'content': 'Hello 2 martes'}]\", metadata={'session_id': '2000', 'person_id': '1000'}),\n",
       "  0.2793008)]"
      ]
     },
     "execution_count": 57,
     "metadata": {},
     "output_type": "execute_result"
    }
   ],
   "source": [
    "query = \"lunes, 17 de julio de 2023, 14:31:00', 'role': 'system', 'content': 'Hello 2'\"\n",
    "\n",
    "filter = {\"person_id\": \"1000\"}\n",
    "db.similarity_search_with_score(query=query, embeddings=embeddings, filter=filter, k=3)\n"
   ]
  },
  {
   "cell_type": "markdown",
   "metadata": {},
   "source": []
  }
 ],
 "metadata": {
  "kernelspec": {
   "display_name": "venv",
   "language": "python",
   "name": "python3"
  },
  "language_info": {
   "codemirror_mode": {
    "name": "ipython",
    "version": 3
   },
   "file_extension": ".py",
   "mimetype": "text/x-python",
   "name": "python",
   "nbconvert_exporter": "python",
   "pygments_lexer": "ipython3",
   "version": "3.9.9"
  },
  "orig_nbformat": 4
 },
 "nbformat": 4,
 "nbformat_minor": 2
}
