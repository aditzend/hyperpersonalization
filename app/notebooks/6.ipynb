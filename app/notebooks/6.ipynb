{
 "cells": [
  {
   "cell_type": "markdown",
   "metadata": {},
   "source": [
    "En este experimento se intenta correr el foco de la conversación hacia un pariente cercano del usuario para corroborar a quien le corresponde la información brindada y hacer una correcta recuperación."
   ]
  },
  {
   "cell_type": "code",
   "execution_count": 1,
   "metadata": {},
   "outputs": [],
   "source": [
    "import requests\n",
    "import json\n",
    "from langchain.embeddings.openai import OpenAIEmbeddings\n",
    "from langchain.vectorstores import FAISS"
   ]
  },
  {
   "cell_type": "code",
   "execution_count": 5,
   "metadata": {},
   "outputs": [],
   "source": [
    "index_name = \"conversations\"\n",
    "index_path = \"../indexes/conversations\"\n",
    "embeddings = OpenAIEmbeddings()\n",
    "\n",
    "db = FAISS.load_local(folder_path=index_path, index_name=index_name, embeddings=embeddings)\n"
   ]
  },
  {
   "cell_type": "code",
   "execution_count": 3,
   "metadata": {},
   "outputs": [],
   "source": [
    "def gpt35_system_user(system_message:str, user_message:str):\n",
    "    # Hyper 2\n",
    "    # POST https://yoizenia.openai.azure.com/openai/deployments/GPT35Turbo/chat/completions\n",
    "\n",
    "    try:\n",
    "        response = requests.post(\n",
    "            url=\"https://yoizenia.openai.azure.com/openai/deployments/GPT35Turbo/chat/completions\",\n",
    "            params={\n",
    "                \"api-version\": \"2023-05-15\",\n",
    "                \"temperature\": \"0\",\n",
    "            },\n",
    "            headers={\n",
    "                \"Content-Type\": \"application/json\",\n",
    "                \"api-key\": \"bd6603c266fc49389659225a451ff03d\",\n",
    "            },\n",
    "            data=json.dumps({\n",
    "                \"messages\": [\n",
    "                    {\n",
    "                        \"content\": system_message,\n",
    "                        \"role\": \"system\"\n",
    "                    },\n",
    "                    {\n",
    "                        \"content\":user_message,\n",
    "                        \"role\": \"user\"\n",
    "                    }\n",
    "                ]\n",
    "            })\n",
    "        )\n",
    "        choices = response.json()['choices']\n",
    "        answer = {\n",
    "            \"status_code\": response.status_code,\n",
    "            \"text\": choices[0]['message'],\n",
    "        }\n",
    "        return answer\n",
    "\n",
    "    except requests.exceptions.RequestException:\n",
    "        print('HTTP Request failed')\n",
    "        return None"
   ]
  },
  {
   "cell_type": "markdown",
   "metadata": {},
   "source": [
    "Se simula una conversación en la que se brinda un dato general y un dato sobre un pariente."
   ]
  },
  {
   "cell_type": "code",
   "execution_count": 9,
   "metadata": {},
   "outputs": [],
   "source": [
    "sessions =  [\n",
    "    {\n",
    "        \"message\": {\n",
    "            \"role\": \"user\",\n",
    "            \"content\": \"Quiero un turno para mi madre\"\n",
    "        },\n",
    "        \"metadata\": {\n",
    "          \"session_id\": \"1\",\n",
    "          \"person_id\": \"20\",\n",
    "          \"message_id\": \"1-1\",\n",
    "          \"created_at\": \"20230825T12:00:00.000Z\",\n",
    "        },\n",
    "    },\n",
    "    {\n",
    "        \"message\": {\n",
    "            \"role\": \"system\",\n",
    "            \"content\": \"cual es el nombre de tu madre?\"\n",
    "        },\n",
    "        \"metadata\": {\n",
    "            \"session_id\": \"1\",\n",
    "            \"person_id\": \"20\",\n",
    "            \"message_id\": \"1-2\",\n",
    "            \"created_at\": \"20230825T12:01:00.000Z\"\n",
    "        }\n",
    "    },\n",
    "    {\n",
    "        \"message\": {\n",
    "            \"role\": \"user\",\n",
    "            \"content\": \"Alba\"\n",
    "        },\n",
    "        \"metadata\": {\n",
    "          \"session_id\": \"1\",\n",
    "          \"person_id\": \"20\",\n",
    "          \"message_id\": \"1-3\",\n",
    "          \"created_at\": \"20230825T13:00:00.000Z\",\n",
    "        },\n",
    "    },\n",
    "    {\n",
    "        \"message\": {\n",
    "            \"role\": \"system\",\n",
    "            \"content\": \"y que edad tiene?\"\n",
    "        },\n",
    "        \"metadata\": {\n",
    "            \"session_id\": \"1\",\n",
    "            \"person_id\": \"20\",\n",
    "            \"message_id\": \"1-4\",\n",
    "            \"created_at\": \"20230825T13:01:00.000Z\"\n",
    "        }\n",
    "    },\n",
    "    {\n",
    "        \"message\": {\n",
    "            \"role\": \"user\",\n",
    "            \"content\": \"66\"\n",
    "        },\n",
    "        \"metadata\": {\n",
    "          \"session_id\": \"1\",\n",
    "          \"person_id\": \"20\",\n",
    "          \"message_id\": \"1-5\",\n",
    "          \"created_at\": \"20230825T14:00:00.000Z\",\n",
    "        },\n",
    "    },\n",
    "    {\n",
    "        \"message\": {\n",
    "            \"role\": \"system\",\n",
    "            \"content\": \"perfecto, tiene turno para el 30 de agosto a las 15:00\"\n",
    "        },\n",
    "        \"metadata\": {\n",
    "            \"session_id\": \"1\",\n",
    "            \"person_id\": \"20\",\n",
    "            \"message_id\": \"1-6\",\n",
    "            \"created_at\": \"20230825T14:01:00.000Z\"\n",
    "        }\n",
    "    },\n",
    "    {\n",
    "        \"message\": {\n",
    "            \"role\": \"user\",\n",
    "            \"content\": \"Cual es la capital de Colombia?\"\n",
    "        },\n",
    "        \"metadata\": {\n",
    "          \"session_id\": \"4\",\n",
    "          \"person_id\": \"20\",\n",
    "          \"message_id\": \"4-1\",\n",
    "          \"created_at\": \"20230825T15:00:00.000Z\",\n",
    "        },\n",
    "    },\n",
    "    {\n",
    "        \"message\": {\n",
    "            \"role\": \"system\",\n",
    "            \"content\": \"Bogota\"\n",
    "        },\n",
    "        \"metadata\": {\n",
    "            \"session_id\": \"4\",\n",
    "            \"person_id\": \"20\",\n",
    "            \"message_id\": \"4-2\",\n",
    "            \"created_at\": \"20230825T15:01:00.000Z\"\n",
    "        }\n",
    "    }\n",
    "\n",
    "  ]\n",
    "\n"
   ]
  },
  {
   "cell_type": "code",
   "execution_count": 10,
   "metadata": {},
   "outputs": [
    {
     "name": "stdout",
     "output_type": "stream",
     "text": [
      "{'role': 'user', 'content': 'Quiero un turno para mi madre'}\n",
      "{'session_id': '1', 'person_id': '20', 'message_id': '1-1', 'created_at': '20230825T12:00:00.000Z'}\n",
      "{'role': 'system', 'content': 'cual es el nombre de tu madre?'}\n",
      "{'session_id': '1', 'person_id': '20', 'message_id': '1-2', 'created_at': '20230825T12:01:00.000Z'}\n",
      "{'role': 'user', 'content': 'Alba'}\n",
      "{'session_id': '1', 'person_id': '20', 'message_id': '1-3', 'created_at': '20230825T13:00:00.000Z'}\n",
      "{'role': 'system', 'content': 'y que edad tiene?'}\n",
      "{'session_id': '1', 'person_id': '20', 'message_id': '1-4', 'created_at': '20230825T13:01:00.000Z'}\n",
      "{'role': 'user', 'content': '66'}\n",
      "{'session_id': '1', 'person_id': '20', 'message_id': '1-5', 'created_at': '20230825T14:00:00.000Z'}\n",
      "{'role': 'system', 'content': 'perfecto, tiene turno para el 30 de agosto a las 15:00'}\n",
      "{'session_id': '1', 'person_id': '20', 'message_id': '1-6', 'created_at': '20230825T14:01:00.000Z'}\n",
      "{'role': 'user', 'content': 'Cual es la capital de Colombia?'}\n",
      "{'session_id': '4', 'person_id': '20', 'message_id': '4-1', 'created_at': '20230825T15:00:00.000Z'}\n",
      "{'role': 'system', 'content': 'Bogota'}\n",
      "{'session_id': '4', 'person_id': '20', 'message_id': '4-2', 'created_at': '20230825T15:01:00.000Z'}\n"
     ]
    }
   ],
   "source": [
    "for session in sessions:\n",
    "    print(str(session['message']))\n",
    "    print(session['metadata'])\n",
    "    db.add_texts(\n",
    "        texts=[str(session['message'])], \n",
    "        metadatas=[session['metadata']],\n",
    "    )"
   ]
  },
  {
   "cell_type": "code",
   "execution_count": 13,
   "metadata": {},
   "outputs": [
    {
     "name": "stdout",
     "output_type": "stream",
     "text": [
      "CONTEXT:{ message: {'role': 'system', 'content': 'cual es el nombre de tu madre?'}, metadata: {'session_id': '1', 'person_id': '20', 'message_id': '1-2', 'created_at': '20230825T12:01:00.000Z'} }\n"
     ]
    },
    {
     "data": {
      "text/plain": [
       "'Lo siento, pero no sé nada de tu madre. La pregunta anterior estaba siendo dirigida a un asistente virtual o chatbot. Si hay algo más en lo que pueda ayudarte, por favor házmelo saber.'"
      ]
     },
     "execution_count": 13,
     "metadata": {},
     "output_type": "execute_result"
    }
   ],
   "source": [
    "user_input_1 = \"que sabes de mi madre?\"\n",
    "filter = {\"person_id\": \"20\"}\n",
    "db_results_1 = db.similarity_search_with_score(query=user_input_1, embeddings=embeddings, filter=filter, k=10)\n",
    "context_1 = \"{ message: \" + db_results_1[0][0].page_content + \", metadata: \" + str(db_results_1[0][0].metadata) + \" }\"\n",
    "print(f\"CONTEXT:{context_1}\")\n",
    "system_prompt_1 = f\"\"\"\n",
    "Answer the user's question this message as context.\n",
    "Previous message: {context_1}\n",
    "\"\"\"\n",
    "answer_1 = gpt35_system_user(system_message=system_prompt_1, user_message=user_input_1)\n",
    "answer_1[\"text\"][\"content\"]"
   ]
  },
  {
   "cell_type": "markdown",
   "metadata": {},
   "source": [
    "El modelo falla en tomar la información brindada en el contexto para elaborar la respuesta."
   ]
  }
 ],
 "metadata": {
  "kernelspec": {
   "display_name": "venv",
   "language": "python",
   "name": "python3"
  },
  "language_info": {
   "codemirror_mode": {
    "name": "ipython",
    "version": 3
   },
   "file_extension": ".py",
   "mimetype": "text/x-python",
   "name": "python",
   "nbconvert_exporter": "python",
   "pygments_lexer": "ipython3",
   "version": "3.9.9"
  },
  "orig_nbformat": 4
 },
 "nbformat": 4,
 "nbformat_minor": 2
}
