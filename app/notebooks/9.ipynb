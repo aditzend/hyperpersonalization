{
 "cells": [
  {
   "cell_type": "markdown",
   "metadata": {},
   "source": [
    "Infuencia de la estructura del contexto en el razonamiento cronológico"
   ]
  },
  {
   "cell_type": "code",
   "execution_count": 1,
   "metadata": {},
   "outputs": [],
   "source": [
    "import os\n",
    "\n",
    "import requests\n",
    "import json\n",
    "from langchain.embeddings.openai import OpenAIEmbeddings\n",
    "from langchain.vectorstores import FAISS\n",
    "\n",
    "OPENAI_API_KEY = os.getenv(\"OPENAI_API_KEY\")"
   ]
  },
  {
   "cell_type": "code",
   "execution_count": 10,
   "metadata": {},
   "outputs": [],
   "source": [
    "index_name = \"conversations\"\n",
    "index_path = \"../indexes/conversations\"\n",
    "embeddings = OpenAIEmbeddings()\n",
    "# db = FAISS.from_texts(texts=['9'], embedding=embeddings)\n",
    "# db.save_local(folder_path=index_path, index_name=index_name) \n",
    "# db = FAISS.load_local(folder_path=index_path, index_name=index_name, embeddings=embeddings)\n"
   ]
  },
  {
   "cell_type": "code",
   "execution_count": 32,
   "metadata": {},
   "outputs": [],
   "source": [
    "def gpt_system_user(\n",
    "    system_message: str, user_message: str, model: str = \"gpt-3.5-turbo\"\n",
    "):\n",
    "    \"\"\"Para usar en notebooks\"\"\"\n",
    "    # Hyper 2\n",
    "    # POST https://yoizenia.openai.azure.com/openai/deployments/GPT35Turbo/chat/completions\n",
    "\n",
    "    try:\n",
    "        response = requests.post(\n",
    "            url=\"https://api.openai.com/v1/chat/completions\",\n",
    "            params={\n",
    "                \"temperature\": \"0\",\n",
    "            },\n",
    "            headers={\n",
    "                \"Content-Type\": \"application/json\",\n",
    "                \"Authorization\": f\"Bearer {OPENAI_API_KEY}\",\n",
    "            },\n",
    "            data=json.dumps(\n",
    "                {\n",
    "                    \"model\": model,\n",
    "                    \"messages\": [\n",
    "                        {\"content\": system_message, \"role\": \"system\"},\n",
    "                        {\"content\": user_message, \"role\": \"user\"},\n",
    "                    ]\n",
    "                }\n",
    "            ),\n",
    "            timeout=10,\n",
    "        )\n",
    "        choices = response.json()[\"choices\"]\n",
    "        answer = {\n",
    "            \"status_code\": response.status_code,\n",
    "            \"text\": choices[0][\"message\"],\n",
    "        }\n",
    "        return answer\n",
    "\n",
    "    except requests.exceptions.RequestException:\n",
    "        print(\"HTTP Request failed\")\n",
    "        return None\n"
   ]
  },
  {
   "cell_type": "code",
   "execution_count": 12,
   "metadata": {},
   "outputs": [],
   "source": [
    "condensed_contexts =  [\n",
    "        {\n",
    "          \"messages\": [\n",
    "              {\n",
    "                \"role\": \"user\",\n",
    "                \"content\": \"Quiero un turno para mi madre\"\n",
    "              },\n",
    "              {\n",
    "                \"role\": \"system\",\n",
    "                \"content\": \"cual es el nombre de tu madre?\"\n",
    "              },\n",
    "              {\n",
    "                \"role\": \"user\",\n",
    "                \"content\": \"Alba\"\n",
    "              },\n",
    "              {\n",
    "                \"role\": \"system\",\n",
    "                \"content\": \"y que edad tiene?\"\n",
    "              },\n",
    "              {\n",
    "                \"role\": \"user\",\n",
    "                \"content\": \"66\"\n",
    "              },\n",
    "              {\n",
    "                  \"role\": \"system\",\n",
    "                  \"content\": \"perfecto, tiene turno para el 30 de agosto a las 15:00\"\n",
    "              }\n",
    "           ],\n",
    "          \"metadata\": {\n",
    "            \"session_id\": \"1\",\n",
    "            \"person_id\": \"20\",\n",
    "            \"context_id\": \"1\",\n",
    "            \"created_at\": \"20230825T12:00:00.000Z\",\n",
    "          },\n",
    "        },\n",
    "        {\n",
    "            \"messages\": [\n",
    "                {\n",
    "                \"role\": \"user\",\n",
    "                \"content\": \"Cual es la capital de Colombia?\"\n",
    "                },\n",
    "                {\n",
    "                    \"role\": \"system\",\n",
    "                    \"content\": \"Bogota\"\n",
    "                }\n",
    "            ],\n",
    "            \"metadata\": {\n",
    "                \"session_id\": \"1\",\n",
    "                \"person_id\": \"20\",\n",
    "                \"context_id\": \"2\",\n",
    "                \"created_at\": \"20230825T18:00:00.000Z\",                \n",
    "              }\n",
    "        }\n",
    "  ]\n"
   ]
  },
  {
   "cell_type": "code",
   "execution_count": 37,
   "metadata": {},
   "outputs": [
    {
     "name": "stdout",
     "output_type": "stream",
     "text": [
      "In the conversation, the user mentioned that they want to schedule an appointment for their mother. The user's mother's name is Alba and she is 66 years old. This conversation took place on August 25, 2023, at 12:00 PM. The system confirmed that the mother has an appointment on August 30th at 3:00 PM. \n",
      "\n",
      "\n",
      "///////////////////////////\n",
      "\n",
      "\n",
      "\n",
      "Data Gathered:\n",
      "- The user asked a question: \"Cual es la capital de Colombia?\"\n",
      "- The system responded: \"Bogota\"\n",
      "\n",
      "Date and Time of Data Gathering:\n",
      "- The conversation data was gathered on August 25, 2308 at 18:00:00 UTC. \n",
      "\n",
      "\n",
      "///////////////////////////\n",
      "\n",
      "\n",
      "\n"
     ]
    }
   ],
   "source": [
    "db = FAISS.from_texts(texts=['notebook-9'], embedding=embeddings)\n",
    "for context in condensed_contexts:\n",
    "        # Join all messages in one string by a comma\n",
    "        messages = ''.join([str(message) for message in context['messages']])\n",
    "        # print(messages)\n",
    "        # print(context['metadata'])\n",
    "        extraction = gpt_system_user(\n",
    "            system_message=\"\"\"\n",
    "              Extract every meaningful information about the user from the provided conversation.\n",
    "              Ask yourself, what happened in the conversation?\n",
    "              What data about the user did you learn?\n",
    "              At what date and time was this data gathered?\n",
    "              \"\"\",\n",
    "            user_message=f\" METADATA: ```{context['metadata']} CONVERSATION: ```{messages}``` ```\",\n",
    "            model=\"gpt-3.5-turbo\",\n",
    "        )\n",
    "        print(f\"{extraction['text']['content']} \\n\\n\\n///////////////////////////\\n\\n\\n\")\n",
    "        db.add_texts(\n",
    "            texts=[extraction['text']['content']], \n",
    "            metadatas=[context['metadata']],\n",
    "        )"
   ]
  },
  {
   "cell_type": "markdown",
   "metadata": {},
   "source": [
    "Preguntamos por la edad simplemente, para empezar"
   ]
  },
  {
   "cell_type": "code",
   "execution_count": 39,
   "metadata": {},
   "outputs": [
    {
     "name": "stdout",
     "output_type": "stream",
     "text": [
      "CONTEXT:{ message: In the conversation, the user mentioned that they want to schedule an appointment for their mother. The user's mother's name is Alba and she is 66 years old. This conversation took place on August 25, 2023, at 12:00 PM. The system confirmed that the mother has an appointment on August 30th at 3:00 PM., metadata: {'session_id': '1', 'person_id': '20', 'context_id': '1', 'created_at': '20230825T12:00:00.000Z'} }\n"
     ]
    },
    {
     "data": {
      "text/plain": [
       "'Alba tiene 66 años.'"
      ]
     },
     "execution_count": 39,
     "metadata": {},
     "output_type": "execute_result"
    }
   ],
   "source": [
    "user_input_3 = \"que edad tiene alba?\"\n",
    "filter = {\"person_id\": \"20\"}\n",
    "db_results_3 = db.similarity_search_with_score(query=user_input_3, embeddings=embeddings, filter=filter, k=1)\n",
    "context_3 = \"{ message: \" + db_results_3[0][0].page_content + \", metadata: \" + str(db_results_3[0][0].metadata) + \" }\"\n",
    "print(f\"CONTEXT:{context_3}\")\n",
    "system_prompt_3 = f\"\"\"\n",
    "You are a personal assistant. You will find past conversations between you and the user between backticks.\n",
    "Use them to answer the user's question.\n",
    "\n",
    "```{context_3}```\n",
    "\n",
    "\"\"\"\n",
    "answer_3 = gpt_system_user(system_message=system_prompt_3, user_message=user_input_3)\n",
    "answer_3[\"text\"][\"content\"]\n"
   ]
  },
  {
   "cell_type": "markdown",
   "metadata": {},
   "source": [
    "Ahora vemos siGPT 3.5 puede razonar con la fecha"
   ]
  },
  {
   "cell_type": "code",
   "execution_count": 40,
   "metadata": {},
   "outputs": [
    {
     "name": "stdout",
     "output_type": "stream",
     "text": [
      "CONTEXT:{ message: In the conversation, the user mentioned that they want to schedule an appointment for their mother. The user's mother's name is Alba and she is 66 years old. This conversation took place on August 25, 2023, at 12:00 PM. The system confirmed that the mother has an appointment on August 30th at 3:00 PM., metadata: {'session_id': '1', 'person_id': '20', 'context_id': '1', 'created_at': '20230825T12:00:00.000Z'} }\n"
     ]
    },
    {
     "data": {
      "text/plain": [
       "'Alba tenía 63 años en 2020.'"
      ]
     },
     "execution_count": 40,
     "metadata": {},
     "output_type": "execute_result"
    }
   ],
   "source": [
    "user_input_3 = \"que edad tenía alba en 2020?\"\n",
    "filter = {\"person_id\": \"20\"}\n",
    "db_results_3 = db.similarity_search_with_score(query=user_input_3, embeddings=embeddings, filter=filter, k=1)\n",
    "context_3 = \"{ message: \" + db_results_3[0][0].page_content + \", metadata: \" + str(db_results_3[0][0].metadata) + \" }\"\n",
    "print(f\"CONTEXT:{context_3}\")\n",
    "system_prompt_3 = f\"\"\"\n",
    "You are a personal assistant. You will find past conversations between you and the user between backticks.\n",
    "Use them to answer the user's question.\n",
    "\n",
    "```{context_3}```\n",
    "\n",
    "\"\"\"\n",
    "answer_3 = gpt_system_user(system_message=system_prompt_3, user_message=user_input_3)\n",
    "answer_3[\"text\"][\"content\"]\n"
   ]
  },
  {
   "cell_type": "markdown",
   "metadata": {},
   "source": [
    "Vemos que con esta forma de guardar el dato, 3.5 puede razonar bien la edad."
   ]
  },
  {
   "cell_type": "code",
   "execution_count": 41,
   "metadata": {},
   "outputs": [
    {
     "name": "stdout",
     "output_type": "stream",
     "text": [
      "CONTEXT:{ message: In the conversation, the user mentioned that they want to schedule an appointment for their mother. The user's mother's name is Alba and she is 66 years old. This conversation took place on August 25, 2023, at 12:00 PM. The system confirmed that the mother has an appointment on August 30th at 3:00 PM., metadata: {'session_id': '1', 'person_id': '20', 'context_id': '1', 'created_at': '20230825T12:00:00.000Z'} }\n"
     ]
    },
    {
     "data": {
      "text/plain": [
       "'La edad de Alba en 1970 sería 13 años.'"
      ]
     },
     "execution_count": 41,
     "metadata": {},
     "output_type": "execute_result"
    }
   ],
   "source": [
    "user_input_3 = \"que edad tenía alba en 1970?\"\n",
    "filter = {\"person_id\": \"20\"}\n",
    "db_results_3 = db.similarity_search_with_score(query=user_input_3, embeddings=embeddings, filter=filter, k=1)\n",
    "context_3 = \"{ message: \" + db_results_3[0][0].page_content + \", metadata: \" + str(db_results_3[0][0].metadata) + \" }\"\n",
    "print(f\"CONTEXT:{context_3}\")\n",
    "system_prompt_3 = f\"\"\"\n",
    "You are a personal assistant. You will find past conversations between you and the user between backticks.\n",
    "Use them to answer the user's question.\n",
    "\n",
    "```{context_3}```\n",
    "\n",
    "\"\"\"\n",
    "answer_3 = gpt_system_user(system_message=system_prompt_3, user_message=user_input_3)\n",
    "answer_3[\"text\"][\"content\"]\n"
   ]
  },
  {
   "cell_type": "code",
   "execution_count": 42,
   "metadata": {},
   "outputs": [
    {
     "name": "stdout",
     "output_type": "stream",
     "text": [
      "CONTEXT:{ message: In the conversation, the user mentioned that they want to schedule an appointment for their mother. The user's mother's name is Alba and she is 66 years old. This conversation took place on August 25, 2023, at 12:00 PM. The system confirmed that the mother has an appointment on August 30th at 3:00 PM., metadata: {'session_id': '1', 'person_id': '20', 'context_id': '1', 'created_at': '20230825T12:00:00.000Z'} }\n"
     ]
    },
    {
     "data": {
      "text/plain": [
       "'Sí, conozco a tu madre. Su nombre es Alba y tiene 66 años. ¿En qué puedo ayudarte hoy?'"
      ]
     },
     "execution_count": 42,
     "metadata": {},
     "output_type": "execute_result"
    }
   ],
   "source": [
    "user_input_3 = \"conoces a mi madre?\"\n",
    "filter = {\"person_id\": \"20\"}\n",
    "db_results_3 = db.similarity_search_with_score(query=user_input_3, embeddings=embeddings, filter=filter, k=1)\n",
    "context_3 = \"{ message: \" + db_results_3[0][0].page_content + \", metadata: \" + str(db_results_3[0][0].metadata) + \" }\"\n",
    "print(f\"CONTEXT:{context_3}\")\n",
    "system_prompt_3 = f\"\"\"\n",
    "You are a personal assistant. You will find past conversations between you and the user between backticks.\n",
    "Use them to answer the user's question.\n",
    "\n",
    "```{context_3}```\n",
    "\n",
    "\"\"\"\n",
    "answer_3 = gpt_system_user(system_message=system_prompt_3, user_message=user_input_3)\n",
    "answer_3[\"text\"][\"content\"]\n"
   ]
  }
 ],
 "metadata": {
  "kernelspec": {
   "display_name": "venv",
   "language": "python",
   "name": "python3"
  },
  "language_info": {
   "codemirror_mode": {
    "name": "ipython",
    "version": 3
   },
   "file_extension": ".py",
   "mimetype": "text/x-python",
   "name": "python",
   "nbconvert_exporter": "python",
   "pygments_lexer": "ipython3",
   "version": "3.9.9"
  },
  "orig_nbformat": 4
 },
 "nbformat": 4,
 "nbformat_minor": 2
}
