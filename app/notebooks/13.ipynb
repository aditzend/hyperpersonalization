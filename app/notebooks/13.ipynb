{
 "cells": [
  {
   "cell_type": "code",
   "execution_count": 1,
   "metadata": {},
   "outputs": [],
   "source": [
    "import os\n",
    "\n",
    "import requests\n",
    "import json\n",
    "from langchain.embeddings.openai import OpenAIEmbeddings\n",
    "from langchain.vectorstores import FAISS\n",
    "\n",
    "OPENAI_API_KEY = os.getenv(\"OPENAI_API_KEY\")"
   ]
  },
  {
   "cell_type": "code",
   "execution_count": 2,
   "metadata": {},
   "outputs": [],
   "source": [
    "index_name = \"conversations\"\n",
    "index_path = \"../indexes/conversations\"\n",
    "embeddings = OpenAIEmbeddings()\n",
    "# db = FAISS.from_texts(texts=['9'], embedding=embeddings)\n",
    "# db.save_local(folder_path=index_path, index_name=index_name) \n",
    "# db = FAISS.load_local(folder_path=index_path, index_name=index_name, embeddings=embeddings)\n"
   ]
  },
  {
   "cell_type": "code",
   "execution_count": 3,
   "metadata": {},
   "outputs": [],
   "source": [
    "def gpt_system_user(\n",
    "    system_message: str, user_message: str, model: str = \"gpt-3.5-turbo\"\n",
    "):\n",
    "    \"\"\"Para usar en notebooks\"\"\"\n",
    "    # Hyper 2\n",
    "    # POST https://yoizenia.openai.azure.com/openai/deployments/GPT35Turbo/chat/completions\n",
    "\n",
    "    try:\n",
    "        response = requests.post(\n",
    "            url=\"https://api.openai.com/v1/chat/completions\",\n",
    "            params={\n",
    "                \"temperature\": \"0\",\n",
    "            },\n",
    "            headers={\n",
    "                \"Content-Type\": \"application/json\",\n",
    "                \"Authorization\": f\"Bearer {OPENAI_API_KEY}\",\n",
    "            },\n",
    "            data=json.dumps(\n",
    "                {\n",
    "                    \"model\": model,\n",
    "                    \"messages\": [\n",
    "                        {\"content\": system_message, \"role\": \"system\"},\n",
    "                        {\"content\": user_message, \"role\": \"user\"},\n",
    "                    ]\n",
    "                }\n",
    "            ),\n",
    "            timeout=10,\n",
    "        )\n",
    "        choices = response.json()[\"choices\"]\n",
    "        answer = {\n",
    "            \"status_code\": response.status_code,\n",
    "            \"text\": choices[0][\"message\"],\n",
    "        }\n",
    "        return answer\n",
    "\n",
    "    except requests.exceptions.RequestException:\n",
    "        print(\"HTTP Request failed\")\n",
    "        return None\n"
   ]
  },
  {
   "cell_type": "code",
   "execution_count": 4,
   "metadata": {},
   "outputs": [],
   "source": [
    "condensed_contexts =  [\n",
    "        {\n",
    "          \"messages\": [\n",
    "              {\n",
    "                \"role\": \"user\",\n",
    "                \"content\": \"Voy a sacar un pasaje para la familia de buenos aires a cordoba\"\n",
    "              },\n",
    "              {\n",
    "                \"role\": \"system\",\n",
    "                \"content\": \"quienes son los pasajeros?\"\n",
    "              },\n",
    "              {\n",
    "                \"role\": \"user\",\n",
    "                \"content\": \"Ana es mi hija mayor, tiene 20 años. Juan es mi hijo menor, tiene 10 años. Mi esposa se llama Maria y tiene 40 años. Yo me llamo Pedro y tengo 45 años\"\n",
    "              },\n",
    "              {\n",
    "                \"role\": \"system\",\n",
    "                \"content\": \"en que fecha quiere viajar?\"\n",
    "              },\n",
    "              {\n",
    "                \"role\": \"user\",\n",
    "                \"content\": \"del 20 de agosto al 30 de agosto\"\n",
    "              },\n",
    "              {\n",
    "                  \"role\": \"system\",\n",
    "                  \"content\": \"perfecto, salen el 20 de agosto a las 10:00 y vuelven el 30 de agosto a las 18:00. El precio total es de 1000 dolares. Desea confirmar la compra?\"\n",
    "              },\n",
    "              {\n",
    "                  \"role\": \"user\",\n",
    "                  \"content\": \"si\"\n",
    "              },\n",
    "              {\n",
    "                  \"role\": \"system\",\n",
    "                  \"content\": \"Gracias por su compra\"\n",
    "              }\n",
    "           ],\n",
    "          \"metadata\": {\n",
    "            \"session_id\": \"1\",\n",
    "            \"person_id\": \"20\",\n",
    "            \"context_id\": \"1\",\n",
    "            \"created_at\": \"20200825T12:00:00.000Z\",\n",
    "          },\n",
    "        },\n",
    "        {\n",
    "            \"messages\": [\n",
    "                {\n",
    "                \"role\": \"user\",\n",
    "                \"content\": \"Quiero subir de categoria en el programa de viajero frecuente\"\n",
    "                },\n",
    "                {\n",
    "                    \"role\": \"system\",\n",
    "                    \"content\": \"que categoria tiene actualmente?\"\n",
    "                },\n",
    "                { \n",
    "                  \"role\": \"user\",\n",
    "                  \"content\": \"soy categoria 1\"\n",
    "                },\n",
    "                {\n",
    "                  \"role\": \"system\",\n",
    "                  \"content\": \"para subir de categoria debe tener 1000 millas. Cuantas millas tiene actualmente?\"\n",
    "                },\n",
    "                {\n",
    "                  \"role\": \"user\",\n",
    "                  \"content\": \"tengo 500 millas\"\n",
    "                },\n",
    "                {\n",
    "                  \"role\": \"system\",\n",
    "                  \"content\": \"puede comprar 500 millas por 100 dolares. Desea comprarlas?\"\n",
    "                },\n",
    "                {\n",
    "                  \"role\": \"user\",\n",
    "                  \"content\": \"si\"\n",
    "                },\n",
    "                {\n",
    "                  \"role\": \"system\",\n",
    "                  \"content\": \"Gracias por su compra. Ahora tiene 1000 millas y es categoria 2\"\n",
    "                }\n",
    "            ],\n",
    "            \"metadata\": {\n",
    "                \"session_id\": \"1\",\n",
    "                \"person_id\": \"20\",\n",
    "                \"context_id\": \"2\",\n",
    "                \"created_at\": \"20220825T18:00:00.000Z\",                \n",
    "              }\n",
    "        }\n",
    "  ]\n"
   ]
  },
  {
   "cell_type": "code",
   "execution_count": 5,
   "metadata": {},
   "outputs": [
    {
     "name": "stdout",
     "output_type": "stream",
     "text": [
      "Summary:\n",
      "This conversation took place on August 25th, at 12:00 PM UTC. The user, Pedro, is planning to book a ticket for his family from Buenos Aires to Cordoba. He mentions that his daughter, Ana, is 20 years old, his son Juan is 10 years old, and his wife Maria is 40 years old. Pedro himself is 45 years old. He wants to travel from August 20th to August 30th. The system confirms the details and provides the departure and return times, as well as the total price of $1000. Pedro confirms the purchase, and the conversation ends with a system message thanking him for the purchase. \n",
      "\n",
      "\n",
      "///////////////////////////\n",
      "\n",
      "\n",
      "\n",
      "Data gathered:\n",
      "\n",
      "- Date and time: August 25, 2022, at 18:00:00 UTC\n",
      "- User's session ID: 1\n",
      "- User's person ID: 20\n",
      "- User's context ID: 2\n",
      "\n",
      "Summary:\n",
      "\n",
      "From the conversation, we learned the following information about the user:\n",
      "\n",
      "- The user wants to upgrade their category in a frequent traveler program.\n",
      "- The user's current category is category 1.\n",
      "- The user has 500 miles.\n",
      "- The user is willing to buy 500 miles for $100.\n",
      "- The user has agreed to purchase the miles.\n",
      "- After the purchase, the user now has 1000 miles and is category 2. \n",
      "\n",
      "\n",
      "///////////////////////////\n",
      "\n",
      "\n",
      "\n"
     ]
    }
   ],
   "source": [
    "db = FAISS.from_texts(texts=['notebook-11'], embedding=embeddings)\n",
    "for context in condensed_contexts:\n",
    "        # Join all messages in one string by a comma\n",
    "        messages = ''.join([str(message) for message in context['messages']])\n",
    "        # print(messages)\n",
    "        # print(context['metadata'])\n",
    "        extraction = gpt_system_user(\n",
    "            system_message=\"\"\"\n",
    "              Extract every meaningful information about the user from the provided conversation.\n",
    "              Ask yourself, what happened in the conversation?\n",
    "              What data about the user did you learn?\n",
    "              At what date and time was this data gathered?\n",
    "\n",
    "              Create a summary of everything you learned about the user.\n",
    "              \"\"\",\n",
    "            user_message=f\" METADATA: ```{context['metadata']} CONVERSATION: ```{messages}``` ```\",\n",
    "            model=\"gpt-3.5-turbo\",\n",
    "        )\n",
    "        if extraction['status_code'] != 200:\n",
    "            print(f\"Error: {extraction['text']}\")\n",
    "            continue\n",
    "        else:\n",
    "            print(f\"{extraction['text']['content']} \\n\\n\\n///////////////////////////\\n\\n\\n\")\n",
    "            db.add_texts(\n",
    "                texts=[extraction['text']['content']], \n",
    "                metadatas=[context['metadata']],\n",
    "            )"
   ]
  },
  {
   "cell_type": "markdown",
   "metadata": {},
   "source": [
    "Veamos como se lleva con recuentos."
   ]
  },
  {
   "cell_type": "code",
   "execution_count": 6,
   "metadata": {},
   "outputs": [
    {
     "name": "stdout",
     "output_type": "stream",
     "text": [
      "CONTEXT:{ message: Summary:\n",
      "This conversation took place on August 25th, at 12:00 PM UTC. The user, Pedro, is planning to book a ticket for his family from Buenos Aires to Cordoba. He mentions that his daughter, Ana, is 20 years old, his son Juan is 10 years old, and his wife Maria is 40 years old. Pedro himself is 45 years old. He wants to travel from August 20th to August 30th. The system confirms the details and provides the departure and return times, as well as the total price of $1000. Pedro confirms the purchase, and the conversation ends with a system message thanking him for the purchase., metadata: {'session_id': '1', 'person_id': '20', 'context_id': '1', 'created_at': '20200825T12:00:00.000Z'} }\n"
     ]
    },
    {
     "data": {
      "text/plain": [
       "'Ha realizado un viaje con nosotros. Recientemente reservó un boleto para viajar de Buenos Aires a Córdoba del 20 al 30 de agosto.'"
      ]
     },
     "execution_count": 6,
     "metadata": {},
     "output_type": "execute_result"
    }
   ],
   "source": [
    "user_input_3 = \"cuantos viajes hice con ustedes?\"\n",
    "filter = {\"person_id\": \"20\"}\n",
    "db_results_3 = db.similarity_search_with_score(query=user_input_3, embeddings=embeddings, filter=filter, k=1)\n",
    "context_3 = \"{ message: \" + db_results_3[0][0].page_content + \", metadata: \" + str(db_results_3[0][0].metadata) + \" }\"\n",
    "print(f\"CONTEXT:{context_3}\")\n",
    "system_prompt_3 = f\"\"\"\n",
    "You are a personal assistant. You will find past conversations between you and the user between backticks.\n",
    "Use them to answer the user's question.\n",
    "To reason about dates, have in mind that today is September 13th, 2023.\n",
    "Wait before answering, check when the data was gathered first.\n",
    "Take a deep breath and work on this problem step-by-step.\n",
    "```{context_3}```\n",
    "\n",
    "\"\"\"\n",
    "answer_3 = gpt_system_user(system_message=system_prompt_3, user_message=user_input_3)\n",
    "answer_3[\"text\"][\"content\"]\n"
   ]
  },
  {
   "cell_type": "markdown",
   "metadata": {},
   "source": [
    "Bien, igual hubo uno solo y hay que ver el tema cantidad de chunks."
   ]
  },
  {
   "cell_type": "code",
   "execution_count": 8,
   "metadata": {},
   "outputs": [
    {
     "name": "stdout",
     "output_type": "stream",
     "text": [
      "CONTEXT:{ message: Summary:\n",
      "This conversation took place on August 25th, at 12:00 PM UTC. The user, Pedro, is planning to book a ticket for his family from Buenos Aires to Cordoba. He mentions that his daughter, Ana, is 20 years old, his son Juan is 10 years old, and his wife Maria is 40 years old. Pedro himself is 45 years old. He wants to travel from August 20th to August 30th. The system confirms the details and provides the departure and return times, as well as the total price of $1000. Pedro confirms the purchase, and the conversation ends with a system message thanking him for the purchase., metadata: {'session_id': '1', 'person_id': '20', 'context_id': '1', 'created_at': '20200825T12:00:00.000Z'} }\n"
     ]
    },
    {
     "data": {
      "text/plain": [
       "'Conozco a dos de tus hijos, Ana y Juan. Ana tiene 20 años y Juan tiene 10 años, según la información de nuestra conversación el 25 de agosto.'"
      ]
     },
     "execution_count": 8,
     "metadata": {},
     "output_type": "execute_result"
    }
   ],
   "source": [
    "user_input_3 = \"cuantos hijos mios conoces?\"\n",
    "filter = {\"person_id\": \"20\"}\n",
    "db_results_3 = db.similarity_search_with_score(query=user_input_3, embeddings=embeddings, filter=filter, k=1)\n",
    "context_3 = \"{ message: \" + db_results_3[0][0].page_content + \", metadata: \" + str(db_results_3[0][0].metadata) + \" }\"\n",
    "print(f\"CONTEXT:{context_3}\")\n",
    "system_prompt_3 = f\"\"\"\n",
    "You are a personal assistant. You will find past conversations between you and the user between backticks.\n",
    "Use them to answer the user's question.\n",
    "To reason about dates, have in mind that today is September 13th, 2023.\n",
    "Wait before answering, check when the data was gathered first.\n",
    "Take a deep breath and work on this problem step-by-step.\n",
    "```{context_3}```\n",
    "\n",
    "\"\"\"\n",
    "answer_3 = gpt_system_user(system_message=system_prompt_3, user_message=user_input_3, model=\"gpt-4\")\n",
    "answer_3[\"text\"][\"content\"]\n"
   ]
  },
  {
   "cell_type": "markdown",
   "metadata": {},
   "source": [
    "Trae bien los hijos pero sigue mal con las edades. y es GPT 4. "
   ]
  },
  {
   "cell_type": "code",
   "execution_count": 9,
   "metadata": {},
   "outputs": [
    {
     "name": "stdout",
     "output_type": "stream",
     "text": [
      "CONTEXT:{ message: Summary:\n",
      "This conversation took place on August 25th, at 12:00 PM UTC. The user, Pedro, is planning to book a ticket for his family from Buenos Aires to Cordoba. He mentions that his daughter, Ana, is 20 years old, his son Juan is 10 years old, and his wife Maria is 40 years old. Pedro himself is 45 years old. He wants to travel from August 20th to August 30th. The system confirms the details and provides the departure and return times, as well as the total price of $1000. Pedro confirms the purchase, and the conversation ends with a system message thanking him for the purchase., metadata: {'session_id': '1', 'person_id': '20', 'context_id': '1', 'created_at': '20200825T12:00:00.000Z'} }\n"
     ]
    },
    {
     "data": {
      "text/plain": [
       "'Conozco a dos de tus hijos. De nuestra conversación del 25 de agosto de 2020, sé que Ana tenía 20 años y Juan tenía 10 años. Por lo tanto, hoy, 13 de septiembre de 2023, Ana tendría 23 años y Juan tendría 13 años.'"
      ]
     },
     "execution_count": 9,
     "metadata": {},
     "output_type": "execute_result"
    }
   ],
   "source": [
    "user_input_3 = \"cuantos hijos mios conoces y que edades tienen?\"\n",
    "filter = {\"person_id\": \"20\"}\n",
    "db_results_3 = db.similarity_search_with_score(query=user_input_3, embeddings=embeddings, filter=filter, k=1)\n",
    "context_3 = \"{ message: \" + db_results_3[0][0].page_content + \", metadata: \" + str(db_results_3[0][0].metadata) + \" }\"\n",
    "print(f\"CONTEXT:{context_3}\")\n",
    "system_prompt_3 = f\"\"\"\n",
    "You are a personal assistant. You will find past conversations between you and the user between backticks.\n",
    "Use them to answer the user's question.\n",
    "To reason about dates, have in mind that today is September 13th, 2023.\n",
    "Wait before answering, check when the data was gathered first.\n",
    "Take a deep breath and work on this problem step-by-step.\n",
    "```{context_3}```\n",
    "\n",
    "\"\"\"\n",
    "answer_3 = gpt_system_user(system_message=system_prompt_3, user_message=user_input_3, model=\"gpt-4\")\n",
    "answer_3[\"text\"][\"content\"]\n"
   ]
  },
  {
   "cell_type": "markdown",
   "metadata": {},
   "source": [
    "Buen razonamiento de gpt4"
   ]
  },
  {
   "cell_type": "code",
   "execution_count": 10,
   "metadata": {},
   "outputs": [
    {
     "name": "stdout",
     "output_type": "stream",
     "text": [
      "CONTEXT:{ message: Summary:\n",
      "This conversation took place on August 25th, at 12:00 PM UTC. The user, Pedro, is planning to book a ticket for his family from Buenos Aires to Cordoba. He mentions that his daughter, Ana, is 20 years old, his son Juan is 10 years old, and his wife Maria is 40 years old. Pedro himself is 45 years old. He wants to travel from August 20th to August 30th. The system confirms the details and provides the departure and return times, as well as the total price of $1000. Pedro confirms the purchase, and the conversation ends with a system message thanking him for the purchase., metadata: {'session_id': '1', 'person_id': '20', 'context_id': '1', 'created_at': '20200825T12:00:00.000Z'} }\n"
     ]
    },
    {
     "data": {
      "text/plain": [
       "'Según nuestra conversación anterior, usted tiene dos hijos. Ana tiene 20 años y Juan tiene 10 años.'"
      ]
     },
     "execution_count": 10,
     "metadata": {},
     "output_type": "execute_result"
    }
   ],
   "source": [
    "user_input_3 = \"cuantos hijos mios conoces y que edades tienen?\"\n",
    "filter = {\"person_id\": \"20\"}\n",
    "db_results_3 = db.similarity_search_with_score(query=user_input_3, embeddings=embeddings, filter=filter, k=1)\n",
    "context_3 = \"{ message: \" + db_results_3[0][0].page_content + \", metadata: \" + str(db_results_3[0][0].metadata) + \" }\"\n",
    "print(f\"CONTEXT:{context_3}\")\n",
    "system_prompt_3 = f\"\"\"\n",
    "You are a personal assistant. You will find past conversations between you and the user between backticks.\n",
    "Use them to answer the user's question.\n",
    "To reason about dates, have in mind that today is September 13th, 2023.\n",
    "Wait before answering, check when the data was gathered first.\n",
    "Take a deep breath and work on this problem step-by-step.\n",
    "```{context_3}```\n",
    "\n",
    "\"\"\"\n",
    "answer_3 = gpt_system_user(system_message=system_prompt_3, user_message=user_input_3)\n",
    "answer_3[\"text\"][\"content\"]\n"
   ]
  },
  {
   "cell_type": "markdown",
   "metadata": {},
   "source": [
    "GPT 3.5 sigue sin razonar. "
   ]
  },
  {
   "cell_type": "code",
   "execution_count": 11,
   "metadata": {},
   "outputs": [
    {
     "name": "stdout",
     "output_type": "stream",
     "text": [
      "CONTEXT:{ message: Summary:\n",
      "This conversation took place on August 25th, at 12:00 PM UTC. The user, Pedro, is planning to book a ticket for his family from Buenos Aires to Cordoba. He mentions that his daughter, Ana, is 20 years old, his son Juan is 10 years old, and his wife Maria is 40 years old. Pedro himself is 45 years old. He wants to travel from August 20th to August 30th. The system confirms the details and provides the departure and return times, as well as the total price of $1000. Pedro confirms the purchase, and the conversation ends with a system message thanking him for the purchase., metadata: {'session_id': '1', 'person_id': '20', 'context_id': '1', 'created_at': '20200825T12:00:00.000Z'} }\n"
     ]
    },
    {
     "data": {
      "text/plain": [
       "'Viajaste a Córdoba con tu familia: tu hija Ana, quien tenía 20 años, tu hijo Juan, quien tenía 10 años, y tu esposa María, que tenía 40 años.'"
      ]
     },
     "execution_count": 11,
     "metadata": {},
     "output_type": "execute_result"
    }
   ],
   "source": [
    "user_input_3 = \"con quienes viaje a cordoba?\"\n",
    "filter = {\"person_id\": \"20\"}\n",
    "db_results_3 = db.similarity_search_with_score(query=user_input_3, embeddings=embeddings, filter=filter, k=1)\n",
    "context_3 = \"{ message: \" + db_results_3[0][0].page_content + \", metadata: \" + str(db_results_3[0][0].metadata) + \" }\"\n",
    "print(f\"CONTEXT:{context_3}\")\n",
    "system_prompt_3 = f\"\"\"\n",
    "You are a personal assistant. You will find past conversations between you and the user between backticks.\n",
    "Use them to answer the user's question.\n",
    "To reason about dates, have in mind that today is September 13th, 2023.\n",
    "Wait before answering, check when the data was gathered first.\n",
    "Take a deep breath and work on this problem step-by-step.\n",
    "```{context_3}```\n",
    "\n",
    "\"\"\"\n",
    "answer_3 = gpt_system_user(system_message=system_prompt_3, user_message=user_input_3, model=\"gpt-4\")\n",
    "answer_3[\"text\"][\"content\"]\n"
   ]
  },
  {
   "cell_type": "code",
   "execution_count": 12,
   "metadata": {},
   "outputs": [
    {
     "name": "stdout",
     "output_type": "stream",
     "text": [
      "CONTEXT:{ message: Summary:\n",
      "This conversation took place on August 25th, at 12:00 PM UTC. The user, Pedro, is planning to book a ticket for his family from Buenos Aires to Cordoba. He mentions that his daughter, Ana, is 20 years old, his son Juan is 10 years old, and his wife Maria is 40 years old. Pedro himself is 45 years old. He wants to travel from August 20th to August 30th. The system confirms the details and provides the departure and return times, as well as the total price of $1000. Pedro confirms the purchase, and the conversation ends with a system message thanking him for the purchase., metadata: {'session_id': '1', 'person_id': '20', 'context_id': '1', 'created_at': '20200825T12:00:00.000Z'} }\n"
     ]
    },
    {
     "data": {
      "text/plain": [
       "'El viaje de Buenos Aires a Cordoba que Pedro reservó el 25 de agosto costó un total de $1000.'"
      ]
     },
     "execution_count": 12,
     "metadata": {},
     "output_type": "execute_result"
    }
   ],
   "source": [
    "user_input_3 = \"cuanto habia costado el viaje a cordoba?\"\n",
    "filter = {\"person_id\": \"20\"}\n",
    "db_results_3 = db.similarity_search_with_score(query=user_input_3, embeddings=embeddings, filter=filter, k=1)\n",
    "context_3 = \"{ message: \" + db_results_3[0][0].page_content + \", metadata: \" + str(db_results_3[0][0].metadata) + \" }\"\n",
    "print(f\"CONTEXT:{context_3}\")\n",
    "system_prompt_3 = f\"\"\"\n",
    "You are a personal assistant. You will find past conversations between you and the user between backticks.\n",
    "Use them to answer the user's question.\n",
    "To reason about dates, have in mind that today is September 13th, 2023.\n",
    "Wait before answering, check when the data was gathered first.\n",
    "Take a deep breath and work on this problem step-by-step.\n",
    "```{context_3}```\n",
    "\n",
    "\"\"\"\n",
    "answer_3 = gpt_system_user(system_message=system_prompt_3, user_message=user_input_3, model=\"gpt-4\")\n",
    "answer_3[\"text\"][\"content\"]\n"
   ]
  },
  {
   "cell_type": "markdown",
   "metadata": {},
   "source": [
    "Interesante. No reconoce que esta hablando con pedro y lo trata como 3ra persona."
   ]
  },
  {
   "cell_type": "code",
   "execution_count": 13,
   "metadata": {},
   "outputs": [
    {
     "name": "stdout",
     "output_type": "stream",
     "text": [
      "CONTEXT:{ message: Summary:\n",
      "This conversation took place on August 25th, at 12:00 PM UTC. The user, Pedro, is planning to book a ticket for his family from Buenos Aires to Cordoba. He mentions that his daughter, Ana, is 20 years old, his son Juan is 10 years old, and his wife Maria is 40 years old. Pedro himself is 45 years old. He wants to travel from August 20th to August 30th. The system confirms the details and provides the departure and return times, as well as the total price of $1000. Pedro confirms the purchase, and the conversation ends with a system message thanking him for the purchase., metadata: {'session_id': '1', 'person_id': '20', 'context_id': '1', 'created_at': '20200825T12:00:00.000Z'} }\n"
     ]
    },
    {
     "data": {
      "text/plain": [
       "'El costo del viaje a Córdoba era de $1000.'"
      ]
     },
     "execution_count": 13,
     "metadata": {},
     "output_type": "execute_result"
    }
   ],
   "source": [
    "user_input_3 = \"cuanto habia costado el viaje a cordoba?\"\n",
    "filter = {\"person_id\": \"20\"}\n",
    "db_results_3 = db.similarity_search_with_score(query=user_input_3, embeddings=embeddings, filter=filter, k=1)\n",
    "context_3 = \"{ message: \" + db_results_3[0][0].page_content + \", metadata: \" + str(db_results_3[0][0].metadata) + \" }\"\n",
    "print(f\"CONTEXT:{context_3}\")\n",
    "system_prompt_3 = f\"\"\"\n",
    "You are the personal assistant of the user. You will find past conversations between you and the user between backticks.\n",
    "Use them to answer the user's question.\n",
    "To reason about dates, have in mind that today is September 13th, 2023.\n",
    "Wait before answering, check when the data was gathered first.\n",
    "Take a deep breath and work on this problem step-by-step.\n",
    "```{context_3}```\n",
    "\n",
    "\"\"\"\n",
    "answer_3 = gpt_system_user(system_message=system_prompt_3, user_message=user_input_3)\n",
    "answer_3[\"text\"][\"content\"]\n"
   ]
  },
  {
   "cell_type": "code",
   "execution_count": 37,
   "metadata": {},
   "outputs": [
    {
     "name": "stdout",
     "output_type": "stream",
     "text": [
      "\n",
      " Summary:\n",
      "This conversation took place on August 25th, at 12:00 PM UTC. The user, Pedro, is planning to book a ticket for his family from Buenos Aires to Cordoba. He mentions that his daughter, Ana, is 20 years old, his son Juan is 10 years old, and his wife Maria is 40 years old. Pedro himself is 45 years old. He wants to travel from August 20th to August 30th. The system confirms the details and provides the departure and return times, as well as the total price of $1000. Pedro confirms the purchase, and the conversation ends with a system message thanking him for the purchase. {'session_id': '1', 'person_id': '20', 'context_id': '1', 'created_at': '20200825T12:00:00.000Z'}\n",
      "---------------\n",
      "\n",
      "\n",
      "\n",
      " Data gathered:\n",
      "\n",
      "- Date and time: August 25, 2022, at 18:00:00 UTC\n",
      "- User's session ID: 1\n",
      "- User's person ID: 20\n",
      "- User's context ID: 2\n",
      "\n",
      "Summary:\n",
      "\n",
      "From the conversation, we learned the following information about the user:\n",
      "\n",
      "- The user wants to upgrade their category in a frequent traveler program.\n",
      "- The user's current category is category 1.\n",
      "- The user has 500 miles.\n",
      "- The user is willing to buy 500 miles for $100.\n",
      "- The user has agreed to purchase the miles.\n",
      "- After the purchase, the user now has 1000 miles and is category 2. {'session_id': '1', 'person_id': '20', 'context_id': '2', 'created_at': '20220825T18:00:00.000Z'}\n",
      "---------------\n",
      "\n",
      "\n"
     ]
    },
    {
     "data": {
      "text/plain": [
       "'Según la última información recopilada el 25 de agosto de 2022, usted tiene 1000 millas en su cuenta.'"
      ]
     },
     "execution_count": 37,
     "metadata": {},
     "output_type": "execute_result"
    }
   ],
   "source": [
    "user_input = \"cuantas millas tengo?\"\n",
    "filter = {\"person_id\": \"20\"}\n",
    "db_results = db.similarity_search_with_score(query=user_input, embeddings=embeddings, filter=filter, k=2)\n",
    "context_3 = \"{ message: \" + db_results_3[1][0].page_content + \", metadata: \" + str(db_results_3[1][0].metadata) + \" }\"\n",
    "context_k2 = [f'\\n {db_results[i][0].page_content} {db_results[i][0].metadata}\\n---------------\\n\\n' for i in range(len(db_results))]\n",
    "context = context_k2\n",
    "for c in context:\n",
    "    print(c)\n",
    "system_prompt_3 = f\"\"\"\n",
    "You are the personal assistant of the user. You will find past conversations between you and the user between backticks.\n",
    "Use them to answer the user's question.\n",
    "To reason about dates, have in mind that today is September 13th, 2023.\n",
    "Wait before answering, check when the data was gathered first.\n",
    "Take a deep breath and work on this problem step-by-step.\n",
    "\n",
    "```{context}```\n",
    "\n",
    "\"\"\"\n",
    "answer_3 = gpt_system_user(system_message=system_prompt_3, user_message=user_input_3)\n",
    "answer_3[\"text\"][\"content\"]\n"
   ]
  },
  {
   "cell_type": "code",
   "execution_count": 45,
   "metadata": {},
   "outputs": [
    {
     "name": "stdout",
     "output_type": "stream",
     "text": [
      "\n",
      " Summary:\n",
      "This conversation took place on August 25th, at 12:00 PM UTC. The user, Pedro, is planning to book a ticket for his family from Buenos Aires to Cordoba. He mentions that his daughter, Ana, is 20 years old, his son Juan is 10 years old, and his wife Maria is 40 years old. Pedro himself is 45 years old. He wants to travel from August 20th to August 30th. The system confirms the details and provides the departure and return times, as well as the total price of $1000. Pedro confirms the purchase, and the conversation ends with a system message thanking him for the purchase. {'session_id': '1', 'person_id': '20', 'context_id': '1', 'created_at': '20200825T12:00:00.000Z'}\n",
      "---------------\n",
      "\n",
      "\n",
      "\n",
      " Data gathered:\n",
      "\n",
      "- Date and time: August 25, 2022, at 18:00:00 UTC\n",
      "- User's session ID: 1\n",
      "- User's person ID: 20\n",
      "- User's context ID: 2\n",
      "\n",
      "Summary:\n",
      "\n",
      "From the conversation, we learned the following information about the user:\n",
      "\n",
      "- The user wants to upgrade their category in a frequent traveler program.\n",
      "- The user's current category is category 1.\n",
      "- The user has 500 miles.\n",
      "- The user is willing to buy 500 miles for $100.\n",
      "- The user has agreed to purchase the miles.\n",
      "- After the purchase, the user now has 1000 miles and is category 2. {'session_id': '1', 'person_id': '20', 'context_id': '2', 'created_at': '20220825T18:00:00.000Z'}\n",
      "---------------\n",
      "\n",
      "\n"
     ]
    },
    {
     "data": {
      "text/plain": [
       "'Antes de tu última compra, tenías 500 millas.'"
      ]
     },
     "execution_count": 45,
     "metadata": {},
     "output_type": "execute_result"
    }
   ],
   "source": [
    "user_input = \"cuantas millas tenia yo antes de la ultima compra?\"\n",
    "filter = {\"person_id\": \"20\"}\n",
    "db_results = db.similarity_search_with_score(query=user_input, embeddings=embeddings, filter=filter, k=2)\n",
    "context_k2 = [f'\\n {db_results[i][0].page_content} {db_results[i][0].metadata}\\n---------------\\n\\n' for i in range(len(db_results))]\n",
    "context = context_k2\n",
    "for c in context:\n",
    "    print(c)\n",
    "system_prompt = f\"\"\"\n",
    "You are the personal assistant of the user. You will find past conversations between you and the user between backticks.\n",
    "Use them to answer the user's question.\n",
    "To reason about dates, have in mind that today is September 13th, 2023.\n",
    "Wait before answering, check when the data was gathered first.\n",
    "Take a deep breath and work on this problem step-by-step.\n",
    "\n",
    "```{context}```\n",
    "\n",
    "\"\"\"\n",
    "answer = gpt_system_user(system_message=system_prompt, user_message=user_input, model=\"gpt-4\")\n",
    "answer[\"text\"][\"content\"]\n"
   ]
  },
  {
   "cell_type": "markdown",
   "metadata": {},
   "source": [
    "Mezclando data y fechas de dos contextos"
   ]
  },
  {
   "cell_type": "code",
   "execution_count": 47,
   "metadata": {},
   "outputs": [
    {
     "name": "stdout",
     "output_type": "stream",
     "text": [
      "\n",
      " Summary:\n",
      "This conversation took place on August 25th, at 12:00 PM UTC. The user, Pedro, is planning to book a ticket for his family from Buenos Aires to Cordoba. He mentions that his daughter, Ana, is 20 years old, his son Juan is 10 years old, and his wife Maria is 40 years old. Pedro himself is 45 years old. He wants to travel from August 20th to August 30th. The system confirms the details and provides the departure and return times, as well as the total price of $1000. Pedro confirms the purchase, and the conversation ends with a system message thanking him for the purchase. {'session_id': '1', 'person_id': '20', 'context_id': '1', 'created_at': '20200825T12:00:00.000Z'}\n",
      "---------------\n",
      "\n",
      "\n",
      "\n",
      " Data gathered:\n",
      "\n",
      "- Date and time: August 25, 2022, at 18:00:00 UTC\n",
      "- User's session ID: 1\n",
      "- User's person ID: 20\n",
      "- User's context ID: 2\n",
      "\n",
      "Summary:\n",
      "\n",
      "From the conversation, we learned the following information about the user:\n",
      "\n",
      "- The user wants to upgrade their category in a frequent traveler program.\n",
      "- The user's current category is category 1.\n",
      "- The user has 500 miles.\n",
      "- The user is willing to buy 500 miles for $100.\n",
      "- The user has agreed to purchase the miles.\n",
      "- After the purchase, the user now has 1000 miles and is category 2. {'session_id': '1', 'person_id': '20', 'context_id': '2', 'created_at': '20220825T18:00:00.000Z'}\n",
      "---------------\n",
      "\n",
      "\n"
     ]
    },
    {
     "data": {
      "text/plain": [
       "'El viaje a Cordoba se realizó el 20 de agosto de 2020, y la información sobre las millas del usuario se registró el 25 de agosto de 2022. Por lo tanto, en el momento del viaje a Cordoba, no se tiene registrada la cantidad de millas que el usuario tenía.'"
      ]
     },
     "execution_count": 47,
     "metadata": {},
     "output_type": "execute_result"
    }
   ],
   "source": [
    "user_input = \"cuantas millas tenia en el momento de hacer el viaje a cordoba?\"\n",
    "filter = {\"person_id\": \"20\"}\n",
    "db_results = db.similarity_search_with_score(query=user_input, embeddings=embeddings, filter=filter, k=2)\n",
    "context_k2 = [f'\\n {db_results[i][0].page_content} {db_results[i][0].metadata}\\n---------------\\n\\n' for i in range(len(db_results))]\n",
    "context = context_k2\n",
    "for c in context:\n",
    "    print(c)\n",
    "system_prompt = f\"\"\"\n",
    "You are the personal assistant of the user. You will find past conversations between you and the user between backticks.\n",
    "Use them to answer the user's question.\n",
    "To reason about dates, have in mind that today is September 13th, 2023.\n",
    "Wait before answering, check when the data was gathered first.\n",
    "Take a deep breath and work on this problem step-by-step.\n",
    "\n",
    "```{context}```\n",
    "\n",
    "\"\"\"\n",
    "answer = gpt_system_user(system_message=system_prompt, user_message=user_input, model=\"gpt-4\")\n",
    "answer[\"text\"][\"content\"]\n"
   ]
  },
  {
   "cell_type": "code",
   "execution_count": 44,
   "metadata": {},
   "outputs": [
    {
     "name": "stdout",
     "output_type": "stream",
     "text": [
      "\n",
      " Summary:\n",
      "This conversation took place on August 25th, at 12:00 PM UTC. The user, Pedro, is planning to book a ticket for his family from Buenos Aires to Cordoba. He mentions that his daughter, Ana, is 20 years old, his son Juan is 10 years old, and his wife Maria is 40 years old. Pedro himself is 45 years old. He wants to travel from August 20th to August 30th. The system confirms the details and provides the departure and return times, as well as the total price of $1000. Pedro confirms the purchase, and the conversation ends with a system message thanking him for the purchase. {'session_id': '1', 'person_id': '20', 'context_id': '1', 'created_at': '20200825T12:00:00.000Z'}\n",
      "---------------\n",
      "\n",
      "\n",
      "\n",
      " Data gathered:\n",
      "\n",
      "- Date and time: August 25, 2022, at 18:00:00 UTC\n",
      "- User's session ID: 1\n",
      "- User's person ID: 20\n",
      "- User's context ID: 2\n",
      "\n",
      "Summary:\n",
      "\n",
      "From the conversation, we learned the following information about the user:\n",
      "\n",
      "- The user wants to upgrade their category in a frequent traveler program.\n",
      "- The user's current category is category 1.\n",
      "- The user has 500 miles.\n",
      "- The user is willing to buy 500 miles for $100.\n",
      "- The user has agreed to purchase the miles.\n",
      "- After the purchase, the user now has 1000 miles and is category 2. {'session_id': '1', 'person_id': '20', 'context_id': '2', 'created_at': '20220825T18:00:00.000Z'}\n",
      "---------------\n",
      "\n",
      "\n"
     ]
    },
    {
     "data": {
      "text/plain": [
       "'Según la conversación del 25 de agosto de 2022, usted es de la categoría 2 en el programa de viajero frecuente.'"
      ]
     },
     "execution_count": 44,
     "metadata": {},
     "output_type": "execute_result"
    }
   ],
   "source": [
    "user_input = \"que categoria soy?\"\n",
    "filter = {\"person_id\": \"20\"}\n",
    "db_results = db.similarity_search_with_score(query=user_input, embeddings=embeddings, filter=filter, k=2)\n",
    "context_3 = \"{ message: \" + db_results_3[1][0].page_content + \", metadata: \" + str(db_results_3[1][0].metadata) + \" }\"\n",
    "context_k2 = [f'\\n {db_results[i][0].page_content} {db_results[i][0].metadata}\\n---------------\\n\\n' for i in range(len(db_results))]\n",
    "context = context_k2\n",
    "for c in context:\n",
    "    print(c)\n",
    "system_prompt = f\"\"\"\n",
    "You are the personal assistant of the user. You will find past conversations between you and the user between backticks.\n",
    "Use them to answer the user's question.\n",
    "To reason about dates, have in mind that today is September 13th, 2023.\n",
    "Wait before answering, check when the data was gathered first.\n",
    "Take a deep breath and work on this problem step-by-step.\n",
    "\n",
    "```{context}```\n",
    "\n",
    "\"\"\"\n",
    "answer_3 = gpt_system_user(system_message=system_prompt, user_message=user_input, model=\"gpt-4\")\n",
    "answer_3[\"text\"][\"content\"]\n"
   ]
  },
  {
   "cell_type": "code",
   "execution_count": 48,
   "metadata": {},
   "outputs": [
    {
     "name": "stdout",
     "output_type": "stream",
     "text": [
      "\n",
      " Summary:\n",
      "This conversation took place on August 25th, at 12:00 PM UTC. The user, Pedro, is planning to book a ticket for his family from Buenos Aires to Cordoba. He mentions that his daughter, Ana, is 20 years old, his son Juan is 10 years old, and his wife Maria is 40 years old. Pedro himself is 45 years old. He wants to travel from August 20th to August 30th. The system confirms the details and provides the departure and return times, as well as the total price of $1000. Pedro confirms the purchase, and the conversation ends with a system message thanking him for the purchase. {'session_id': '1', 'person_id': '20', 'context_id': '1', 'created_at': '20200825T12:00:00.000Z'}\n",
      "---------------\n",
      "\n",
      "\n",
      "\n",
      " Data gathered:\n",
      "\n",
      "- Date and time: August 25, 2022, at 18:00:00 UTC\n",
      "- User's session ID: 1\n",
      "- User's person ID: 20\n",
      "- User's context ID: 2\n",
      "\n",
      "Summary:\n",
      "\n",
      "From the conversation, we learned the following information about the user:\n",
      "\n",
      "- The user wants to upgrade their category in a frequent traveler program.\n",
      "- The user's current category is category 1.\n",
      "- The user has 500 miles.\n",
      "- The user is willing to buy 500 miles for $100.\n",
      "- The user has agreed to purchase the miles.\n",
      "- After the purchase, the user now has 1000 miles and is category 2. {'session_id': '1', 'person_id': '20', 'context_id': '2', 'created_at': '20220825T18:00:00.000Z'}\n",
      "---------------\n",
      "\n",
      "\n"
     ]
    },
    {
     "data": {
      "text/plain": [
       "'Para alcanzar la categoría 2 en el programa de viajero frecuente, pagaste $100 para comprar 500 millas, según la conversación que tuvimos el 25 de agosto de 2022.'"
      ]
     },
     "execution_count": 48,
     "metadata": {},
     "output_type": "execute_result"
    }
   ],
   "source": [
    "user_input = \"cuanto pagué para llegar a nivel 2?\"\n",
    "filter = {\"person_id\": \"20\"}\n",
    "db_results = db.similarity_search_with_score(query=user_input, embeddings=embeddings, filter=filter, k=2)\n",
    "context_3 = \"{ message: \" + db_results_3[1][0].page_content + \", metadata: \" + str(db_results_3[1][0].metadata) + \" }\"\n",
    "context_k2 = [f'\\n {db_results[i][0].page_content} {db_results[i][0].metadata}\\n---------------\\n\\n' for i in range(len(db_results))]\n",
    "context = context_k2\n",
    "for c in context:\n",
    "    print(c)\n",
    "system_prompt = f\"\"\"\n",
    "You are the personal assistant of the user. You will find past conversations between you and the user between backticks.\n",
    "Use them to answer the user's question.\n",
    "To reason about dates, have in mind that today is September 13th, 2023.\n",
    "Wait before answering, check when the data was gathered first.\n",
    "Take a deep breath and work on this problem step-by-step.\n",
    "\n",
    "```{context}```\n",
    "\n",
    "\"\"\"\n",
    "answer_3 = gpt_system_user(system_message=system_prompt, user_message=user_input, model=\"gpt-4\")\n",
    "answer_3[\"text\"][\"content\"]\n"
   ]
  }
 ],
 "metadata": {
  "kernelspec": {
   "display_name": "venv",
   "language": "python",
   "name": "python3"
  },
  "language_info": {
   "codemirror_mode": {
    "name": "ipython",
    "version": 3
   },
   "file_extension": ".py",
   "mimetype": "text/x-python",
   "name": "python",
   "nbconvert_exporter": "python",
   "pygments_lexer": "ipython3",
   "version": "3.9.9"
  },
  "orig_nbformat": 4
 },
 "nbformat": 4,
 "nbformat_minor": 2
}
