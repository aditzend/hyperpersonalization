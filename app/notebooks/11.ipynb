{
 "cells": [
  {
   "cell_type": "code",
   "execution_count": 1,
   "metadata": {},
   "outputs": [],
   "source": [
    "import os\n",
    "\n",
    "import requests\n",
    "import json\n",
    "from langchain.embeddings.openai import OpenAIEmbeddings\n",
    "from langchain.vectorstores import FAISS\n",
    "\n",
    "OPENAI_API_KEY = os.getenv(\"OPENAI_API_KEY\")"
   ]
  },
  {
   "cell_type": "code",
   "execution_count": 2,
   "metadata": {},
   "outputs": [],
   "source": [
    "index_name = \"conversations\"\n",
    "index_path = \"../indexes/conversations\"\n",
    "embeddings = OpenAIEmbeddings()\n",
    "# db = FAISS.from_texts(texts=['9'], embedding=embeddings)\n",
    "# db.save_local(folder_path=index_path, index_name=index_name) \n",
    "# db = FAISS.load_local(folder_path=index_path, index_name=index_name, embeddings=embeddings)\n"
   ]
  },
  {
   "cell_type": "code",
   "execution_count": 3,
   "metadata": {},
   "outputs": [],
   "source": [
    "def gpt_system_user(\n",
    "    system_message: str, user_message: str, model: str = \"gpt-3.5-turbo\"\n",
    "):\n",
    "    \"\"\"Para usar en notebooks\"\"\"\n",
    "    # Hyper 2\n",
    "    # POST https://yoizenia.openai.azure.com/openai/deployments/GPT35Turbo/chat/completions\n",
    "\n",
    "    try:\n",
    "        response = requests.post(\n",
    "            url=\"https://api.openai.com/v1/chat/completions\",\n",
    "            params={\n",
    "                \"temperature\": \"0\",\n",
    "            },\n",
    "            headers={\n",
    "                \"Content-Type\": \"application/json\",\n",
    "                \"Authorization\": f\"Bearer {OPENAI_API_KEY}\",\n",
    "            },\n",
    "            data=json.dumps(\n",
    "                {\n",
    "                    \"model\": model,\n",
    "                    \"messages\": [\n",
    "                        {\"content\": system_message, \"role\": \"system\"},\n",
    "                        {\"content\": user_message, \"role\": \"user\"},\n",
    "                    ]\n",
    "                }\n",
    "            ),\n",
    "            timeout=10,\n",
    "        )\n",
    "        choices = response.json()[\"choices\"]\n",
    "        answer = {\n",
    "            \"status_code\": response.status_code,\n",
    "            \"text\": choices[0][\"message\"],\n",
    "        }\n",
    "        return answer\n",
    "\n",
    "    except requests.exceptions.RequestException:\n",
    "        print(\"HTTP Request failed\")\n",
    "        return None\n"
   ]
  },
  {
   "cell_type": "markdown",
   "metadata": {},
   "source": []
  },
  {
   "cell_type": "code",
   "execution_count": 4,
   "metadata": {},
   "outputs": [],
   "source": [
    "condensed_contexts =  [\n",
    "        {\n",
    "          \"messages\": [\n",
    "              {\n",
    "                \"role\": \"user\",\n",
    "                \"content\": \"Voy a sacar un pasaje para la familia de buenos aires a cordoba\"\n",
    "              },\n",
    "              {\n",
    "                \"role\": \"system\",\n",
    "                \"content\": \"quienes son los pasajeros?\"\n",
    "              },\n",
    "              {\n",
    "                \"role\": \"user\",\n",
    "                \"content\": \"Ana es mi hija mayor, tiene 20 años. Juan es mi hijo menor, tiene 10 años. Mi esposa se llama Maria y tiene 40 años. Yo me llamo Pedro y tengo 45 años\"\n",
    "              },\n",
    "              {\n",
    "                \"role\": \"system\",\n",
    "                \"content\": \"en que fecha quiere viajar?\"\n",
    "              },\n",
    "              {\n",
    "                \"role\": \"user\",\n",
    "                \"content\": \"del 20 de agosto al 30 de agosto\"\n",
    "              },\n",
    "              {\n",
    "                  \"role\": \"system\",\n",
    "                  \"content\": \"perfecto, salen el 20 de agosto a las 10:00 y vuelven el 30 de agosto a las 18:00. El precio total es de 1000 dolares. Desea confirmar la compra?\"\n",
    "              },\n",
    "              {\n",
    "                  \"role\": \"user\",\n",
    "                  \"content\": \"si\"\n",
    "              },\n",
    "              {\n",
    "                  \"role\": \"system\",\n",
    "                  \"content\": \"Gracias por su compra\"\n",
    "              }\n",
    "           ],\n",
    "          \"metadata\": {\n",
    "            \"session_id\": \"1\",\n",
    "            \"person_id\": \"20\",\n",
    "            \"context_id\": \"1\",\n",
    "            \"created_at\": \"20200825T12:00:00.000Z\",\n",
    "          },\n",
    "        },\n",
    "        {\n",
    "            \"messages\": [\n",
    "                {\n",
    "                \"role\": \"user\",\n",
    "                \"content\": \"Quiero subir de categoria en el programa de viajero frecuente\"\n",
    "                },\n",
    "                {\n",
    "                    \"role\": \"system\",\n",
    "                    \"content\": \"que categoria tiene actualmente?\"\n",
    "                },\n",
    "                { \n",
    "                  \"role\": \"user\",\n",
    "                  \"content\": \"soy categoria 1\"\n",
    "                },\n",
    "                {\n",
    "                  \"role\": \"system\",\n",
    "                  \"content\": \"para subir de categoria debe tener 1000 millas. Cuantas millas tiene actualmente?\"\n",
    "                },\n",
    "                {\n",
    "                  \"role\": \"user\",\n",
    "                  \"content\": \"tengo 500 millas\"\n",
    "                },\n",
    "                {\n",
    "                  \"role\": \"system\",\n",
    "                  \"content\": \"puede comprar 500 millas por 100 dolares. Desea comprarlas?\"\n",
    "                },\n",
    "                {\n",
    "                  \"role\": \"user\",\n",
    "                  \"content\": \"si\"\n",
    "                },\n",
    "                {\n",
    "                  \"role\": \"system\",\n",
    "                  \"content\": \"Gracias por su compra. Ahora tiene 1000 millas y es categoria 2\"\n",
    "                }\n",
    "            ],\n",
    "            \"metadata\": {\n",
    "                \"session_id\": \"1\",\n",
    "                \"person_id\": \"20\",\n",
    "                \"context_id\": \"2\",\n",
    "                \"created_at\": \"20220825T18:00:00.000Z\",                \n",
    "              }\n",
    "        }\n",
    "  ]\n"
   ]
  },
  {
   "cell_type": "markdown",
   "metadata": {},
   "source": [
    "Para ayudar al modelo a razonar sobre la fecha se prueba con un prompt que le pida que extraiga toda la info significativa del contexto."
   ]
  },
  {
   "cell_type": "code",
   "execution_count": 5,
   "metadata": {},
   "outputs": [
    {
     "name": "stdout",
     "output_type": "stream",
     "text": [
      "{ \n",
      "  DATA: 'Voy a sacar un pasaje para la familia de buenos aires a cordoba, Ana es mi hija mayor, tiene 20 años. Juan es mi hijo menor, tiene 10 años. Mi esposa se llama Maria y tiene 40 años. Yo me llamo Pedro y tengo 45 años, del 20 de agosto al 30 de agosto, si',\n",
      "  CREATED_AT: '20200825T12:00:00.000Z'},\n",
      "  RELATIONSHIP: 'The user provided information about the family members who will be traveling, their respective ages, the desired travel dates, and confirmed the purchase.' \n",
      "\n",
      "\n",
      "///////////////////////////\n",
      "\n",
      "\n",
      "\n",
      "{ \n",
      "  DATA: \n",
      "  - Categoría actual: \"1\"\n",
      "  - Millas actuales: \"500\"\n",
      "  - Millas después de la compra: \"1000\"\n",
      "  - Nueva categoría: \"2\"\n",
      "  CREATED_AT: \"2022-08-25T18:00:00Z\"\n",
      "  RELATIONSHIP: These are the data that was gathered from the conversation between the user and the system.\n",
      "} \n",
      "\n",
      "\n",
      "///////////////////////////\n",
      "\n",
      "\n",
      "\n"
     ]
    }
   ],
   "source": [
    "db = FAISS.from_texts(texts=['notebook-11'], embedding=embeddings)\n",
    "for context in condensed_contexts:\n",
    "        # Join all messages in one string by a comma\n",
    "        messages = ''.join([str(message) for message in context['messages']])\n",
    "        # print(messages)\n",
    "        # print(context['metadata'])\n",
    "        extraction = gpt_system_user(\n",
    "            system_message=\"\"\"\n",
    "              Extract every meaningful information about the user from the provided conversation.\n",
    "              Ask yourself, what happened in the conversation?\n",
    "              What data about the user did you learn?\n",
    "              At what date and time was this data gathered?\n",
    "              \n",
    "              Use this response format:\n",
    "\n",
    "              { \n",
    "                DATA: `the meaningful information that you have learned about the user`,\n",
    "                CREATED_AT: `the date and time when this data was gathered`},\n",
    "                RELATIONSHIP: `the relationship between the user and the data that you have learned`,\n",
    "              }\n",
    "\n",
    "\n",
    "              Take a deep breath and work on this problem step-by-step.\n",
    "              \"\"\",\n",
    "            user_message=f\" METADATA: ```{context['metadata']} CONVERSATION: ```{messages}``` ```\",\n",
    "            model=\"gpt-3.5-turbo\",\n",
    "        )\n",
    "        print(f\"{extraction['text']['content']} \\n\\n\\n///////////////////////////\\n\\n\\n\")\n",
    "        db.add_texts(\n",
    "            texts=[extraction['text']['content']], \n",
    "            metadatas=[context['metadata']],\n",
    "        )"
   ]
  },
  {
   "cell_type": "markdown",
   "metadata": {},
   "source": [
    "Preguntamos por la edad simplemente, para empezar"
   ]
  },
  {
   "cell_type": "code",
   "execution_count": 6,
   "metadata": {},
   "outputs": [
    {
     "name": "stdout",
     "output_type": "stream",
     "text": [
      "CONTEXT:{ message: { \n",
      "  DATA: 'Voy a sacar un pasaje para la familia de buenos aires a cordoba, Ana es mi hija mayor, tiene 20 años. Juan es mi hijo menor, tiene 10 años. Mi esposa se llama Maria y tiene 40 años. Yo me llamo Pedro y tengo 45 años, del 20 de agosto al 30 de agosto, si',\n",
      "  CREATED_AT: '20200825T12:00:00.000Z'},\n",
      "  RELATIONSHIP: 'The user provided information about the family members who will be traveling, their respective ages, the desired travel dates, and confirmed the purchase.', metadata: {'session_id': '1', 'person_id': '20', 'context_id': '1', 'created_at': '20200825T12:00:00.000Z'} }\n"
     ]
    },
    {
     "data": {
      "text/plain": [
       "'Tu hija mayor tiene 20 años.'"
      ]
     },
     "execution_count": 6,
     "metadata": {},
     "output_type": "execute_result"
    }
   ],
   "source": [
    "user_input_3 = \"que edad tiene mi hija mayor?\"\n",
    "filter = {\"person_id\": \"20\"}\n",
    "db_results_3 = db.similarity_search_with_score(query=user_input_3, embeddings=embeddings, filter=filter, k=1)\n",
    "context_3 = \"{ message: \" + db_results_3[0][0].page_content + \", metadata: \" + str(db_results_3[0][0].metadata) + \" }\"\n",
    "print(f\"CONTEXT:{context_3}\")\n",
    "system_prompt_3 = f\"\"\"\n",
    "You are a personal assistant. You will find past conversations between you and the user between backticks.\n",
    "Use them to answer the user's question.\n",
    "To reason about dates, have in mind that today is September 13th, 2023.\n",
    "You are now located in Buenos Aires, Argentina.\n",
    "Take a deep breath and work on this problem step-by-step.\n",
    "```{context_3}```\n",
    "\n",
    "\"\"\"\n",
    "answer_3 = gpt_system_user(system_message=system_prompt_3, user_message=user_input_3)\n",
    "answer_3[\"text\"][\"content\"]\n"
   ]
  },
  {
   "cell_type": "markdown",
   "metadata": {},
   "source": [
    "Persiste el problema de razonamiento sobre la fecha. El dato de la edad es de 2020, la respuesta correcta es 23."
   ]
  }
 ],
 "metadata": {
  "kernelspec": {
   "display_name": "venv",
   "language": "python",
   "name": "python3"
  },
  "language_info": {
   "codemirror_mode": {
    "name": "ipython",
    "version": 3
   },
   "file_extension": ".py",
   "mimetype": "text/x-python",
   "name": "python",
   "nbconvert_exporter": "python",
   "pygments_lexer": "ipython3",
   "version": "3.9.9"
  },
  "orig_nbformat": 4
 },
 "nbformat": 4,
 "nbformat_minor": 2
}
