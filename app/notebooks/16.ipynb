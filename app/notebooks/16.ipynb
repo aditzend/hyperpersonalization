{
 "cells": [
  {
   "cell_type": "code",
   "execution_count": 1,
   "metadata": {},
   "outputs": [],
   "source": [
    "import os\n",
    "\n",
    "import requests\n",
    "import json\n",
    "from langchain.embeddings.openai import OpenAIEmbeddings\n",
    "from langchain.vectorstores import FAISS\n",
    "\n",
    "OPENAI_API_KEY = os.getenv(\"OPENAI_API_KEY\")"
   ]
  },
  {
   "cell_type": "code",
   "execution_count": 2,
   "metadata": {},
   "outputs": [],
   "source": [
    "index_name = \"conversations\"\n",
    "index_path = \"../indexes/conversations\"\n",
    "embeddings = OpenAIEmbeddings()\n",
    "# db = FAISS.from_texts(texts=['9'], embedding=embeddings)\n",
    "# db.save_local(folder_path=index_path, index_name=index_name) \n",
    "# db = FAISS.load_local(folder_path=index_path, index_name=index_name, embeddings=embeddings)\n"
   ]
  },
  {
   "cell_type": "code",
   "execution_count": 3,
   "metadata": {},
   "outputs": [],
   "source": [
    "def gpt_system_user(\n",
    "    system_message: str, user_message: str, model: str = \"gpt-3.5-turbo\"\n",
    "):\n",
    "    \"\"\"Para usar en notebooks\"\"\"\n",
    "    # Hyper 2\n",
    "    # POST https://yoizenia.openai.azure.com/openai/deployments/GPT35Turbo/chat/completions\n",
    "\n",
    "    try:\n",
    "        messages = [\n",
    "                        {\"content\": system_message, \"role\": \"system\"},\n",
    "                        {\"content\": user_message, \"role\": \"user\"},\n",
    "                    ]\n",
    "        functions = [ \n",
    "                        {\n",
    "                          \"name\": \"create_appointment\",\n",
    "                          \"description\": \"Create a medical appointment\",\n",
    "                          \"parameters\": {\n",
    "                              \"type\": \"object\",\n",
    "                              \"properties\": {\n",
    "                                  \"patient_name\": {\n",
    "                                      \"type\": \"string\",\n",
    "                                      \"description\": \"Name of the patient\",\n",
    "                                  },\n",
    "                                  \"patient_email\": {\n",
    "                                      \"type\": \"string\",\n",
    "                                      \"description\": \"Email of the patient\",\n",
    "                                  },\n",
    "                                  \"medic_name\": {\n",
    "                                      \"type\": \"string\",\n",
    "                                      \"description\": \"Name of the medic\",\n",
    "                                  },\n",
    "                                  \"appointment_datetime\": {\n",
    "                                      \"type\": \"string\",\n",
    "                                      \"description\": \"Date and time of the appointment\",\n",
    "                                  },\n",
    "                                                                    \n",
    "                              },\n",
    "                              \"required\": [\"patient_name\", \"patient_email\", \"medic_name\", \"appointment_datetime\"],\n",
    "                          },\n",
    "                        }\n",
    "                      ]\n",
    "        response = requests.post(\n",
    "            url=\"https://api.openai.com/v1/chat/completions\",\n",
    "            params={\n",
    "                \"temperature\": \"0\",\n",
    "            },\n",
    "            headers={\n",
    "                \"Content-Type\": \"application/json\",\n",
    "                \"Authorization\": f\"Bearer {OPENAI_API_KEY}\",\n",
    "            },\n",
    "            data=json.dumps(\n",
    "                {\n",
    "                    \"model\": model,\n",
    "                    \"messages\": messages,\n",
    "                    \"functions\": functions,\n",
    "                    \"function_call\": \"auto\"\n",
    "                }\n",
    "            ),\n",
    "            timeout=10,\n",
    "        )\n",
    "        choices = response.json()[\"choices\"]\n",
    "        answer = {\n",
    "            \"status_code\": response.status_code,\n",
    "            \"text\": choices[0][\"message\"],\n",
    "        }\n",
    "        return answer\n",
    "\n",
    "    except requests.exceptions.RequestException:\n",
    "        print(\"HTTP Request failed\")\n",
    "        return None\n"
   ]
  },
  {
   "cell_type": "code",
   "execution_count": 4,
   "metadata": {},
   "outputs": [],
   "source": [
    "condensed_contexts =  [\n",
    "        {\n",
    "          \"messages\": [\n",
    "              {\n",
    "                \"role\": \"user\",\n",
    "                \"content\": \"Soy Alexander, mi madre se llama Sylvia, te paso los datos de ella mail: sylvia@gmail.com celu 1123343434.\"\n",
    "              },\n",
    "              {\n",
    "                \"role\": \"assistant\",\n",
    "                \"content\": \"Excelente Alexander, como puedo ayudarte?\"  \n",
    "              },\n",
    "              {\n",
    "                \"role\": \"user\",\n",
    "                \"content\": \"quiero sacar un turno para ella porque no entiende nada de tecnologia y los turnos se sacan por esta via\"\n",
    "              },\n",
    "              {\n",
    "                \"role\": \"assistant\",\n",
    "                \"content\": \"No hay problema, sacamos el turno para ella, cual es el DNI de ella?\"\n",
    "              },\n",
    "              {\n",
    "                \"role\": \"user\",\n",
    "                \"content\": \"12668992\"\n",
    "              },\n",
    "              {\n",
    "                  \"role\": \"assistant\",\n",
    "                  \"content\": \"perfecto, digame que especialidad?\"  \n",
    "              },\n",
    "              {\n",
    "                  \"role\": \"user\",\n",
    "                  \"content\": \"ginecologia\"\n",
    "              },\n",
    "              {\n",
    "                  \"role\": \"assistant\",\n",
    "                  \"content\": \"Tengo turnos disponibles con el Dr. Facundo Farias para el 27 de agosto a las 10:00hs, le parece bien?\"\n",
    "              },\n",
    "              {\n",
    "                \"role\": \"user\",\n",
    "                \"content\": \"si\"\n",
    "              },\n",
    "              {\n",
    "                \"role\": \"assistant\",\n",
    "                \"content\": \"confirmado entonces el turno para Sylvia para el 27 de agosto a las 10:00hs con el Dr. Facundo Farias. Le envio el comprobante por mail?\"\n",
    "              },\n",
    "              {\n",
    "                \"role\": \"user\",\n",
    "                \"content\": \"si\"\n",
    "              },\n",
    "              {\n",
    "                \"role\": \"assistant\",\n",
    "                \"content\": \"Al correo de Sylvia?\"\n",
    "              },\n",
    "              {\n",
    "                \"role\": \"user\",\n",
    "                \"content\": \"si\"\n",
    "              },\n",
    "              {\n",
    "                \"role\": \"assistant\",\n",
    "                \"content\": \"Perfecto, le envio el comprobante al mail de ella. Algo mas que pueda ayudarte?\"\n",
    "              },\n",
    "              {\n",
    "                \"role\": \"user\",\n",
    "                \"content\": \"no, muchas gracias\"\n",
    "              }\n",
    "           ],\n",
    "          \"metadata\": {\n",
    "            \"session_id\": \"1\",\n",
    "            \"person_id\": \"20\",\n",
    "            \"context_id\": \"1\",\n",
    "            \"created_at\": \"20200825T12:00:00.000Z\",\n",
    "          },\n",
    "        },     \n",
    "  ]\n"
   ]
  },
  {
   "cell_type": "code",
   "execution_count": 5,
   "metadata": {},
   "outputs": [
    {
     "name": "stdout",
     "output_type": "stream",
     "text": [
      "On 20200825 at 12:00:00 the user provided the following information:\n",
      "- User's name: Alexander\n",
      "- User's mother's name: Sylvia\n",
      "- User's mother's email: sylvia@gmail.com \n",
      "- User's mother's phone number: 1123343434\n",
      "- User's mother's DNI: 12668992\n",
      "- Appointment specialty: gynecology\n",
      "- Appointment date and time: 27th of August at 10:00am\n",
      "- Medic's name: Dr. Facundo Farias\n",
      "- User confirmed the appointment and requested to send the confirmation to Sylvia's email. \n",
      "\n",
      "\n",
      "///////////////////////////\n",
      "\n",
      "\n",
      "\n"
     ]
    }
   ],
   "source": [
    "db = FAISS.from_texts(texts=['notebook-14'], embedding=embeddings)\n",
    "for context in condensed_contexts:\n",
    "        # Join all messages in one string by a comma\n",
    "        messages = ''.join([str(message) for message in context['messages']])\n",
    "        # print(messages)\n",
    "        # print(context['metadata'])\n",
    "        extraction = gpt_system_user(\n",
    "            system_message=\"\"\"\n",
    "              Extract every meaningful information about the user from the provided conversation.\n",
    "              Ask yourself, what happened in the conversation?\n",
    "              What data about the user did you learn?\n",
    "              At what date and time was this data gathered?\n",
    "\n",
    "              Create a summary of everything you learned about the user.\n",
    "\n",
    "              Use this format:\n",
    "\n",
    "              On [date] at [time] the [user's / user's related person] [data  learned about the user or user's related person].\n",
    "              \"\"\",\n",
    "            user_message=f\" METADATA: ```{context['metadata']} CONVERSATION: ```{messages}``` ```\",\n",
    "            model=\"gpt-3.5-turbo\",\n",
    "        )\n",
    "        if extraction['status_code'] != 200:\n",
    "            print(f\"Error: Openai API returned status code {extraction['status_code']}\")\n",
    "            continue\n",
    "        else:\n",
    "            print(f\"{extraction['text']['content']} \\n\\n\\n///////////////////////////\\n\\n\\n\")\n",
    "            db.add_texts(\n",
    "                texts=[extraction['text']['content']], \n",
    "                metadatas=[context['metadata']],\n",
    "            )"
   ]
  },
  {
   "cell_type": "markdown",
   "metadata": {},
   "source": [
    "Mezclando data y fechas de dos contextos"
   ]
  },
  {
   "cell_type": "code",
   "execution_count": 6,
   "metadata": {},
   "outputs": [
    {
     "name": "stdout",
     "output_type": "stream",
     "text": [
      "\n",
      " On 20200825 at 12:00:00 the user provided the following information:\n",
      "- User's name: Alexander\n",
      "- User's mother's name: Sylvia\n",
      "- User's mother's email: sylvia@gmail.com \n",
      "- User's mother's phone number: 1123343434\n",
      "- User's mother's DNI: 12668992\n",
      "- Appointment specialty: gynecology\n",
      "- Appointment date and time: 27th of August at 10:00am\n",
      "- Medic's name: Dr. Facundo Farias\n",
      "- User confirmed the appointment and requested to send the confirmation to Sylvia's email. {'session_id': '1', 'person_id': '20', 'context_id': '1', 'created_at': '20200825T12:00:00.000Z'}\n",
      "---------------\n",
      "\n",
      "\n"
     ]
    }
   ],
   "source": [
    "user_input = \"yo tengo algun turno asignado?\"\n",
    "filter = {\"person_id\": \"20\"}\n",
    "db_results = db.similarity_search_with_score(query=user_input, embeddings=embeddings, filter=filter, k=2)\n",
    "context_k2 = [f'\\n {db_results[i][0].page_content} {db_results[i][0].metadata}\\n---------------\\n\\n' for i in range(len(db_results))]\n",
    "context = context_k2\n",
    "for c in context:\n",
    "    print(c)\n",
    "system_prompt = f\"\"\"\n",
    "You are the personal assistant of the user.\n",
    "Use the user's name in your answers.\n",
    "Direct your answers to the user in the second person.\n",
    "You will find past conversations between you and the user between backticks.\n",
    "Use them to answer the user's question.\n",
    "To reason about dates, have in mind that today is September 13th, 2023.\n",
    "Wait before answering, check when the data was gathered first.\n",
    "Take a deep breath and work on this problem step-by-step.\n",
    "\n",
    "\n",
    "\n",
    "```{context}```\n",
    "\n",
    "\"\"\"\n",
    "# answer = gpt_system_user(system_message=system_prompt, user_message=user_input, model=\"gpt-4\")\n",
    "answer = gpt_system_user(system_message=system_prompt, user_message=user_input)\n",
    "# answer[\"text\"][\"content\"]\n"
   ]
  },
  {
   "cell_type": "code",
   "execution_count": 9,
   "metadata": {},
   "outputs": [
    {
     "data": {
      "text/plain": [
       "{'status_code': 200,\n",
       " 'text': {'role': 'assistant',\n",
       "  'content': 'Déjame verificar tus datos para ver si tienes algún turno asignado. Por favor, espera un momento.',\n",
       "  'function_call': {'name': 'create_appointment',\n",
       "   'arguments': '{\\n  \"patient_name\": \"Alexander\",\\n  \"patient_email\": \"sylvia@gmail.com\",\\n  \"medic_name\": \"\",\\n  \"appointment_datetime\": \"\"\\n}'}}}"
      ]
     },
     "execution_count": 9,
     "metadata": {},
     "output_type": "execute_result"
    }
   ],
   "source": [
    "answer"
   ]
  },
  {
   "cell_type": "markdown",
   "metadata": {},
   "source": [
    "Acá mezcla la data de mi madre con la mia \n",
    "\n",
    "```{'status_code': 200,\n",
    " 'text': {'role': 'assistant',\n",
    "  'content': 'Déjame verificar tus datos para ver si tienes algún turno asignado. Por favor, espera un momento.',\n",
    "  'function_call': {'name': 'create_appointment',\n",
    "   'arguments': '{\\n  \"patient_name\": \"Alexander\",\\n  \"patient_email\": \"sylvia@gmail.com\",\\n  \"medic_name\": \"\",\\n  \"appointment_datetime\": \"\"\\n}'}}}```\n",
    "   "
   ]
  },
  {
   "cell_type": "code",
   "execution_count": 10,
   "metadata": {},
   "outputs": [
    {
     "name": "stdout",
     "output_type": "stream",
     "text": [
      "\n",
      " On 20200825 at 12:00:00 the user provided the following information:\n",
      "- User's name: Alexander\n",
      "- User's mother's name: Sylvia\n",
      "- User's mother's email: sylvia@gmail.com \n",
      "- User's mother's phone number: 1123343434\n",
      "- User's mother's DNI: 12668992\n",
      "- Appointment specialty: gynecology\n",
      "- Appointment date and time: 27th of August at 10:00am\n",
      "- Medic's name: Dr. Facundo Farias\n",
      "- User confirmed the appointment and requested to send the confirmation to Sylvia's email. {'session_id': '1', 'person_id': '20', 'context_id': '1', 'created_at': '20200825T12:00:00.000Z'}\n",
      "---------------\n",
      "\n",
      "\n"
     ]
    }
   ],
   "source": [
    "user_input = \"quiero un turno para mi madre con el doctor Favio Hernandez para el miercoles 8 de noviembre a las 10:00hs\"\n",
    "filter = {\"person_id\": \"20\"}\n",
    "db_results = db.similarity_search_with_score(query=user_input, embeddings=embeddings, filter=filter, k=2)\n",
    "context_k2 = [f'\\n {db_results[i][0].page_content} {db_results[i][0].metadata}\\n---------------\\n\\n' for i in range(len(db_results))]\n",
    "context = context_k2\n",
    "for c in context:\n",
    "    print(c)\n",
    "system_prompt = f\"\"\"\n",
    "You are the best personal assistant of SAIA Air.\n",
    "Your job is to help users in their travel needs.\n",
    "Use the user's name in your answers.\n",
    "You will find past conversations between you and the user between backticks.\n",
    "Use them to answer the user's question.\n",
    "To reason about dates, have in mind that today is September 13th, 2023.\n",
    "Wait before answering, check when the data was gathered first.\n",
    "Take a deep breath and work on this problem step-by-step.\n",
    "\n",
    "\n",
    "\n",
    "```{context}```\n",
    "\n",
    "\"\"\"\n",
    "answer = gpt_system_user(system_message=system_prompt, user_message=user_input, model=\"gpt-4\")\n",
    "answer[\"text\"][\"content\"]\n"
   ]
  },
  {
   "cell_type": "markdown",
   "metadata": {},
   "source": []
  },
  {
   "cell_type": "code",
   "execution_count": 11,
   "metadata": {},
   "outputs": [
    {
     "data": {
      "text/plain": [
       "{'status_code': 200,\n",
       " 'text': {'role': 'assistant',\n",
       "  'content': None,\n",
       "  'function_call': {'name': 'create_appointment',\n",
       "   'arguments': '{\\n\"patient_name\": \"Sylvia\",\\n\"patient_email\": \"sylvia@gmail.com\",\\n\"medic_name\": \"Dr. Favio Hernandez\",\\n\"appointment_datetime\": \"2023-11-08T10:00:00.000Z\"\\n}'}}}"
      ]
     },
     "execution_count": 11,
     "metadata": {},
     "output_type": "execute_result"
    }
   ],
   "source": [
    "answer"
   ]
  },
  {
   "cell_type": "markdown",
   "metadata": {},
   "source": [
    "Con el contexto apropiado, el modelo no tiene problemas hacer el llamado con los datos correctos, sin volver a pedirlos.\n",
    "\n",
    "```\n",
    "{'status_code': 200,\n",
    " 'text': {'role': 'assistant',\n",
    "  'content': None,\n",
    "  'function_call': {'name': 'create_appointment',\n",
    "   'arguments': '{\\n\"patient_name\": \"Sylvia\",\\n\"patient_email\": \"sylvia@gmail.com\",\\n\"medic_name\": \"Dr. Favio Hernandez\",\\n\"appointment_datetime\": \"2023-11-08T10:00:00.000Z\"\\n}'}}}\n",
    "```\n"
   ]
  }
 ],
 "metadata": {
  "kernelspec": {
   "display_name": "venv",
   "language": "python",
   "name": "python3"
  },
  "language_info": {
   "codemirror_mode": {
    "name": "ipython",
    "version": 3
   },
   "file_extension": ".py",
   "mimetype": "text/x-python",
   "name": "python",
   "nbconvert_exporter": "python",
   "pygments_lexer": "ipython3",
   "version": "3.9.9"
  },
  "orig_nbformat": 4
 },
 "nbformat": 4,
 "nbformat_minor": 2
}
