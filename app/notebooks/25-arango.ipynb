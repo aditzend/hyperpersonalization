{
 "cells": [
  {
   "cell_type": "markdown",
   "metadata": {},
   "source": [
    "Primera prueba de conexion con Neo4J\n"
   ]
  },
  {
   "cell_type": "code",
   "execution_count": 2,
   "metadata": {},
   "outputs": [],
   "source": [
    "from dotenv import load_dotenv\n",
    "\n",
    "load_dotenv()\n",
    "\n",
    "OPENAI_API_TYPE = \"openai\""
   ]
  },
  {
   "cell_type": "code",
   "execution_count": 10,
   "metadata": {},
   "outputs": [
    {
     "name": "stdout",
     "output_type": "stream",
     "text": [
      "Log: requesting new credentials...\n",
      "Succcess: new credentials acquired\n",
      "{\n",
      "  \"dbName\": \"TUTydbphcmyhrdo4oznmtzn59\",\n",
      "  \"username\": \"TUTbjsmzo7vhpaiop3ljqcsu\",\n",
      "  \"password\": \"TUTycg4ktodyyedub5tuocn5\",\n",
      "  \"hostname\": \"tutorials.arangodb.cloud\",\n",
      "  \"port\": 8529,\n",
      "  \"url\": \"https://tutorials.arangodb.cloud:8529\"\n",
      "}\n"
     ]
    }
   ],
   "source": [
    "# Instantiate ArangoDB Database\n",
    "import json\n",
    "\n",
    "from adb_cloud_connector import get_temp_credentials\n",
    "from arango import ArangoClient\n",
    "\n",
    "con = get_temp_credentials()\n",
    "\n",
    "db = ArangoClient(hosts=con[\"url\"]).db(\n",
    "    con[\"dbName\"], con[\"username\"], con[\"password\"], verify=True\n",
    ")\n",
    "\n",
    "print(json.dumps(con, indent=2))"
   ]
  },
  {
   "cell_type": "code",
   "execution_count": 6,
   "metadata": {},
   "outputs": [],
   "source": [
    "from arango import ArangoClient\n",
    "\n",
    "db = ArangoClient(hosts=\"localhost:8529\").db(\n",
    "   \"maindb\", \"\",\"\", verify=False\n",
    ")\n"
   ]
  },
  {
   "cell_type": "code",
   "execution_count": 11,
   "metadata": {},
   "outputs": [],
   "source": [
    "# Instantiate the ArangoDB-LangChain Graph\n",
    "from langchain_community.graphs import ArangoGraph\n",
    "graph = ArangoGraph(db)"
   ]
  },
  {
   "cell_type": "code",
   "execution_count": 12,
   "metadata": {},
   "outputs": [
    {
     "data": {
      "text/plain": [
       "{'error': False,\n",
       " 'created': 4,\n",
       " 'errors': 0,\n",
       " 'empty': 0,\n",
       " 'updated': 0,\n",
       " 'ignored': 0,\n",
       " 'details': []}"
      ]
     },
     "execution_count": 12,
     "metadata": {},
     "output_type": "execute_result"
    }
   ],
   "source": [
    "if db.has_graph(\"GameOfThrones\"):\n",
    "    db.delete_graph(\"GameOfThrones\", drop_collections=True)\n",
    "\n",
    "db.create_graph(\n",
    "    \"GameOfThrones\",\n",
    "    edge_definitions=[\n",
    "        {\n",
    "            \"edge_collection\": \"ChildOf\",\n",
    "            \"from_vertex_collections\": [\"Characters\"],\n",
    "            \"to_vertex_collections\": [\"Characters\"],\n",
    "        },\n",
    "    ],\n",
    ")\n",
    "\n",
    "documents = [\n",
    "    {\n",
    "        \"_key\": \"NedStark\",\n",
    "        \"name\": \"Ned\",\n",
    "        \"surname\": \"Stark\",\n",
    "        \"alive\": True,\n",
    "        \"age\": 41,\n",
    "        \"gender\": \"male\",\n",
    "    },\n",
    "    {\n",
    "        \"_key\": \"CatelynStark\",\n",
    "        \"name\": \"Catelyn\",\n",
    "        \"surname\": \"Stark\",\n",
    "        \"alive\": False,\n",
    "        \"age\": 40,\n",
    "        \"gender\": \"female\",\n",
    "    },\n",
    "    {\n",
    "        \"_key\": \"AryaStark\",\n",
    "        \"name\": \"Arya\",\n",
    "        \"surname\": \"Stark\",\n",
    "        \"alive\": True,\n",
    "        \"age\": 11,\n",
    "        \"gender\": \"female\",\n",
    "    },\n",
    "    {\n",
    "        \"_key\": \"BranStark\",\n",
    "        \"name\": \"Bran\",\n",
    "        \"surname\": \"Stark\",\n",
    "        \"alive\": True,\n",
    "        \"age\": 10,\n",
    "        \"gender\": \"male\",\n",
    "    },\n",
    "]\n",
    "\n",
    "edges = [\n",
    "    {\"_to\": \"Characters/NedStark\", \"_from\": \"Characters/AryaStark\"},\n",
    "    {\"_to\": \"Characters/NedStark\", \"_from\": \"Characters/BranStark\"},\n",
    "    {\"_to\": \"Characters/CatelynStark\", \"_from\": \"Characters/AryaStark\"},\n",
    "    {\"_to\": \"Characters/CatelynStark\", \"_from\": \"Characters/BranStark\"},\n",
    "]\n",
    "\n",
    "db.collection(\"Characters\").import_bulk(documents)\n",
    "db.collection(\"ChildOf\").import_bulk(edges)"
   ]
  },
  {
   "cell_type": "code",
   "execution_count": 13,
   "metadata": {},
   "outputs": [
    {
     "name": "stdout",
     "output_type": "stream",
     "text": [
      "{\n",
      "    \"Graph Schema\": [],\n",
      "    \"Collection Schema\": []\n",
      "}\n"
     ]
    }
   ],
   "source": [
    "# The schema should be empty here,\n",
    "# since `graph` was initialized prior to ArangoDB Data ingestion (see above).\n",
    "\n",
    "import json\n",
    "\n",
    "print(json.dumps(graph.schema, indent=4))"
   ]
  },
  {
   "cell_type": "code",
   "execution_count": 14,
   "metadata": {},
   "outputs": [],
   "source": [
    "graph.set_schema()"
   ]
  },
  {
   "cell_type": "code",
   "execution_count": 15,
   "metadata": {},
   "outputs": [
    {
     "name": "stdout",
     "output_type": "stream",
     "text": [
      "{\n",
      "    \"Graph Schema\": [\n",
      "        {\n",
      "            \"graph_name\": \"GameOfThrones\",\n",
      "            \"edge_definitions\": [\n",
      "                {\n",
      "                    \"edge_collection\": \"ChildOf\",\n",
      "                    \"from_vertex_collections\": [\n",
      "                        \"Characters\"\n",
      "                    ],\n",
      "                    \"to_vertex_collections\": [\n",
      "                        \"Characters\"\n",
      "                    ]\n",
      "                }\n",
      "            ]\n",
      "        }\n",
      "    ],\n",
      "    \"Collection Schema\": [\n",
      "        {\n",
      "            \"collection_name\": \"Characters\",\n",
      "            \"collection_type\": \"document\",\n",
      "            \"document_properties\": [\n",
      "                {\n",
      "                    \"name\": \"_key\",\n",
      "                    \"type\": \"str\"\n",
      "                },\n",
      "                {\n",
      "                    \"name\": \"_id\",\n",
      "                    \"type\": \"str\"\n",
      "                },\n",
      "                {\n",
      "                    \"name\": \"_rev\",\n",
      "                    \"type\": \"str\"\n",
      "                },\n",
      "                {\n",
      "                    \"name\": \"name\",\n",
      "                    \"type\": \"str\"\n",
      "                },\n",
      "                {\n",
      "                    \"name\": \"surname\",\n",
      "                    \"type\": \"str\"\n",
      "                },\n",
      "                {\n",
      "                    \"name\": \"alive\",\n",
      "                    \"type\": \"bool\"\n",
      "                },\n",
      "                {\n",
      "                    \"name\": \"age\",\n",
      "                    \"type\": \"int\"\n",
      "                },\n",
      "                {\n",
      "                    \"name\": \"gender\",\n",
      "                    \"type\": \"str\"\n",
      "                }\n",
      "            ],\n",
      "            \"example_document\": {\n",
      "                \"_key\": \"NedStark\",\n",
      "                \"_id\": \"Characters/NedStark\",\n",
      "                \"_rev\": \"_huw9JJq---\",\n",
      "                \"name\": \"Ned\",\n",
      "                \"surname\": \"Stark\",\n",
      "                \"alive\": true,\n",
      "                \"age\": 41,\n",
      "                \"gender\": \"male\"\n",
      "            }\n",
      "        },\n",
      "        {\n",
      "            \"collection_name\": \"ChildOf\",\n",
      "            \"collection_type\": \"edge\",\n",
      "            \"edge_properties\": [\n",
      "                {\n",
      "                    \"name\": \"_key\",\n",
      "                    \"type\": \"str\"\n",
      "                },\n",
      "                {\n",
      "                    \"name\": \"_id\",\n",
      "                    \"type\": \"str\"\n",
      "                },\n",
      "                {\n",
      "                    \"name\": \"_from\",\n",
      "                    \"type\": \"str\"\n",
      "                },\n",
      "                {\n",
      "                    \"name\": \"_to\",\n",
      "                    \"type\": \"str\"\n",
      "                },\n",
      "                {\n",
      "                    \"name\": \"_rev\",\n",
      "                    \"type\": \"str\"\n",
      "                }\n",
      "            ],\n",
      "            \"example_edge\": {\n",
      "                \"_key\": \"266240138489\",\n",
      "                \"_id\": \"ChildOf/266240138489\",\n",
      "                \"_from\": \"Characters/AryaStark\",\n",
      "                \"_to\": \"Characters/NedStark\",\n",
      "                \"_rev\": \"_huw9JWO---\"\n",
      "            }\n",
      "        }\n",
      "    ]\n",
      "}\n"
     ]
    }
   ],
   "source": [
    "# We can now view the generated schema\n",
    "\n",
    "import json\n",
    "\n",
    "print(json.dumps(graph.schema, indent=4))"
   ]
  },
  {
   "cell_type": "code",
   "execution_count": 18,
   "metadata": {},
   "outputs": [],
   "source": [
    "from langchain.chains import ArangoGraphQAChain\n",
    "from langchain_openai import ChatOpenAI\n",
    "\n",
    "chain = ArangoGraphQAChain.from_llm(\n",
    "    ChatOpenAI(temperature=0), graph=graph, verbose=True\n",
    ")"
   ]
  },
  {
   "cell_type": "code",
   "execution_count": 19,
   "metadata": {},
   "outputs": [
    {
     "name": "stderr",
     "output_type": "stream",
     "text": [
      "/Users/alex/Documents/tesis/hyperpersonalization/venv/lib/python3.11/site-packages/langchain_core/_api/deprecation.py:119: LangChainDeprecationWarning: The method `Chain.run` was deprecated in langchain 0.1.0 and will be removed in 0.2.0. Use invoke instead.\n",
      "  warn_deprecated(\n"
     ]
    },
    {
     "name": "stdout",
     "output_type": "stream",
     "text": [
      "\n",
      "\n",
      "\u001b[1m> Entering new ArangoGraphQAChain chain...\u001b[0m\n",
      "AQL Query (1):\u001b[32;1m\u001b[1;3m\n",
      "WITH Characters\n",
      "FOR character IN Characters\n",
      "FILTER character.name == 'Ned' && character.surname == 'Stark'\n",
      "RETURN character.alive\n",
      "\u001b[0m\n",
      "AQL Result:\n",
      "\u001b[32;1m\u001b[1;3m[True]\u001b[0m\n",
      "\n",
      "\u001b[1m> Finished chain.\u001b[0m\n"
     ]
    },
    {
     "data": {
      "text/plain": [
       "'Based on the information retrieved from the database, Ned Stark is indeed alive.'"
      ]
     },
     "execution_count": 19,
     "metadata": {},
     "output_type": "execute_result"
    }
   ],
   "source": [
    "chain.run(\"Is Ned Stark alive?\")"
   ]
  }
 ],
 "metadata": {
  "kernelspec": {
   "display_name": "venv",
   "language": "python",
   "name": "python3"
  },
  "language_info": {
   "codemirror_mode": {
    "name": "ipython",
    "version": 3
   },
   "file_extension": ".py",
   "mimetype": "text/x-python",
   "name": "python",
   "nbconvert_exporter": "python",
   "pygments_lexer": "ipython3",
   "version": "3.11.1"
  }
 },
 "nbformat": 4,
 "nbformat_minor": 2
}
