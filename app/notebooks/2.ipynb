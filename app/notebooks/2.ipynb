{
 "cells": [
  {
   "cell_type": "markdown",
   "metadata": {},
   "source": [
    "Se busca ahora hacer una búsqueda por similitud semántica entre una pregunta y una pieza de información provista por el usuario."
   ]
  },
  {
   "cell_type": "code",
   "execution_count": 8,
   "metadata": {},
   "outputs": [],
   "source": [
    "from langchain.embeddings.openai import OpenAIEmbeddings\n",
    "from langchain.vectorstores import FAISS\n",
    "import os\n",
    "import sys\n",
    "import redis\n",
    "from datetime import datetime\n",
    "from dotenv import load_dotenv\n",
    "sys.path.append('/Users/alexander/Projects/hyperpersonalization/app/tools')\n",
    "from vectordb import connect_to_redis, check_index_existance, add_message_to_db\n",
    "\n",
    "load_dotenv()\n",
    "\n",
    "redis_host = os.getenv(\"REDIS_HOST\") or \"localhost\"\n",
    "redis_port = os.getenv(\"REDIS_PORT\") or 6379"
   ]
  },
  {
   "cell_type": "code",
   "execution_count": 20,
   "metadata": {},
   "outputs": [],
   "source": [
    "embeddings = OpenAIEmbeddings()\n",
    "metadatas = [{\"person_id\": \"alexander.ditzend\", \"person_name\": \"Alexander\"}]\n",
    "timestamp = datetime.now().isoformat()\n",
    "message = {\"timestamp\": timestamp, \"content\": \"hola, quiero ir a Rio\" }\n",
    "text = str(message)\n",
    "conversations = FAISS.from_texts(texts=[text], embedding=embeddings, metadatas=metadatas)\n",
    "conversations.save_local(folder_path=\"../indexes/conversations\", index_name=\"conversations\")"
   ]
  },
  {
   "cell_type": "code",
   "execution_count": 22,
   "metadata": {},
   "outputs": [
    {
     "data": {
      "text/plain": [
       "[(Document(page_content=\"{'timestamp': '2023-07-12T12:00:22.538965', 'content': 'hola, quiero ir a Rio'}\", metadata={'person_id': 'alexander.ditzend', 'person_name': 'Alexander'}),\n",
       "  0.50811493)]"
      ]
     },
     "execution_count": 22,
     "metadata": {},
     "output_type": "execute_result"
    }
   ],
   "source": [
    "conversations.similarity_search_with_score(query=\"a donde quería ir el cliente?\", filter={\"person_id\": \"alexander.ditzend\"})"
   ]
  },
  {
   "cell_type": "markdown",
   "metadata": {},
   "source": [
    "Claramente la distancia coseno no es un parámetro válido en un conjunto donde hay un solo vector pero con este simple ejemplo alcanza para comprobar la factibilidad de la aproximación. "
   ]
  },
  {
   "cell_type": "code",
   "execution_count": null,
   "metadata": {},
   "outputs": [],
   "source": []
  }
 ],
 "metadata": {
  "kernelspec": {
   "display_name": "venv",
   "language": "python",
   "name": "python3"
  },
  "language_info": {
   "codemirror_mode": {
    "name": "ipython",
    "version": 3
   },
   "file_extension": ".py",
   "mimetype": "text/x-python",
   "name": "python",
   "nbconvert_exporter": "python",
   "pygments_lexer": "ipython3",
   "version": "3.9.9"
  },
  "orig_nbformat": 4
 },
 "nbformat": 4,
 "nbformat_minor": 2
}
