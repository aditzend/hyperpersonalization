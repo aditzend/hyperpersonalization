{
 "cells": [
  {
   "cell_type": "markdown",
   "metadata": {},
   "source": [
    "Probando otra funcion de resumen"
   ]
  },
  {
   "cell_type": "code",
   "execution_count": 2,
   "metadata": {},
   "outputs": [],
   "source": [
    "from langchain.document_loaders import UnstructuredFileLoader\n",
    "loader = UnstructuredFileLoader(\"../../data/mastercard/s3.pdf\")\n",
    "docs = loader.load()\n",
    "context = docs[0].page_content"
   ]
  },
  {
   "cell_type": "code",
   "execution_count": 1,
   "metadata": {},
   "outputs": [],
   "source": [
    "import openai\n",
    "import os\n",
    "import json\n",
    "openai.api_key = os.environ[\"OPENAI_API_KEY\"]\n",
    "\n",
    "def summarize(\n",
    "    text: str\n",
    "):\n",
    "    \"\"\"Summarize text using OpenAI's API.\"\"\"\n",
    "    system_message = f\"\"\"\n",
    "    The following is a conversation with an AI assistant. The assistant is helpful, creative, clever, and very friendly.The user will give you an important document with some meaningful data surrounded by meaningless data.\n",
    "    Extract all meaningful information from the document and create a summary.\n",
    "    No important details should be left out.\n",
    "    This is very important information for the user, so please be sure to include all the relevant information.\n",
    "    Use this format:\n",
    "    'The user [did/bought/used/paid/...] [something] on [date] at [place/store] for [amount of money].'\n",
    "    \"\"\"\n",
    "    try:\n",
    "        completion = openai.ChatCompletion.create(\n",
    "          model=\"gpt-3.5-turbo\",\n",
    "          messages=[\n",
    "            {\"role\": \"system\", \"content\": system_message},\n",
    "            {\"role\": \"user\", \"content\": text}\n",
    "          ]\n",
    "        )\n",
    "\n",
    "        print(completion.choices[0].message)\n",
    "        return completion.choices[0].message\n",
    "\n",
    "    except openai.error.InvalidRequestError:\n",
    "        print(\"openai request failed\")\n",
    "        return None\n"
   ]
  },
  {
   "cell_type": "code",
   "execution_count": 6,
   "metadata": {},
   "outputs": [
    {
     "name": "stdout",
     "output_type": "stream",
     "text": [
      "{\n",
      "  \"role\": \"assistant\",\n",
      "  \"content\": \"The user, Alexander Ditzend, has a MASTERCARD PLATINUM credit card. The card has a purchase limit of $9,520 and a installment limit of $128,000. The card has a previous balance of $113,162.38. The user made a payment of $113,162.38 on 11-Sep-23, leaving a remaining balance of $0. The user made several purchases during the month, including a purchase at SCAPE PARK on 24-Sep-23 for ARS 2,603.00, a purchase at AUTOPISTAS DEL on 08-Sep-23, a purchase at DON WEB on 14-Sep-23, a purchase at PPRO *Adobe on 22-Sep-23, a purchase at AUTOPISTAS DEL on 22-Sep-23, a purchase at DON WEB on 01-Oct-23, a purchase at MERPAGO*NUEVASOCIALF on 03-Oct-23, a purchase at WWW.FLYBONDI.COM on 03-Oct-23, and a purchase at CLARO PT on 04-Oct-23. The total purchases for the month amount to $84,356.57. The card has a current available limit of $7.44. The next due date for payments is on 21-Nov-23.\"\n",
      "}\n"
     ]
    }
   ],
   "source": [
    "summary = summarize(context)[\"content\"]"
   ]
  },
  {
   "cell_type": "code",
   "execution_count": 7,
   "metadata": {},
   "outputs": [
    {
     "data": {
      "text/plain": [
       "'The user, Alexander Ditzend, has a MASTERCARD PLATINUM credit card. The card has a purchase limit of $9,520 and a installment limit of $128,000. The card has a previous balance of $113,162.38. The user made a payment of $113,162.38 on 11-Sep-23, leaving a remaining balance of $0. The user made several purchases during the month, including a purchase at SCAPE PARK on 24-Sep-23 for ARS 2,603.00, a purchase at AUTOPISTAS DEL on 08-Sep-23, a purchase at DON WEB on 14-Sep-23, a purchase at PPRO *Adobe on 22-Sep-23, a purchase at AUTOPISTAS DEL on 22-Sep-23, a purchase at DON WEB on 01-Oct-23, a purchase at MERPAGO*NUEVASOCIALF on 03-Oct-23, a purchase at WWW.FLYBONDI.COM on 03-Oct-23, and a purchase at CLARO PT on 04-Oct-23. The total purchases for the month amount to $84,356.57. The card has a current available limit of $7.44. The next due date for payments is on 21-Nov-23.'"
      ]
     },
     "execution_count": 7,
     "metadata": {},
     "output_type": "execute_result"
    }
   ],
   "source": [
    "summary"
   ]
  }
 ],
 "metadata": {
  "kernelspec": {
   "display_name": "venv",
   "language": "python",
   "name": "python3"
  },
  "language_info": {
   "codemirror_mode": {
    "name": "ipython",
    "version": 3
   },
   "file_extension": ".py",
   "mimetype": "text/x-python",
   "name": "python",
   "nbconvert_exporter": "python",
   "pygments_lexer": "ipython3",
   "version": "3.9.9"
  }
 },
 "nbformat": 4,
 "nbformat_minor": 2
}
