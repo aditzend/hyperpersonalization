{
 "cells": [
  {
   "cell_type": "markdown",
   "metadata": {},
   "source": [
    "Inserción de los datos de Norman en la base de datos de ArangoDB"
   ]
  },
  {
   "cell_type": "code",
   "execution_count": null,
   "metadata": {},
   "outputs": [
    {
     "ename": "",
     "evalue": "",
     "output_type": "error",
     "traceback": [
      "\u001b[1;31mThe file 'venv/lib/python3.11/site-packages/psutil/_psutil_osx.abi3.so, 0x0002' seems to be overriding built in modules and interfering with the startup of the kernel. Consider renaming the file and starting the kernel again.\n",
      "\u001b[1;31mClick <a href='https://aka.ms/kernelFailuresOverridingBuiltInModules'>here</a> for more info."
     ]
    }
   ],
   "source": [
    "from dotenv import load_dotenv\n",
    "\n",
    "load_dotenv()\n",
    "\n",
    "OPENAI_API_TYPE = \"openai\""
   ]
  },
  {
   "cell_type": "code",
   "execution_count": 7,
   "metadata": {},
   "outputs": [
    {
     "name": "stdout",
     "output_type": "stream",
     "text": [
      "Success: reusing cached credentials\n",
      "{\n",
      "  \"dbName\": \"TUTydbphcmyhrdo4oznmtzn59\",\n",
      "  \"username\": \"TUTbjsmzo7vhpaiop3ljqcsu\",\n",
      "  \"password\": \"TUTycg4ktodyyedub5tuocn5\",\n",
      "  \"hostname\": \"tutorials.arangodb.cloud\",\n",
      "  \"port\": 8529,\n",
      "  \"url\": \"https://tutorials.arangodb.cloud:8529\"\n",
      "}\n"
     ]
    }
   ],
   "source": [
    "# Instantiate ArangoDB Database\n",
    "import json\n",
    "\n",
    "from adb_cloud_connector import get_temp_credentials\n",
    "from arango import ArangoClient\n",
    "\n",
    "con = get_temp_credentials()\n",
    "\n",
    "db = ArangoClient(hosts=con[\"url\"]).db(\n",
    "    con[\"dbName\"], con[\"username\"], con[\"password\"], verify=True\n",
    ")\n",
    "\n",
    "print(json.dumps(con, indent=2))"
   ]
  },
  {
   "cell_type": "code",
   "execution_count": 8,
   "metadata": {},
   "outputs": [],
   "source": [
    "# Instantiate the ArangoDB-LangChain Graph\n",
    "from langchain_community.graphs import ArangoGraph\n",
    "graph = ArangoGraph(db)"
   ]
  },
  {
   "cell_type": "markdown",
   "metadata": {},
   "source": [
    "Se elimina el grafo Norman si ya existe y se crean las colecciones necesarias\n",
    "\n"
   ]
  },
  {
   "cell_type": "code",
   "execution_count": 14,
   "metadata": {},
   "outputs": [
    {
     "data": {
      "text/plain": [
       "{'error': False,\n",
       " 'created': 4,\n",
       " 'errors': 0,\n",
       " 'empty': 0,\n",
       " 'updated': 0,\n",
       " 'ignored': 0,\n",
       " 'details': []}"
      ]
     },
     "execution_count": 14,
     "metadata": {},
     "output_type": "execute_result"
    }
   ],
   "source": [
    "if db.has_graph(\"Norman\"):\n",
    "    db.delete_graph(\"Norman\", drop_collections=True)\n",
    "\n",
    "db.create_graph(\n",
    "    \"Norman\",\n",
    "    edge_definitions=[\n",
    "        {\n",
    "            \"edge_collection\": \"ChildOf\",\n",
    "            \"from_vertex_collections\": [\"Persons\"],\n",
    "            \"to_vertex_collections\": [\"Persons\"],\n",
    "        },\n",
    "    ],\n",
    ")\n",
    "\n",
    "family_members = [\n",
    "    {\n",
    "        \"name\": \"Norman\",\n",
    "        \"_key\": \"Norman\",\n",
    "        \"family_name\": \"Gonzalez\",\n",
    "        \"age\": 41,\n",
    "    },\n",
    "    {\n",
    "      \"name\": \"Julia\",\n",
    "      \"_key\": \"Julia\",\n",
    "      \"family_name\": \"Gonzalez\",\n",
    "      \"age\": 40,\n",
    "      \"relationship_to_Norman\": \"Wife\"\n",
    "    },\n",
    "    {\n",
    "      \"name\": \"Lucas\",\n",
    "      \"_key\": \"Lucas\",\n",
    "      \"family_name\": \"Gonzalez\",\n",
    "      \"age\": 10,\n",
    "      \"relationship_to_Norman\": \"Son\"\n",
    "    },\n",
    "    {\n",
    "      \"name\": \"Mia\",\n",
    "      \"_key\": \"Mia\",\n",
    "      \"family_name\": \"Gonzalez\",\n",
    "      \"age\": 8,\n",
    "      \"relationship_to_Norman\": \"Daughter\"\n",
    "    },\n",
    "    {\n",
    "      \"name\": \"Eva\",\n",
    "      \"_key\": \"Eva\",\n",
    "      \"family_name\": \"Gonzalez\",\n",
    "      \"age\": 8,\n",
    "      \"relationship_to_Norman\": \"Daughter\"\n",
    "    },\n",
    "    {\n",
    "      \"name\": \"Carlos\",\n",
    "      \"_key\": \"Carlos\",\n",
    "      \"family_name\": \"Gonzalez\",\n",
    "      \"age\": 68,\n",
    "      \"relationship_to_Norman\": \"Father\"\n",
    "    },\n",
    "    {\n",
    "      \"name\": \"Isabel\",\n",
    "      \"_key\": \"Isabel\",\n",
    "      \"family_name\": \"Gonzalez\",\n",
    "      \"age\": 65,\n",
    "      \"relationship_to_Norman\": \"Mother\"\n",
    "    },\n",
    "    {\n",
    "      \"name\": \"Mario\",\n",
    "      \"_key\": \"Mario\",\n",
    "      \"family_name\": \"Gonzalez\",\n",
    "      \"age\": 45,\n",
    "      \"relationship_to_Norman\": \"Brother\"\n",
    "    },\n",
    "    {\n",
    "      \"name\": \"Ana\",\n",
    "      \"_key\": \"Ana\",\n",
    "      \"family_name\": \"Martinez\",\n",
    "      \"age\": 43,\n",
    "      \"relationship_to_Norman\": \"Sister-in-law (Mario's wife)\"\n",
    "    },\n",
    "    {\n",
    "      \"name\": \"Pedro\",\n",
    "      \"_key\": \"Pedro\",\n",
    "      \"family_name\": \"Gonzalez\",\n",
    "      \"age\": 38,\n",
    "      \"relationship_to_Norman\": \"Brother\"\n",
    "    },\n",
    "    {\n",
    "      \"name\": \"Sofia\",\n",
    "      \"_key\": \"Sofia\",\n",
    "      \"family_name\": \"\",\n",
    "      \"age\": 42,\n",
    "      \"relationship_to_Norman\": \"\"\n",
    "    },\n",
    "    {\n",
    "      \"name\": \"Rafael\",\n",
    "      \"_key\": \"Rafael\",\n",
    "      \"family_name\": \"Lopez\",\n",
    "      \"age\": 36\n",
    "    },\n",
    "    {\n",
    "      \"name\": \"Liam\",\n",
    "      \"_key\": \"Liam\",\n",
    "      \"family_name\": \"Lopez\",\n",
    "      \"age\": 12\n",
    "    },\n",
    "    {\n",
    "      \"name\": \"Olivia\",\n",
    "      \"_key\": \"Olivia\",\n",
    "      \"family_name\": \"\",\n",
    "      \"age\": 10\n",
    "    },\n",
    "    {\n",
    "      \"name\": \"Ethan\",\n",
    "      \"_key\": \"Ethan\",\n",
    "      \"family_name\": \"\",\n",
    "      \"age\": 7\n",
    "    },\n",
    "    {\n",
    "      \"name\": \"Amelia\",\n",
    "      \"_key\": \"Amelia\",\n",
    "      \"family_name\": \"\",\n",
    "      \"age\": 5\n",
    "    }\n",
    "    ]\n",
    "\n",
    "edges = [\n",
    "    {\"_to\": \"Persons/Norman\", \"_from\": \"Persons/Lucas\"},\n",
    "    {\"_to\": \"Persons/Norman\", \"_from\": \"Persons/Mia\"},\n",
    "    {\"_to\": \"Persons/Norman\", \"_from\": \"Persons/Eva\"},\n",
    "    {\"_to\": \"Persons/Carlos\", \"_from\": \"Persons/Norman\"},\n",
    "]\n",
    "\n",
    "db.collection(\"Persons\").import_bulk(family_members)\n",
    "db.collection(\"ChildOf\").import_bulk(edges)"
   ]
  },
  {
   "cell_type": "code",
   "execution_count": 17,
   "metadata": {},
   "outputs": [],
   "source": [
    "graph.set_schema()"
   ]
  },
  {
   "cell_type": "code",
   "execution_count": 19,
   "metadata": {},
   "outputs": [
    {
     "name": "stdout",
     "output_type": "stream",
     "text": [
      "{\n",
      "    \"Graph Schema\": [\n",
      "        {\n",
      "            \"graph_name\": \"Norman\",\n",
      "            \"edge_definitions\": [\n",
      "                {\n",
      "                    \"edge_collection\": \"ChildOf\",\n",
      "                    \"from_vertex_collections\": [\n",
      "                        \"Persons\"\n",
      "                    ],\n",
      "                    \"to_vertex_collections\": [\n",
      "                        \"Persons\"\n",
      "                    ]\n",
      "                }\n",
      "            ]\n",
      "        }\n",
      "    ],\n",
      "    \"Collection Schema\": [\n",
      "        {\n",
      "            \"collection_name\": \"Persons\",\n",
      "            \"collection_type\": \"document\",\n",
      "            \"document_properties\": [\n",
      "                {\n",
      "                    \"name\": \"_key\",\n",
      "                    \"type\": \"str\"\n",
      "                },\n",
      "                {\n",
      "                    \"name\": \"_id\",\n",
      "                    \"type\": \"str\"\n",
      "                },\n",
      "                {\n",
      "                    \"name\": \"_rev\",\n",
      "                    \"type\": \"str\"\n",
      "                },\n",
      "                {\n",
      "                    \"name\": \"name\",\n",
      "                    \"type\": \"str\"\n",
      "                },\n",
      "                {\n",
      "                    \"name\": \"family_name\",\n",
      "                    \"type\": \"str\"\n",
      "                },\n",
      "                {\n",
      "                    \"name\": \"age\",\n",
      "                    \"type\": \"int\"\n",
      "                }\n",
      "            ],\n",
      "            \"example_document\": {\n",
      "                \"_key\": \"Norman\",\n",
      "                \"_id\": \"Persons/Norman\",\n",
      "                \"_rev\": \"_huxYtma---\",\n",
      "                \"name\": \"Norman\",\n",
      "                \"family_name\": \"Gonzalez\",\n",
      "                \"age\": 41\n",
      "            }\n",
      "        },\n",
      "        {\n",
      "            \"collection_name\": \"ChildOf\",\n",
      "            \"collection_type\": \"edge\",\n",
      "            \"edge_properties\": [\n",
      "                {\n",
      "                    \"name\": \"_key\",\n",
      "                    \"type\": \"str\"\n",
      "                },\n",
      "                {\n",
      "                    \"name\": \"_id\",\n",
      "                    \"type\": \"str\"\n",
      "                },\n",
      "                {\n",
      "                    \"name\": \"_from\",\n",
      "                    \"type\": \"str\"\n",
      "                },\n",
      "                {\n",
      "                    \"name\": \"_to\",\n",
      "                    \"type\": \"str\"\n",
      "                },\n",
      "                {\n",
      "                    \"name\": \"_rev\",\n",
      "                    \"type\": \"str\"\n",
      "                }\n",
      "            ],\n",
      "            \"example_edge\": {\n",
      "                \"_key\": \"266243094078\",\n",
      "                \"_id\": \"ChildOf/266243094078\",\n",
      "                \"_from\": \"Persons/Lucas\",\n",
      "                \"_to\": \"Persons/Norman\",\n",
      "                \"_rev\": \"_huxYtz----\"\n",
      "            }\n",
      "        }\n",
      "    ]\n",
      "}\n"
     ]
    }
   ],
   "source": [
    "# We can now view the generated schema\n",
    "\n",
    "import json\n",
    "\n",
    "print(json.dumps(graph.schema, indent=4))"
   ]
  },
  {
   "cell_type": "code",
   "execution_count": 20,
   "metadata": {},
   "outputs": [],
   "source": [
    "from langchain.chains import ArangoGraphQAChain\n",
    "from langchain_openai import ChatOpenAI\n",
    "\n",
    "chain = ArangoGraphQAChain.from_llm(\n",
    "    ChatOpenAI(temperature=0), graph=graph, verbose=True\n",
    ")"
   ]
  },
  {
   "cell_type": "markdown",
   "metadata": {},
   "source": [
    "Hacemos una pregunta desde un tercero ajeno a la persona de estudio en lenguaje natural"
   ]
  },
  {
   "cell_type": "code",
   "execution_count": 23,
   "metadata": {},
   "outputs": [
    {
     "name": "stdout",
     "output_type": "stream",
     "text": [
      "\n",
      "\n",
      "\u001b[1m> Entering new ArangoGraphQAChain chain...\u001b[0m\n",
      "AQL Query (1):\u001b[32;1m\u001b[1;3m\n",
      "WITH Persons, ChildOf\n",
      "FOR v, e IN 1..1 OUTBOUND 'Persons/Norman' ChildOf\n",
      "RETURN COUNT(v)\n",
      "\u001b[0m\n",
      "AQL Result:\n",
      "\u001b[32;1m\u001b[1;3m[7]\u001b[0m\n",
      "\n",
      "\u001b[1m> Finished chain.\u001b[0m\n"
     ]
    },
    {
     "data": {
      "text/plain": [
       "'Based on the information retrieved from the database, it appears that Norman has a total of 7 children.'"
      ]
     },
     "execution_count": 23,
     "metadata": {},
     "output_type": "execute_result"
    }
   ],
   "source": [
    "chain.run(\"cuantos hijos tiene normancito?\")"
   ]
  },
  {
   "cell_type": "code",
   "execution_count": 24,
   "metadata": {},
   "outputs": [
    {
     "name": "stdout",
     "output_type": "stream",
     "text": [
      "\n",
      "\n",
      "\u001b[1m> Entering new ArangoGraphQAChain chain...\u001b[0m\n",
      "AQL Query (1):\u001b[32;1m\u001b[1;3m\n",
      "WITH Persons, ChildOf\n",
      "FOR v, e IN 1..1 OUTBOUND 'Persons/Norman' ChildOf\n",
      "    RETURN v\n",
      "\u001b[0m\n",
      "AQL Result:\n",
      "\u001b[32;1m\u001b[1;3m[{'_key': 'Carlos', '_id': 'Persons/Carlos', '_rev': '_huxYtma--D', 'name': 'Carlos', 'family_name': 'Gonzalez', 'age': 68, 'relationship_to_Norman': 'Father'}]\u001b[0m\n",
      "\n",
      "\u001b[1m> Finished chain.\u001b[0m\n"
     ]
    },
    {
     "data": {
      "text/plain": [
       "'Summary:\\nThe son of Norman is Carlos. Carlos is 68 years old and has a father-son relationship with Norman.'"
      ]
     },
     "execution_count": 24,
     "metadata": {},
     "output_type": "execute_result"
    }
   ],
   "source": [
    "chain.run(\"quien es el hijo de Norman?\")"
   ]
  },
  {
   "cell_type": "code",
   "execution_count": 27,
   "metadata": {},
   "outputs": [
    {
     "name": "stdout",
     "output_type": "stream",
     "text": [
      "\n",
      "\n",
      "\u001b[1m> Entering new ArangoGraphQAChain chain...\u001b[0m\n",
      "AQL Query (1):\u001b[32;1m\u001b[1;3m\n",
      "WITH Persons, ChildOf\n",
      "LET norman = (\n",
      "    FOR person IN Persons\n",
      "    FILTER person.name == 'Norman'\n",
      "    RETURN person\n",
      ")[0]\n",
      "\n",
      "LET xavier = {\n",
      "    \"_key\": \"Xavier\",\n",
      "    \"name\": \"Xavier\",\n",
      "    \"family_name\": \"Gonzalez\",\n",
      "    \"age\": 0\n",
      "}\n",
      "\n",
      "INSERT xavier INTO Persons\n",
      "\n",
      "LET edge = {\n",
      "    \"_from\": norman._id,\n",
      "    \"_to\": CONCAT('Persons/', xavier._key)\n",
      "}\n",
      "\n",
      "INSERT edge INTO ChildOf\n",
      "\u001b[0m\n",
      "AQL Result:\n",
      "\u001b[32;1m\u001b[1;3m[]\u001b[0m\n",
      "\n",
      "\u001b[1m> Finished chain.\u001b[0m\n"
     ]
    },
    {
     "data": {
      "text/plain": [
       "'A new son named Xavier has been successfully added to Norman in the database.'"
      ]
     },
     "execution_count": 27,
     "metadata": {},
     "output_type": "execute_result"
    }
   ],
   "source": [
    "chain.run(\"add a new son of Norman named Xavier\")\n",
    "\n"
   ]
  },
  {
   "cell_type": "code",
   "execution_count": 28,
   "metadata": {},
   "outputs": [
    {
     "name": "stdout",
     "output_type": "stream",
     "text": [
      "\n",
      "\n",
      "\u001b[1m> Entering new ArangoGraphQAChain chain...\u001b[0m\n",
      "AQL Query (1):\u001b[32;1m\u001b[1;3m\n",
      "WITH Persons, ChildOf\n",
      "FOR v, e, p IN 1..1 OUTBOUND 'Persons/Norman' ChildOf\n",
      "FILTER v.name == 'Xavier'\n",
      "RETURN v\n",
      "\u001b[0m\n",
      "AQL Result:\n",
      "\u001b[32;1m\u001b[1;3m[{'_key': 'Xavier', '_id': 'Persons/Xavier', '_rev': '_hux4B6W---', 'name': 'Xavier', 'family_name': 'Gonzalez', 'age': 0}]\u001b[0m\n",
      "\n",
      "\u001b[1m> Finished chain.\u001b[0m\n"
     ]
    },
    {
     "data": {
      "text/plain": [
       "\"Summary:\\nYes, Norman has a son named Xavier. According to the database query results, Xavier is related to Norman as his son, with the same family name 'Gonzalez'.\""
      ]
     },
     "execution_count": 28,
     "metadata": {},
     "output_type": "execute_result"
    }
   ],
   "source": [
    "chain.run(\"Norman tiene un hijo Xavier?\")"
   ]
  }
 ],
 "metadata": {
  "kernelspec": {
   "display_name": "venv",
   "language": "python",
   "name": "python3"
  },
  "language_info": {
   "codemirror_mode": {
    "name": "ipython",
    "version": 3
   },
   "file_extension": ".py",
   "mimetype": "text/x-python",
   "name": "python",
   "nbconvert_exporter": "python",
   "pygments_lexer": "ipython3",
   "version": "3.11.1"
  }
 },
 "nbformat": 4,
 "nbformat_minor": 2
}
