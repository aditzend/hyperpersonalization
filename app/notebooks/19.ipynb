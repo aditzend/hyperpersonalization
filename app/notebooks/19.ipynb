{
 "cells": [
  {
   "cell_type": "markdown",
   "metadata": {},
   "source": [
    "Con LlamaIndex no pude ingestar. 4 NOV 21:10 probndo con langchain y unstructured"
   ]
  },
  {
   "cell_type": "code",
   "execution_count": 1,
   "metadata": {},
   "outputs": [],
   "source": [
    "from langchain.document_loaders import UnstructuredFileLoader"
   ]
  },
  {
   "cell_type": "code",
   "execution_count": 2,
   "metadata": {},
   "outputs": [],
   "source": [
    "loader = UnstructuredFileLoader(\"../../data/mastercard/s3.pdf\")"
   ]
  },
  {
   "cell_type": "code",
   "execution_count": 3,
   "metadata": {},
   "outputs": [],
   "source": [
    "docs = loader.load()"
   ]
  },
  {
   "cell_type": "code",
   "execution_count": 13,
   "metadata": {},
   "outputs": [
    {
     "data": {
      "text/plain": [
       "langchain.schema.document.Document"
      ]
     },
     "execution_count": 13,
     "metadata": {},
     "output_type": "execute_result"
    }
   ],
   "source": [
    "type(docs[0])"
   ]
  },
  {
   "cell_type": "code",
   "execution_count": 15,
   "metadata": {},
   "outputs": [
    {
     "data": {
      "text/plain": [
       "{'source': '../../data/mastercard/s3.pdf'}"
      ]
     },
     "execution_count": 15,
     "metadata": {},
     "output_type": "execute_result"
    }
   ],
   "source": [
    "docs[0].metadata"
   ]
  },
  {
   "cell_type": "code",
   "execution_count": 7,
   "metadata": {},
   "outputs": [
    {
     "data": {
      "text/plain": [
       "'Resumen N° 027051366624\\n\\nTarjeta Crédito MASTERCARD PLATINUM\\n\\nDITZEND,ALEXANDER\\n\\nCONSUMIDOR FINAL\\n\\nLADINES 2646 3, CIUDAD AUTONOMA BUEN, 01419\\n\\nN° de Socio: 1417647-0-0\\n\\n102.041,04\\n\\n07-Sep-23\\n\\n15-Sep-23\\n\\n05-Oct-23\\n\\n17-Oct-23\\n\\n7,53\\n\\nPAGO MINIMO En pesos\\n\\nLÍMITES\\n\\nDe compra\\n\\nEn cuotas\\n\\n$ 9.520,00\\n\\n$ 128.000,00\\n\\n$ 128.000,00\\n\\nTASAS\\n\\nNominal Anual\\n\\nEn pesos 106,640%\\n\\nEn dólares 0,000%\\n\\nEfectiva mensual\\n\\nEn pesos 8,740%\\n\\nCONSOLIDADO\\n\\nSALDO ANTERIOR\\n\\n11-Sep-23\\n\\nSU PAGO\\n\\n113.162,38\\n\\nSALDO PENDIENTE\\n\\nTOTAL CONSUMOS DEL MES\\n\\nSUBTOTAL\\n\\nINTERESES DE FINANCIACION\\n\\nIMPUESTO DE SELLOS\\n\\nI.V.A. 21,0%\\n\\nIMPUESTO PAIS\\n\\nPERCEP.AFIP RG 4815 45%\\n\\nTOTAL A PAGAR\\n\\nDETALLE DEL CONSUMO\\n\\nFECHA\\n\\nREFERENCIA\\n\\nCOMPROBANTE\\n\\nCOMPRAS DEL MES\\n\\n24-Sep-23\\n\\nSCAPE PARK (DOM,ARS, 2603,00)\\n\\n00997\\n\\n08-Sep-23\\n\\nAUTOPISTAS DEL 10/18\\n\\n02310\\n\\n14-Sep-23\\n\\nDON WEB\\n\\n07013\\n\\n14-Sep-23\\n\\nDON WEB\\n\\n07014\\n\\n22-Sep-23\\n\\nPPRO *Adobe\\n\\n01167\\n\\nResumen de tarjeta de credito MASTERCARD PLATINUM 20231007065712036H\\n\\nCUIT Banco: 30-50000173-5\\n\\nSucursal: 241\\n\\n09-Nov-23\\n\\n21-Nov-23\\n\\nDe financiación\\n\\n$ 128.000,00\\n\\nEn dólares 0,000%\\n\\nPESOS\\n\\nDÓLARES\\n\\n126.372,38\\n\\n0,00\\n\\n113.162,38\\n\\n13.210,00\\n\\n0,00\\n\\n84.356,57\\n\\n7,44\\n\\n97.566,57\\n\\n7,44\\n\\n1.235,02\\n\\n1.027,10\\n\\n0,09\\n\\n259,35\\n\\n781,20\\n\\n1.171,80\\n\\n102.041,04\\n\\n7,53\\n\\nPESOS\\n\\nDÓLARES\\n\\n7,44\\n\\n550,00\\n\\n37.139,00\\n\\n5.879,00\\n\\n1.348,50\\n\\nPágina\\n\\n1 / 4\\n\\nResumen N° 027051366624\\n\\nTarjeta Crédito MASTERCARD PLATINUM\\n\\nDITZEND,ALEXANDER\\n\\nCONSUMIDOR FINAL\\n\\nLADINES 2646 3, CIUDAD AUTONOMA BUEN, 01419\\n\\nN° de Socio: 1417647-0-0\\n\\nDETALLE DEL CONSUMO\\n\\nFECHA\\n\\nREFERENCIA\\n\\nCOMPROBANTE\\n\\n22-Sep-23\\n\\nAUTOPISTAS DEL 10/18\\n\\n07729\\n\\n01-Oct-23\\n\\nDON WEB\\n\\n01188\\n\\n03-Oct-23\\n\\nMERPAGO*NUEVASOCIALF\\n\\n05523\\n\\n03-Oct-23\\n\\nWWW.FLYBONDI.COM\\n\\n04318\\n\\n04-Oct-23\\n\\nCLARO PT\\n\\n01678\\n\\nSUBTOTAL\\n\\nTOTAL A PAGAR\\n\\nCuotas a vencer\\n\\nNoviembre-23\\n\\nDiciembre-23\\n\\nEnero-24\\n\\nFebrero-24\\n\\n$\\n\\n0,00\\n\\n$\\n\\n0,00\\n\\n$\\n\\n0,00\\n\\n$\\n\\n0,00\\n\\n$\\n\\nDebitaremos de su c.ahorro 0402840177 el importe de su saldo actual El monto de IVA discriminado no puede computarse como crédito fiscal\\n\\nOPCIONES DE FINANCIACION\\n\\nTasas de interés de financiación en pesos: TNA 106,640%, TEA 177,164%, TEM 8,740%. Tasas de interés de financiación en dólares: TNA 0,000%, TEA 0,000%, TEM 0,000%.\\n\\nTasas de intereses punitorios en pesos: TNA 53,240%, TEA 68,269%, TEM 4,370%, TIP 0,145%. Tasas de intereses punitorios en dólares: TNA 0,000%, TEA 0,000%, TEM 0,000%, TIP 0,000%. Los intereses de financiación se calculan desde fecha de vencimiento de su resumen anterior. Los intereses punitorios sobre pago mínimo impago se calculan desde fecha de vencimiento de su resumen anterior.\\n\\n** En cumplimiento a la normativa BCRA \"A\" 7198, para saldos mayores a $ 200.000,00, la tasa de interés de financiación en pesos a aplicar sobre el excedente será: TNA 139,450%, TEA 272,722%, TEM 11,420%.\\n\\nSiempre y cuando no haya consumos que totalicen U$S 200 o más en el periodo actual (Normativa BCRA \"A\" 7559). En ese caso la tasa de interés de financiación en pesos a aplicar será: TNA 139,450%, TEA 272,722%, TEM 11,420%.\\n\\nLa tasa de interés punitorio en pesos a aplicar: será: TNA 69,720%, TIP 0,191% **\\n\\n** USTED DISPONE DE 30 DIAS PARA CUESTIONAR SU RESUMEN DE CUENTA DESDE SU RECEPCION **.\\n\\nTasa de adelantos en efectivo local en 1 pago vigente al 05/10/2023: TNA 107,000%. Consulte con su\\n\\nentidad emisora la tasa vigente al momento de efectuar un adelanto en el exterior. Descripciones de tasas:\\n\\nResumen de tarjeta de credito MASTERCARD PLATINUM 20231007065712036H\\n\\nCUIT Banco: 30-50000173-5\\n\\nSucursal: 241\\n\\nPESOS\\n\\nDÓLARES\\n\\n650,00\\n\\n6.169,79\\n\\n3.312,68\\n\\n13.997,98\\n\\n15.309,62\\n\\n84.356,57\\n\\n7,44\\n\\n102.041,04\\n\\n7,53\\n\\nMarzo-24\\n\\nAbril-24\\n\\n0,00\\n\\n$\\n\\n0,00\\n\\nPágina\\n\\n2 / 4\\n\\nResumen N° 027051366624\\n\\nTarjeta Crédito MASTERCARD PLATINUM\\n\\nDITZEND,ALEXANDER\\n\\nCONSUMIDOR FINAL\\n\\nLADINES 2646 3, CIUDAD AUTONOMA BUEN, 01419\\n\\nN° de Socio: 1417647-0-0\\n\\nTNA: Tasa Nominal Anual, TEA: Tasa Efectiva Anual, TEM: Tasa Efectiva Mensual, TIP: Tasa Diaria de Interés Punitorio, CFT: Costo Financiero Total\\n\\nINFORMACION INSTITUCIONAL Orientación al Consumidor Provincia de Buenos Aires 0800-222-9042.\\n\\n\"Si usted contrato una cobertura MasterAssist recuerde que la misma cuenta con una vigencia de un año y su renovación es automática. Ud. tiene 10 días corridos desde la solicitud de cobertura para darla de baja. Una vez superado este plazo, el socio podrá cancelar la renovación automática, notificando esta decisión con anticipación a la fecha de vencimiento.\" Centro de Atención exclusiva Platinum Line: 0800-999-3999. Si Ud. se encuentra en el exterior comuníquese por cobro revertido al +5411-4340-5656. Centro de Denuncias: 0800-222-3475 Si desea acceder a su resumen cuenta en formato digital o consultar otros servicios, podrá hacerlo sin costo ingresando en www.masterconsultas.com.ar Esta hoja fue fabricada 100% con fibra de cana de azúcar, 0% fibra de árbol y 0% blanqueadores químicos, para reducir la emisión de CO2 y cuidar el Medioambiente\\n\\nINFORMACION DE LA ENTIDAD\\n\\nLe informamos que a partir del 01/10/2022 el servicio de asistencia en viaje para las Tarjetas de Galicia Mastercard Platinum, será prestado por AXA Assistance ARGENTINA. Podés consultar las nuevas condiciones y montos de cobertura en bancogalicia.com La tasa de Interés por financiación que se aplicará para saldos inferiores a $200.000 pesos para el próximo período no superará: Costo Financiero Total de Tasa Efectiva Anual (CFT TEA) 242,24%, Tasa Nominal Anual (TNA) PESOS 107,00%, Tasa Efectiva Anual (TEA) PESOS 178,86%. La tasa de Interés por financiación que se aplicará para el excedente de saldos superiores a 200.000 pesos o de registrar consumos en moneda extranjera por un importe total superior a los USD200 -sobre el saldo total en pesos- para el próximo período no superará: Costo Financiero Total de Tasa Efectiva Anual (CFT TEA) 502,90% Tasa Nominal Anual (TNA) PESOS 160,00% Tasa Efectiva Anual (TEA) PESOS 349,60%. La TNA, TEA, CFT y TEM informadas para pago de resumen en cuotas son las vigentes a la fecha de emisión del presente resumen. Las mismas son de carácter variable y pueden sufrir modificaciones con posterioridad a dicha fecha, por lo que recomendamos consultar las tasas vigentes al momento de querer realizar la operación. Composición del Pago Mínimo: 5% de saldos financiados y consumos del período en hasta 3 cuotas, 25% consumos en planes de 4 a 12 cuotas, 100% de gastos administrativos, intereses de financiación, comisiones, impuestos, adelantos en efectivo y consumos del período de 13 o más cuotas. Si el saldo financiable resultante de la formula anterior es mayor al límite de financiación, el pago mínimo exigido será el saldo actual menos el límite de financiación. Los consumos en dólares de sus tarjetas de crédito podrán ser cancelados en esa moneda extranjera o en pesos. En este último caso, cuando el pago se realice un día hábil en horario bancario en ventanilla de la entidad financiera, homebanking o mobile, será aplicable el tipo de cambio vendedor del momento de la transacción. Si a la fecha de vencimiento la deuda en dólares no hubiera sido cancelada, el Banco la convertirá a pesos al tipo de cambio vendedor del día de vencimiento del resumen. Si hubiera pactado el débito automático del resumen de la tarjeta, o utiliza otros canales de pago no asimilables a los descriptos en el párrafo anterior, o realice el pago en homebanking o mobile fuera del horario bancario, aplicará el tipo de cambio vendedor del cierre del mismo día hábil del pago, o el día hábil inmediato anterior cuando el pago se efectúe un día inhábil o en días hábiles en un horario anterior al de apertura de mercado de cambio. Los adelantos en efectivo, devengan una TNA$ del 107,00%. Para efectuar el cálculo del Costo Financiero se toman los siguientes ítems: TNA$ 107,00%, Comisión de 80 pesos o 3 dólares (valor fijo por operación) según la moneda del adelanto. Por esta razón el CFT varía según el monto solicitado, el plazo de financiación y la moneda del adelanto.\\n\\nResumen de tarjeta de credito MASTERCARD PLATINUM 20231007065712036H\\n\\nCUIT Banco: 30-50000173-5\\n\\nSucursal: 241\\n\\nPágina\\n\\n3 / 4\\n\\nResumen N° 027051366624\\n\\nTarjeta Crédito MASTERCARD PLATINUM\\n\\nDITZEND,ALEXANDER\\n\\nCONSUMIDOR FINAL\\n\\nLADINES 2646 3, CIUDAD AUTONOMA BUEN, 01419\\n\\nN° de Socio: 1417647-0-0\\n\\nINFORMACION DE LA ENTIDAD\\n\\nSegún lo estipulado en Ley 25.065, art 23., se encuentra expresamente prohibido la capitalización de los intereses. La Tasa de Interés por financiación que se aplica para saldos deudores inferiores a 200.000 pesos, para este periodo es: Costo Financiero Total de Tasa Efectiva Anual (CFT TEA) 242,24% Tasa Nominal Anual (TNA) PESOS 107,00% Tasa Efectiva Anual (TEA) PESOS 178,86% La Tasa de Interés por financiación que se aplica para el excedente de saldos deudores superiores a 200.000 pesos, o de registrar consumos en moneda extranjera por un importe total superior a los USD200 -sobre el saldo total en pesos- para este período es: Costo Financiero Total De Tasa Efectiva Anual (CFT TEA) 383,25% Tasa Nominal Anual (TNA) PESOS 139,00% Tasa Efectiva Anual (TEA) PESOS 272,91% Para la base de cálculo de la Percepción IVA RG 4240 21%, la Percepción IMPUESTO PAIS y la Percepción RG 4815, se toman los consumos en dólares y se pesifican al TC Vendedor fijado por el BNA al último día hábil anterior a la fecha de cierre del resumen. Las nuevas comisiones vigentes a partir de Octubre 2023 son: Renovación Anual: Nacional/Regional $27.300 Signature $127.900. Mantenimiento de Cuenta $1.900. Reposición de tarjetas por hurto, robo o extravío: $3.000 Comisión por adelanto en efectivo Business $140. Cargo gestión de cobranza: Gestión telefónica $627,99 (máximo 5 por mes), Gestión digital $93,17 máximo 5 por mes.- Estos precios incluyen IVA. Las comisiones no especificadas y las condiciones generales acordadas originalmente, mantienen sus valores vigentes.- Les informamos que a partir del 01/04/2023 se discontinuará el programa de Pases Libre de renovación anual sin cargo para clientes de tarjeta Nacional / Regional / Internacional y para clientes de tarjeta Gold. \"Usted puede solicitar la \"Caja de ahorros\" en pesos con las prestaciones previstas en el punto 1.8. de las normas sobre \"Depósitos de ahorro, cuenta sueldo y especiales\", las cuales serán gratuitas\".\\n\\n\"Usted puede consultar el \"Régimen de Transparencia\" elaborado por el Banco Central sobre la base de la información proporcionada por los sujetos obligados a fin de comparar los costos y características de los productos y servicios financieros ingresando a http://www.bcra.gob.ar/BCRAyVos/Regimen_de_transparencia.asp\". Por motivos de seguridad procederemos a dar de baja todas las tarjetas adicionales que no hayan registrado movimientos en los últimos 24 meses. Si desea mantener activa la tarjeta, deberá realizar un consumo con la misma.\\n\\nResumen de tarjeta de credito MASTERCARD PLATINUM 20231007065712036H\\n\\nCUIT Banco: 30-50000173-5\\n\\nSucursal: 241\\n\\nPágina\\n\\n4 / 4'"
      ]
     },
     "execution_count": 7,
     "metadata": {},
     "output_type": "execute_result"
    }
   ],
   "source": [
    "docs[0].page_content"
   ]
  },
  {
   "cell_type": "code",
   "execution_count": 28,
   "metadata": {},
   "outputs": [],
   "source": [
    "import requests\n",
    "import os\n",
    "import json\n",
    "def gpt_system_user(\n",
    "    system_message: str, user_message: str, model: str = \"gpt-3.5-turbo\"\n",
    "):\n",
    "    \"\"\"Para usar en notebooks\"\"\"\n",
    "    try:\n",
    "        response = requests.post(\n",
    "            url=\"https://api.openai.com/v1/chat/completions\",\n",
    "            params={\n",
    "                \"temperature\": \"0\",\n",
    "            },\n",
    "            headers={\n",
    "                \"Content-Type\": \"application/json\",\n",
    "                \"Authorization\": f\"Bearer {os.environ['OPENAI_API_KEY']}\",\n",
    "            },\n",
    "            data=json.dumps(\n",
    "                {\n",
    "                    \"model\": model,\n",
    "                    \"messages\": [\n",
    "                        {\"content\": system_message, \"role\": \"system\"},\n",
    "                        {\"content\": user_message, \"role\": \"user\"},\n",
    "                    ]\n",
    "                }\n",
    "            ),\n",
    "            timeout=10,\n",
    "        )\n",
    "        choices = response.json()[\"choices\"]\n",
    "        answer = {\n",
    "            \"status_code\": response.status_code,\n",
    "            \"text\": choices[0][\"message\"],\n",
    "        }\n",
    "        return answer\n",
    "\n",
    "    except requests.exceptions.RequestException:\n",
    "        print(\"HTTP Request failed\")\n",
    "        return None\n"
   ]
  },
  {
   "cell_type": "markdown",
   "metadata": {},
   "source": [
    "Nuevo modelo instruct  `gpt-3.5-turbo-instruct-0914`"
   ]
  },
  {
   "cell_type": "code",
   "execution_count": 42,
   "metadata": {},
   "outputs": [],
   "source": [
    "import requests\n",
    "import os\n",
    "import json\n",
    "import openai\n",
    "openai.api_key = os.getenv(\"OPENAI_API_KEY\")\n",
    "\n",
    "def gpt_instruct(\n",
    "    instruction: str, model: str = \"gpt-3.5-turbo-instruct\"\n",
    "):\n",
    "    \"\"\"Para usar en notebooks\"\"\"\n",
    "    completion = openai.ChatCompletion.create(\n",
    "      model=\"gpt-3.5-turbo\",\n",
    "      messages=[\n",
    "        {\"role\": \"system\", \"content\": \"You are a helpful assistant.\"},\n",
    "        {\"role\": \"user\", \"content\": \"Hello!\"}\n",
    "      ]\n",
    "    )\n",
    "\n",
    "  print(completion.choices[0].message)\n",
    "    return model_response[\"choices\"][0][\"text\"]\n"
   ]
  },
  {
   "cell_type": "code",
   "execution_count": 43,
   "metadata": {},
   "outputs": [
    {
     "data": {
      "text/plain": [
       "'\"The user [used] their MASTERCARD PLATINUM credit card'"
      ]
     },
     "execution_count": 43,
     "metadata": {},
     "output_type": "execute_result"
    }
   ],
   "source": [
    "context = docs[0].page_content\n",
    "instruction = f\"\"\"\n",
    "Extract all meaningful information from the document between three backticks.\n",
    "This is very important information for the user, so please be sure to include all the relevant information.\n",
    "Use this format:\n",
    "\"The user [did/bought/used/paid/...] [something] on [date] at [place/store] for [amount of money].\"\n",
    "\"The total amount of money spent in the month was [amount of money].\"\n",
    "\n",
    "```\n",
    "{context}\n",
    "```\n",
    "\"\"\"\n",
    "\n",
    "summary = gpt_instruct(instruction=instruction)\n",
    "summary"
   ]
  },
  {
   "cell_type": "markdown",
   "metadata": {},
   "source": [
    "Instruct genera un resumen horrible. No sirve para nada."
   ]
  },
  {
   "cell_type": "markdown",
   "metadata": {},
   "source": [
    "Pruebo con turbo."
   ]
  },
  {
   "cell_type": "code",
   "execution_count": 44,
   "metadata": {},
   "outputs": [
    {
     "data": {
      "text/plain": [
       "{'status_code': 200,\n",
       " 'text': {'role': 'assistant',\n",
       "  'content': 'The user used their MASTERCARD PLATINUM credit card for various purchases in the month of September. Here are the details of the purchases:\\n\\n- On September 24, they made a purchase for 2603,00 ARS at SCAPE PARK.\\n- On September 8, they made a purchase at AUTOPISTAS DEL 10/18.\\n- On September 14, they made two purchases at DON WEB.\\n- On September 22, they made a purchase at PPRO *Adobe.\\n\\nThe total amount to be paid is 102,041.04 ARS, with a minimum payment of 7.53 ARS. \\n\\nThe card also has the following limits:\\n- Purchase limit: 9,520.00 ARS\\n- Installment limit: 128,000.00 ARS\\n\\nThe card has a previous balance of 113,162.38 ARS and a pending balance of 126,372.38 ARS.\\n\\nThe user has until November 9 to make the payment.\\n\\nThe interest rate for financing in pesos is 106.640% nominal annual rate and 8.740% effective monthly rate.\\n\\nThe card also has a cash advance option with a 107.000% nominal annual rate.\\n\\nThe card is associated with a Banco account with CUIT 30-50000173-5 and branch 241.\\n\\nPlease note that this summary is based on the extracted information and may not include all the relevant details. It is advised to refer to the original document for complete and accurate information.'}}"
      ]
     },
     "execution_count": 44,
     "metadata": {},
     "output_type": "execute_result"
    }
   ],
   "source": [
    "context = docs[0].page_content\n",
    "system_message = f\"\"\"\n",
    "The user will give you an important document with some meaningful data surrounded by meaningless data.\n",
    "Extract all meaningful information from the document and create a summary.\n",
    "No important details should be left out.\n",
    "This is very important information for the user, so please be sure to include all the relevant information.\n",
    "Use this format:\n",
    "\"The user [did/bought/used/paid/...] [something] on [date] at [place/store] for [amount of money].\"\n",
    "\"\"\"\n",
    "\n",
    "chat_summary = gpt_system_user(system_message=system_message, user_message=context)\n",
    "chat_summary['text']"
   ]
  },
  {
   "cell_type": "code",
   "execution_count": 45,
   "metadata": {},
   "outputs": [],
   "source": [
    "summary = chat_summary['text']['content']"
   ]
  },
  {
   "cell_type": "code",
   "execution_count": 46,
   "metadata": {},
   "outputs": [
    {
     "data": {
      "text/plain": [
       "'The user used their MASTERCARD PLATINUM credit card for various purchases in the month of September. Here are the details of the purchases:\\n\\n- On September 24, they made a purchase for 2603,00 ARS at SCAPE PARK.\\n- On September 8, they made a purchase at AUTOPISTAS DEL 10/18.\\n- On September 14, they made two purchases at DON WEB.\\n- On September 22, they made a purchase at PPRO *Adobe.\\n\\nThe total amount to be paid is 102,041.04 ARS, with a minimum payment of 7.53 ARS. \\n\\nThe card also has the following limits:\\n- Purchase limit: 9,520.00 ARS\\n- Installment limit: 128,000.00 ARS\\n\\nThe card has a previous balance of 113,162.38 ARS and a pending balance of 126,372.38 ARS.\\n\\nThe user has until November 9 to make the payment.\\n\\nThe interest rate for financing in pesos is 106.640% nominal annual rate and 8.740% effective monthly rate.\\n\\nThe card also has a cash advance option with a 107.000% nominal annual rate.\\n\\nThe card is associated with a Banco account with CUIT 30-50000173-5 and branch 241.\\n\\nPlease note that this summary is based on the extracted information and may not include all the relevant details. It is advised to refer to the original document for complete and accurate information.'"
      ]
     },
     "execution_count": 46,
     "metadata": {},
     "output_type": "execute_result"
    }
   ],
   "source": [
    "summary"
   ]
  }
 ],
 "metadata": {
  "kernelspec": {
   "display_name": "venv",
   "language": "python",
   "name": "python3"
  },
  "language_info": {
   "codemirror_mode": {
    "name": "ipython",
    "version": 3
   },
   "file_extension": ".py",
   "mimetype": "text/x-python",
   "name": "python",
   "nbconvert_exporter": "python",
   "pygments_lexer": "ipython3",
   "version": "3.9.9"
  }
 },
 "nbformat": 4,
 "nbformat_minor": 2
}
