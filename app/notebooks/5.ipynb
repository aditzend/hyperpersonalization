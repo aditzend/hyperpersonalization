{
 "cells": [
  {
   "cell_type": "markdown",
   "metadata": {},
   "source": [
    "En este experimento se busca simular una base de conversaciones para luego probar la capacidad del asistente de navegar cronológicamente la base y comenzar a usarlas en un razonamiento."
   ]
  },
  {
   "cell_type": "code",
   "execution_count": 1,
   "metadata": {},
   "outputs": [],
   "source": [
    "from langchain.embeddings.openai import OpenAIEmbeddings\n",
    "from langchain.vectorstores import FAISS"
   ]
  },
  {
   "cell_type": "code",
   "execution_count": 27,
   "metadata": {},
   "outputs": [],
   "source": [
    "index_name = \"conversations\"\n",
    "index_path = \"../indexes/conversations\"\n",
    "embeddings = OpenAIEmbeddings()\n",
    "\n",
    "db = FAISS.load_local(folder_path=index_path, index_name=index_name, embeddings=embeddings)\n"
   ]
  },
  {
   "cell_type": "markdown",
   "metadata": {},
   "source": [
    "Se crea una base de mensajes entre el asistente y el usuario."
   ]
  },
  {
   "cell_type": "code",
   "execution_count": 106,
   "metadata": {},
   "outputs": [],
   "source": [
    "conversation_db =  [\n",
    "    {\n",
    "        \"message\": {\n",
    "            \"role\": \"user\",\n",
    "            \"content\": \"Cual es la capital de Argentina?\"\n",
    "        },\n",
    "        \"metadata\": {\n",
    "          \"session_id\": \"1\",\n",
    "          \"person_id\": \"20\",\n",
    "          \"message_id\": \"1-1\",\n",
    "          \"created_at\": \"20230825T12:00:00.000Z\",\n",
    "        },\n",
    "    },\n",
    "    {\n",
    "        \"message\": {\n",
    "            \"role\": \"system\",\n",
    "            \"content\": \"Buenos Aires\"\n",
    "        },\n",
    "        \"metadata\": {\n",
    "            \"session_id\": \"1\",\n",
    "            \"person_id\": \"20\",\n",
    "            \"message_id\": \"1-2\",\n",
    "            \"created_at\": \"20230825T12:01:00.000Z\"\n",
    "        }\n",
    "    },\n",
    "    {\n",
    "        \"message\": {\n",
    "            \"role\": \"user\",\n",
    "            \"content\": \"Cual es la capital de Chile?\"\n",
    "        },\n",
    "        \"metadata\": {\n",
    "          \"session_id\": \"2\",\n",
    "          \"person_id\": \"20\",\n",
    "          \"message_id\": \"2-1\",\n",
    "          \"created_at\": \"20230825T13:00:00.000Z\",\n",
    "        },\n",
    "    },\n",
    "    {\n",
    "        \"message\": {\n",
    "            \"role\": \"system\",\n",
    "            \"content\": \"Santiago\"\n",
    "        },\n",
    "        \"metadata\": {\n",
    "            \"session_id\": \"2\",\n",
    "            \"person_id\": \"20\",\n",
    "            \"message_id\": \"2-2\",\n",
    "            \"created_at\": \"20230825T13:01:00.000Z\"\n",
    "        }\n",
    "    },\n",
    "    {\n",
    "        \"message\": {\n",
    "            \"role\": \"user\",\n",
    "            \"content\": \"Cual es la capital de Peru?\"\n",
    "        },\n",
    "        \"metadata\": {\n",
    "          \"session_id\": \"3\",\n",
    "          \"person_id\": \"20\",\n",
    "          \"message_id\": \"3-1\",\n",
    "          \"created_at\": \"20230825T14:00:00.000Z\",\n",
    "        },\n",
    "    },\n",
    "    {\n",
    "        \"message\": {\n",
    "            \"role\": \"system\",\n",
    "            \"content\": \"Lima\"\n",
    "        },\n",
    "        \"metadata\": {\n",
    "            \"session_id\": \"3\",\n",
    "            \"person_id\": \"20\",\n",
    "            \"message_id\": \"3-2\",\n",
    "            \"created_at\": \"20230825T14:01:00.000Z\"\n",
    "        }\n",
    "    },\n",
    "    {\n",
    "        \"message\": {\n",
    "            \"role\": \"user\",\n",
    "            \"content\": \"Cual es la capital de Colombia?\"\n",
    "        },\n",
    "        \"metadata\": {\n",
    "          \"session_id\": \"4\",\n",
    "          \"person_id\": \"20\",\n",
    "          \"message_id\": \"4-1\",\n",
    "          \"created_at\": \"20230825T15:00:00.000Z\",\n",
    "        },\n",
    "    },\n",
    "    {\n",
    "        \"message\": {\n",
    "            \"role\": \"system\",\n",
    "            \"content\": \"Bogota\"\n",
    "        },\n",
    "        \"metadata\": {\n",
    "            \"session_id\": \"4\",\n",
    "            \"person_id\": \"20\",\n",
    "            \"message_id\": \"4-2\",\n",
    "            \"created_at\": \"20230825T15:01:00.000Z\"\n",
    "        }\n",
    "    }\n",
    "\n",
    "  ]\n",
    "\n"
   ]
  },
  {
   "cell_type": "code",
   "execution_count": 32,
   "metadata": {},
   "outputs": [
    {
     "data": {
      "text/plain": [
       "{'role': 'user', 'content': 'Cual es la capital de Argentina?'}"
      ]
     },
     "execution_count": 32,
     "metadata": {},
     "output_type": "execute_result"
    }
   ],
   "source": [
    "conversation_db[0]['message']"
   ]
  },
  {
   "cell_type": "code",
   "execution_count": 17,
   "metadata": {},
   "outputs": [
    {
     "data": {
      "text/plain": [
       "\"{'role': 'user', 'content': 'Cual es la capital de Argentina?'}\""
      ]
     },
     "execution_count": 17,
     "metadata": {},
     "output_type": "execute_result"
    }
   ],
   "source": [
    "str(conversation_db[0]['message'])\n"
   ]
  },
  {
   "cell_type": "markdown",
   "metadata": {},
   "source": [
    "Los mensajes se vectorizan y se suben a la base"
   ]
  },
  {
   "cell_type": "code",
   "execution_count": 33,
   "metadata": {},
   "outputs": [
    {
     "name": "stdout",
     "output_type": "stream",
     "text": [
      "{'role': 'user', 'content': 'Cual es la capital de Argentina?'}\n",
      "{'session_id': '1', 'person_id': '20', 'message_id': '1-1', 'created_at': '20230825T12:00:00.000Z'}\n",
      "{'role': 'system', 'content': 'Buenos Aires'}\n",
      "{'session_id': '1', 'person_id': '20', 'message_id': '1-2', 'created_at': '20230825T12:01:00.000Z'}\n",
      "{'role': 'user', 'content': 'Cual es la capital de Chile?'}\n",
      "{'session_id': '2', 'person_id': '20', 'message_id': '2-1', 'created_at': '20230825T13:00:00.000Z'}\n",
      "{'role': 'system', 'content': 'Santiago'}\n",
      "{'session_id': '2', 'person_id': '20', 'message_id': '2-2', 'created_at': '20230825T13:01:00.000Z'}\n",
      "{'role': 'user', 'content': 'Cual es la capital de Peru?'}\n",
      "{'session_id': '3', 'person_id': '20', 'message_id': '3-1', 'created_at': '20230825T14:00:00.000Z'}\n",
      "{'role': 'system', 'content': 'Lima'}\n",
      "{'session_id': '3', 'person_id': '20', 'message_id': '3-2', 'created_at': '20230825T14:01:00.000Z'}\n",
      "{'role': 'user', 'content': 'Cual es la capital de Colombia?'}\n",
      "{'session_id': '4', 'person_id': '20', 'message_id': '4-1', 'created_at': '20230825T15:00:00.000Z'}\n",
      "{'role': 'system', 'content': 'Bogota'}\n",
      "{'session_id': '4', 'person_id': '20', 'message_id': '4-2', 'created_at': '20230825T15:01:00.000Z'}\n"
     ]
    }
   ],
   "source": [
    "for item in conversation_db:\n",
    "    print(str(item['message']))\n",
    "    print(item['metadata'])\n",
    "    db.add_texts(\n",
    "        texts=[str(item['message'])], \n",
    "        metadatas=[item['metadata']],\n",
    "    )"
   ]
  },
  {
   "cell_type": "code",
   "execution_count": 50,
   "metadata": {},
   "outputs": [
    {
     "data": {
      "text/plain": [
       "\"{'role': 'user', 'content': 'Cual es la capital de Peru?'}\""
      ]
     },
     "execution_count": 50,
     "metadata": {},
     "output_type": "execute_result"
    }
   ],
   "source": [
    "db_results[0][0].page_content\n"
   ]
  },
  {
   "cell_type": "code",
   "execution_count": 52,
   "metadata": {},
   "outputs": [
    {
     "data": {
      "text/plain": [
       "\"{'session_id': '3', 'person_id': '20', 'message_id': '3-1', 'created_at': '20230825T14:00:00.000Z'}\""
      ]
     },
     "execution_count": 52,
     "metadata": {},
     "output_type": "execute_result"
    }
   ],
   "source": [
    "str(db_results[0][0].metadata)\n"
   ]
  },
  {
   "cell_type": "code",
   "execution_count": 56,
   "metadata": {},
   "outputs": [
    {
     "data": {
      "text/plain": [
       "\"{ message: {'role': 'user', 'content': 'Cual es la capital de Peru?'}, metadata: {'session_id': '3', 'person_id': '20', 'message_id': '3-1', 'created_at': '20230825T14:00:00.000Z'} }\""
      ]
     },
     "execution_count": 56,
     "metadata": {},
     "output_type": "execute_result"
    }
   ],
   "source": [
    "context = \"{ message: \" + db_results[0][0].page_content + \", metadata: \" + str(db_results[0][0].metadata) + \" }\"\n",
    "context"
   ]
  },
  {
   "cell_type": "code",
   "execution_count": 64,
   "metadata": {},
   "outputs": [],
   "source": [
    "prompt = f\"\"\"\n",
    "Answer the user's question this message as context.\n",
    "Previous message: {context}\n",
    "\"\"\"\n",
    "\n"
   ]
  },
  {
   "cell_type": "code",
   "execution_count": 65,
   "metadata": {},
   "outputs": [
    {
     "data": {
      "text/plain": [
       "\"\\nAnswer the user's question this message as context.\\nContext: { message: {'role': 'user', 'content': 'Cual es la capital de Peru?'}, metadata: {'session_id': '3', 'person_id': '20', 'message_id': '3-1', 'created_at': '20230825T14:00:00.000Z'} }\\n\""
      ]
     },
     "execution_count": 65,
     "metadata": {},
     "output_type": "execute_result"
    }
   ],
   "source": [
    "prompt"
   ]
  },
  {
   "cell_type": "markdown",
   "metadata": {},
   "source": [
    "Se crea la función para llamar al LLM"
   ]
  },
  {
   "cell_type": "code",
   "execution_count": 96,
   "metadata": {},
   "outputs": [],
   "source": [
    "# Install the Python Requests library:\n",
    "# `pip install requests`\n",
    "\n",
    "import requests\n",
    "import json\n",
    "\n",
    "\n",
    "def gpt35_system_user(system_message:str, user_message:str):\n",
    "    # Hyper 2\n",
    "    # POST https://yoizenia.openai.azure.com/openai/deployments/GPT35Turbo/chat/completions\n",
    "\n",
    "    try:\n",
    "        response = requests.post(\n",
    "            url=\"https://yoizenia.openai.azure.com/openai/deployments/GPT35Turbo/chat/completions\",\n",
    "            params={\n",
    "                \"api-version\": \"2023-05-15\",\n",
    "                \"temperature\": \"0\",\n",
    "            },\n",
    "            headers={\n",
    "                \"Content-Type\": \"application/json\",\n",
    "                \"api-key\": \"bd6603c266fc49389659225a451ff03d\",\n",
    "            },\n",
    "            data=json.dumps({\n",
    "                \"messages\": [\n",
    "                    {\n",
    "                        \"content\": system_message,\n",
    "                        \"role\": \"system\"\n",
    "                    },\n",
    "                    {\n",
    "                        \"content\":user_message,\n",
    "                        \"role\": \"user\"\n",
    "                    }\n",
    "                ]\n",
    "            })\n",
    "        )\n",
    "        choices = response.json()['choices']\n",
    "        answer = {\n",
    "            \"status_code\": response.status_code,\n",
    "            \"text\": choices[0]['message'],\n",
    "        }\n",
    "        return answer\n",
    "\n",
    "    except requests.exceptions.RequestException:\n",
    "        print('HTTP Request failed')\n",
    "        return None\n"
   ]
  },
  {
   "cell_type": "markdown",
   "metadata": {},
   "source": [
    "Se supone un nuevo mensaje del usuairo"
   ]
  },
  {
   "cell_type": "code",
   "execution_count": 68,
   "metadata": {},
   "outputs": [],
   "source": [
    "user_input_1 = \"hace cuanto hablamos de peru?\""
   ]
  },
  {
   "cell_type": "code",
   "execution_count": 88,
   "metadata": {},
   "outputs": [
    {
     "data": {
      "text/plain": [
       "\"\\nAnswer the user's question this message as context.\\nPrevious message: { message: {'role': 'user', 'content': 'Cual es la capital de Peru?'}, metadata: {'session_id': '3', 'person_id': '20', 'message_id': '3-1', 'created_at': '20230825T14:00:00.000Z'} }\\n\""
      ]
     },
     "execution_count": 88,
     "metadata": {},
     "output_type": "execute_result"
    }
   ],
   "source": [
    "system_prompt_1 = f\"\"\"\n",
    "Answer the user's question. Use this message as context.\n",
    "Previous message: {context_1}\n",
    "\"\"\"\n",
    "system_prompt_1"
   ]
  },
  {
   "cell_type": "markdown",
   "metadata": {},
   "source": [
    "El modelo de lenguaje toma el contexto proporcionado por la base de conversaciones antes de generar la respuesta."
   ]
  },
  {
   "cell_type": "code",
   "execution_count": 97,
   "metadata": {},
   "outputs": [
    {
     "data": {
      "text/plain": [
       "'Según la información proporcionada en el mensaje anterior, empezamos a hablar de Perú en el mensaje con identificador \"3-1\" que fue creado el día 25 de agosto del año 2308 a las 14:00:00 (en formato UTC).'"
      ]
     },
     "execution_count": 97,
     "metadata": {},
     "output_type": "execute_result"
    }
   ],
   "source": [
    "answer_1 = gpt35_system_user(system_message=system_prompt_1, user_message=user_input)\n",
    "answer_1[\"text\"][\"content\"]"
   ]
  },
  {
   "cell_type": "code",
   "execution_count": 103,
   "metadata": {},
   "outputs": [
    {
     "data": {
      "text/plain": [
       "'Lo siento, pero no veo ninguna pregunta en el mensaje anterior. ¿Puedo ayudarte en algo más?'"
      ]
     },
     "execution_count": 103,
     "metadata": {},
     "output_type": "execute_result"
    }
   ],
   "source": [
    "user_input_1 = \"te pregunte por brasil?\"\n",
    "filter = {\"person_id\": \"20\"}\n",
    "db_results_1 = db.similarity_search_with_score(query=user_input_1, embeddings=embeddings, filter=filter, k=1)\n",
    "context_1 = \"{ message: \" + db_results_1[0][0].page_content + \", metadata: \" + str(db_results_1[0][0].metadata) + \" }\"\n",
    "system_prompt_1 = f\"\"\"\n",
    "Answer the user's question this message as context.\n",
    "Previous message: {context_1}\n",
    "\"\"\"\n",
    "answer_1 = gpt35_system_user(system_message=system_prompt_1, user_message=user_input_1)\n",
    "answer_1[\"text\"][\"content\"]"
   ]
  },
  {
   "cell_type": "code",
   "execution_count": 104,
   "metadata": {},
   "outputs": [
    {
     "name": "stdout",
     "output_type": "stream",
     "text": [
      "CONTEXT:{ message: {'role': 'user', 'content': 'Cual es la capital de Colombia?'}, metadata: {'session_id': '4', 'person_id': '20', 'message_id': '4-1', 'created_at': '20230825T15:00:00.000Z'} }\n"
     ]
    },
    {
     "data": {
      "text/plain": [
       "'Sí, hemos hablado sobre Colombia antes. La última vez que hablamos sobre Colombia fue en la sesión 4, cuando me preguntaste cuál era la capital de ese país. ¿Hay algo más en lo que pueda ayudarte?'"
      ]
     },
     "execution_count": 104,
     "metadata": {},
     "output_type": "execute_result"
    }
   ],
   "source": [
    "user_input_2 = \"alguna vez hablamos de colombia no? cuando fue eso?\"\n",
    "filter = {\"person_id\": \"20\"}\n",
    "db_results_2 = db.similarity_search_with_score(query=user_input_2, embeddings=embeddings, filter=filter, k=1)\n",
    "context_2 = \"{ message: \" + db_results_2[0][0].page_content + \", metadata: \" + str(db_results_2[0][0].metadata) + \" }\"\n",
    "print(f\"CONTEXT:{context_2}\")\n",
    "system_prompt_2 = f\"\"\"\n",
    "You are a personal assistant. \n",
    "You have access to all previous conversations with your user.\n",
    "All your responses should be based on the previous message provided.\n",
    "Previous message: {context_2}\n",
    "\"\"\"\n",
    "answer_2 = gpt35_system_user(system_message=system_prompt_2, user_message=user_input_2)\n",
    "answer_2[\"text\"][\"content\"]\n"
   ]
  },
  {
   "cell_type": "code",
   "execution_count": 105,
   "metadata": {},
   "outputs": [
    {
     "name": "stdout",
     "output_type": "stream",
     "text": [
      "CONTEXT:{ message: {'role': 'user', 'content': 'Cual es la capital de Argentina?'}, metadata: {'session_id': '1', 'person_id': '20', 'message_id': '1-1', 'created_at': '20230825T12:00:00.000Z'} }\n"
     ]
    },
    {
     "data": {
      "text/plain": [
       "'Según la metadata de la conversación, me preguntaste sobre la capital de Argentina el 25 de Agosto del 2023 a las 12:00:00 PM (UTC). ¿Hay algo más en lo que te pueda ayudar?'"
      ]
     },
     "execution_count": 105,
     "metadata": {},
     "output_type": "execute_result"
    }
   ],
   "source": [
    "user_input_3 = \"hace cuanto te habia preguntado por argentina?\"\n",
    "filter = {\"person_id\": \"20\"}\n",
    "db_results_3 = db.similarity_search_with_score(query=user_input_3, embeddings=embeddings, filter=filter, k=1)\n",
    "context_3 = \"{ message: \" + db_results_3[0][0].page_content + \", metadata: \" + str(db_results_3[0][0].metadata) + \" }\"\n",
    "print(f\"CONTEXT:{context_3}\")\n",
    "system_prompt_3 = f\"\"\"\n",
    "You are a personal assistant.\n",
    "You have access to all previous conversations with your user.\n",
    "All your responses should be based on the previous message provided.\n",
    "Previous message: {context_3}\n",
    "\"\"\"\n",
    "answer_3 = gpt35_system_user(system_message=system_prompt_3, user_message=user_input_3)\n",
    "answer_3[\"text\"][\"content\"]\n"
   ]
  }
 ],
 "metadata": {
  "kernelspec": {
   "display_name": "venv",
   "language": "python",
   "name": "python3"
  },
  "language_info": {
   "codemirror_mode": {
    "name": "ipython",
    "version": 3
   },
   "file_extension": ".py",
   "mimetype": "text/x-python",
   "name": "python",
   "nbconvert_exporter": "python",
   "pygments_lexer": "ipython3",
   "version": "3.9.9"
  },
  "orig_nbformat": 4
 },
 "nbformat": 4,
 "nbformat_minor": 2
}
